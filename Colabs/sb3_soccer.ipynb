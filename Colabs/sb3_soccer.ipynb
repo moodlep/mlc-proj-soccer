{
  "nbformat": 4,
  "nbformat_minor": 0,
  "metadata": {
    "colab": {
      "name": "sb3_soccer.ipynb",
      "provenance": [],
      "collapsed_sections": [
        "ynsnw2oprCYs",
        "WfoqIbXirpSJ",
        "ILyd8iEB6bYT",
        "eAwxzjsPUQNY"
      ],
      "authorship_tag": "ABX9TyMKatCVEJhnR0ZyOQbiN45U",
      "include_colab_link": true
    },
    "kernelspec": {
      "name": "python3",
      "display_name": "Python 3"
    },
    "language_info": {
      "name": "python"
    },
    "accelerator": "GPU"
  },
  "cells": [
    {
      "cell_type": "markdown",
      "metadata": {
        "id": "view-in-github",
        "colab_type": "text"
      },
      "source": [
        "<a href=\"https://colab.research.google.com/github/moodlep/mlc-proj-soccer/blob/main/Colabs/sb3_soccer.ipynb\" target=\"_parent\"><img src=\"https://colab.research.google.com/assets/colab-badge.svg\" alt=\"Open In Colab\"/></a>"
      ]
    },
    {
      "cell_type": "markdown",
      "source": [
        "# Installations"
      ],
      "metadata": {
        "id": "FsCNFqm8qZ7s"
      }
    },
    {
      "cell_type": "markdown",
      "source": [
        "Copied from dm_control introduction tutorial"
      ],
      "metadata": {
        "id": "hLCoQmNEqctX"
      }
    },
    {
      "cell_type": "markdown",
      "metadata": {
        "id": "YvyGCsgSCxHQ"
      },
      "source": [
        "### Installing `dm_control` on Colab\n",
        "\n",
        "This notebook provides an overview tutorial of DeepMind's `dm_control` package, hosted at the [deepmind/dm_control](https://github.com/deepmind/dm_control) repository on GitHub.\n",
        "\n",
        "It is adjunct to this [tech report](http://arxiv.org/abs/2006.12983).\n",
        "\n",
        "**A Colab runtime with GPU acceleration is required.** If you're using a CPU-only runtime, you can switch using the menu \"Runtime > Change runtime type\"."
      ]
    },
    {
      "cell_type": "code",
      "execution_count": 1,
      "metadata": {
        "id": "IbZxYDxzoz5R",
        "colab": {
          "base_uri": "https://localhost:8080/"
        },
        "outputId": "23156617-7998-4633-e0f0-e1bd1689cfba"
      },
      "outputs": [
        {
          "output_type": "stream",
          "name": "stdout",
          "text": [
            "Installing OpenGL dependencies...\n",
            "Downloading MuJoCo...\n",
            "Unpacking MuJoCo...\n",
            "env: MUJOCO_GL=egl\n",
            "Installing dm_control...\n",
            "\u001b[K     |████████████████████████████████| 38.6 MB 1.6 MB/s \n",
            "\u001b[K     |████████████████████████████████| 205 kB 35.1 MB/s \n",
            "\u001b[K     |████████████████████████████████| 4.9 MB 34.9 MB/s \n",
            "\u001b[?25hChecking that the dm_control installation succeeded...\n"
          ]
        },
        {
          "output_type": "stream",
          "name": "stderr",
          "text": [
            "Exception ignored in: <function _create_finalizer.<locals>.callback at 0x7fb01842fb00>\n",
            "Traceback (most recent call last):\n",
            "  File \"/usr/local/lib/python3.7/dist-packages/dm_control/mujoco/wrapper/core.py\", line 261, in callback\n",
            "  File \"/usr/local/lib/python3.7/dist-packages/dm_control/mujoco/wrapper/core.py\", line 802, in finalize_mjr_context\n",
            "  File \"/usr/lib/python3.7/contextlib.py\", line 112, in __enter__\n",
            "  File \"/usr/local/lib/python3.7/dist-packages/dm_control/_render/base.py\", line 114, in make_current\n",
            "RuntimeError: Cannot make context <dm_control._render.pyopengl.egl_renderer.EGLContext object at 0x7fb01840ef50> current on thread <Thread(_colab_inspector_thread, started daemon 140394442774272)>: this context is already current on another thread <_MainThread(MainThread, started 140395094841216)>.\n"
          ]
        }
      ],
      "source": [
        "# Run to install MuJoCo and `dm_control`\n",
        "import distutils.util\n",
        "import subprocess\n",
        "if subprocess.run('nvidia-smi').returncode:\n",
        "  raise RuntimeError(\n",
        "      'Cannot communicate with GPU. '\n",
        "      'Make sure you are using a GPU Colab runtime. '\n",
        "      'Go to the Runtime menu and select Choose runtime type.')\n",
        "\n",
        "mujoco_dir = \"$HOME/.mujoco\"\n",
        "\n",
        "print('Installing OpenGL dependencies...')\n",
        "!apt-get update -qq\n",
        "!apt-get install -qq -y --no-install-recommends libglew2.0 > /dev/null\n",
        "\n",
        "print('Downloading MuJoCo...')\n",
        "MUJOCO_VERSION = 210\n",
        "MUJOCO_ARCHIVE = (\n",
        "    f'mujoco{MUJOCO_VERSION}-{distutils.util.get_platform()}.tar.gz')\n",
        "!wget -q \"https://mujoco.org/download/{MUJOCO_ARCHIVE}\"\n",
        "!wget -q \"https://mujoco.org/download/{MUJOCO_ARCHIVE}.sha256\"\n",
        "check_result = !shasum -c \"{MUJOCO_ARCHIVE}.sha256\"\n",
        "if _exit_code:\n",
        "  raise RuntimeError(\n",
        "      'Downloaded MuJoCo archive is corrupted (checksum mismatch)')\n",
        "\n",
        "print('Unpacking MuJoCo...')\n",
        "MUJOCO_DIR = '$HOME/.mujoco'\n",
        "!mkdir -p \"{MUJOCO_DIR}\"\n",
        "!tar -zxf {MUJOCO_ARCHIVE} -C \"{MUJOCO_DIR}\"\n",
        "\n",
        "# Configure dm_control to use the EGL rendering backend (requires GPU)\n",
        "%env MUJOCO_GL=egl\n",
        "\n",
        "print('Installing dm_control...')\n",
        "!pip install -q dm_control\n",
        "\n",
        "print('Checking that the dm_control installation succeeded...')\n",
        "try:\n",
        "  from dm_control import suite\n",
        "  env = suite.load('cartpole', 'swingup')\n",
        "  pixels = env.physics.render()\n",
        "except Exception as e:\n",
        "  raise e from RuntimeError(\n",
        "      'Something went wrong during installation. Check the shell output above '\n",
        "      'for more information.\\n'\n",
        "      'If using a hosted Colab runtime, make sure you enable GPU acceleration '\n",
        "      'by going to the Runtime menu and selecting \"Choose runtime type\".')\n",
        "else:\n",
        "  del suite, env, pixels"
      ]
    },
    {
      "cell_type": "markdown",
      "source": [
        "## Installing SB3 - obsolete"
      ],
      "metadata": {
        "id": "ynsnw2oprCYs"
      }
    },
    {
      "cell_type": "code",
      "source": [
        "!apt-get install ffmpeg freeglut3-dev xvfb  # For visualization"
      ],
      "metadata": {
        "colab": {
          "base_uri": "https://localhost:8080/"
        },
        "id": "FyELA95BzTSG",
        "outputId": "bca813a4-e196-4a31-dab6-2b2971d96a19"
      },
      "execution_count": null,
      "outputs": [
        {
          "output_type": "stream",
          "name": "stdout",
          "text": [
            "Reading package lists... Done\n",
            "Building dependency tree       \n",
            "Reading state information... Done\n",
            "freeglut3-dev is already the newest version (2.8.1-3).\n",
            "freeglut3-dev set to manually installed.\n",
            "ffmpeg is already the newest version (7:3.4.8-0ubuntu0.2).\n",
            "The following additional packages will be installed:\n",
            "  xserver-common\n",
            "Recommended packages:\n",
            "  xfonts-base\n",
            "The following NEW packages will be installed:\n",
            "  xvfb\n",
            "The following packages will be upgraded:\n",
            "  xserver-common\n",
            "1 upgraded, 1 newly installed, 0 to remove and 84 not upgraded.\n",
            "Need to get 811 kB of archives.\n",
            "After this operation, 2,272 kB of additional disk space will be used.\n",
            "Get:1 http://archive.ubuntu.com/ubuntu bionic-updates/main amd64 xserver-common all 2:1.19.6-1ubuntu4.10 [26.9 kB]\n",
            "Get:2 http://archive.ubuntu.com/ubuntu bionic-updates/universe amd64 xvfb amd64 2:1.19.6-1ubuntu4.10 [784 kB]\n",
            "Fetched 811 kB in 1s (743 kB/s)\n",
            "(Reading database ... 155227 files and directories currently installed.)\n",
            "Preparing to unpack .../xserver-common_2%3a1.19.6-1ubuntu4.10_all.deb ...\n",
            "Unpacking xserver-common (2:1.19.6-1ubuntu4.10) over (2:1.19.6-1ubuntu4.9) ...\n",
            "Selecting previously unselected package xvfb.\n",
            "Preparing to unpack .../xvfb_2%3a1.19.6-1ubuntu4.10_amd64.deb ...\n",
            "Unpacking xvfb (2:1.19.6-1ubuntu4.10) ...\n",
            "Setting up xserver-common (2:1.19.6-1ubuntu4.10) ...\n",
            "Setting up xvfb (2:1.19.6-1ubuntu4.10) ...\n",
            "Processing triggers for man-db (2.8.3-2ubuntu0.1) ...\n"
          ]
        }
      ]
    },
    {
      "cell_type": "code",
      "source": [
        "!pip install stable-baselines3[extra]"
      ],
      "metadata": {
        "colab": {
          "base_uri": "https://localhost:8080/"
        },
        "id": "uEyavQqkxNQ1",
        "outputId": "4f7f5dc8-22ae-42e9-c483-62c740ac3ac8"
      },
      "execution_count": null,
      "outputs": [
        {
          "output_type": "stream",
          "name": "stdout",
          "text": [
            "Collecting stable-baselines3[extra]\n",
            "  Downloading stable_baselines3-1.3.0-py3-none-any.whl (174 kB)\n",
            "\u001b[?25l\r\u001b[K     |█▉                              | 10 kB 20.4 MB/s eta 0:00:01\r\u001b[K     |███▊                            | 20 kB 6.0 MB/s eta 0:00:01\r\u001b[K     |█████▋                          | 30 kB 5.3 MB/s eta 0:00:01\r\u001b[K     |███████▌                        | 40 kB 4.4 MB/s eta 0:00:01\r\u001b[K     |█████████▍                      | 51 kB 5.2 MB/s eta 0:00:01\r\u001b[K     |███████████▎                    | 61 kB 5.2 MB/s eta 0:00:01\r\u001b[K     |█████████████▏                  | 71 kB 4.4 MB/s eta 0:00:01\r\u001b[K     |███████████████                 | 81 kB 4.9 MB/s eta 0:00:01\r\u001b[K     |████████████████▉               | 92 kB 4.8 MB/s eta 0:00:01\r\u001b[K     |██████████████████▊             | 102 kB 5.1 MB/s eta 0:00:01\r\u001b[K     |████████████████████▋           | 112 kB 5.1 MB/s eta 0:00:01\r\u001b[K     |██████████████████████▌         | 122 kB 5.1 MB/s eta 0:00:01\r\u001b[K     |████████████████████████▍       | 133 kB 5.1 MB/s eta 0:00:01\r\u001b[K     |██████████████████████████▎     | 143 kB 5.1 MB/s eta 0:00:01\r\u001b[K     |████████████████████████████▏   | 153 kB 5.1 MB/s eta 0:00:01\r\u001b[K     |██████████████████████████████  | 163 kB 5.1 MB/s eta 0:00:01\r\u001b[K     |███████████████████████████████▉| 174 kB 5.1 MB/s eta 0:00:01\r\u001b[K     |████████████████████████████████| 174 kB 5.1 MB/s \n",
            "\u001b[?25hRequirement already satisfied: torch>=1.8.1 in /usr/local/lib/python3.7/dist-packages (from stable-baselines3[extra]) (1.10.0+cu111)\n",
            "Requirement already satisfied: numpy in /usr/local/lib/python3.7/dist-packages (from stable-baselines3[extra]) (1.19.5)\n",
            "Requirement already satisfied: matplotlib in /usr/local/lib/python3.7/dist-packages (from stable-baselines3[extra]) (3.2.2)\n",
            "Requirement already satisfied: gym<0.20,>=0.17 in /usr/local/lib/python3.7/dist-packages (from stable-baselines3[extra]) (0.17.3)\n",
            "Requirement already satisfied: pandas in /usr/local/lib/python3.7/dist-packages (from stable-baselines3[extra]) (1.1.5)\n",
            "Requirement already satisfied: cloudpickle in /usr/local/lib/python3.7/dist-packages (from stable-baselines3[extra]) (1.3.0)\n",
            "Requirement already satisfied: psutil in /usr/local/lib/python3.7/dist-packages (from stable-baselines3[extra]) (5.4.8)\n",
            "Requirement already satisfied: opencv-python in /usr/local/lib/python3.7/dist-packages (from stable-baselines3[extra]) (4.1.2.30)\n",
            "Requirement already satisfied: tensorboard>=2.2.0 in /usr/local/lib/python3.7/dist-packages (from stable-baselines3[extra]) (2.7.0)\n",
            "Requirement already satisfied: pillow in /usr/local/lib/python3.7/dist-packages (from stable-baselines3[extra]) (7.1.2)\n",
            "Requirement already satisfied: atari-py~=0.2.0 in /usr/local/lib/python3.7/dist-packages (from stable-baselines3[extra]) (0.2.9)\n",
            "Requirement already satisfied: six in /usr/local/lib/python3.7/dist-packages (from atari-py~=0.2.0->stable-baselines3[extra]) (1.15.0)\n",
            "Requirement already satisfied: pyglet<=1.5.0,>=1.4.0 in /usr/local/lib/python3.7/dist-packages (from gym<0.20,>=0.17->stable-baselines3[extra]) (1.5.0)\n",
            "Requirement already satisfied: scipy in /usr/local/lib/python3.7/dist-packages (from gym<0.20,>=0.17->stable-baselines3[extra]) (1.4.1)\n",
            "Requirement already satisfied: future in /usr/local/lib/python3.7/dist-packages (from pyglet<=1.5.0,>=1.4.0->gym<0.20,>=0.17->stable-baselines3[extra]) (0.16.0)\n",
            "Requirement already satisfied: markdown>=2.6.8 in /usr/local/lib/python3.7/dist-packages (from tensorboard>=2.2.0->stable-baselines3[extra]) (3.3.6)\n",
            "Requirement already satisfied: tensorboard-data-server<0.7.0,>=0.6.0 in /usr/local/lib/python3.7/dist-packages (from tensorboard>=2.2.0->stable-baselines3[extra]) (0.6.1)\n",
            "Requirement already satisfied: grpcio>=1.24.3 in /usr/local/lib/python3.7/dist-packages (from tensorboard>=2.2.0->stable-baselines3[extra]) (1.42.0)\n",
            "Requirement already satisfied: absl-py>=0.4 in /usr/local/lib/python3.7/dist-packages (from tensorboard>=2.2.0->stable-baselines3[extra]) (0.12.0)\n",
            "Requirement already satisfied: protobuf>=3.6.0 in /usr/local/lib/python3.7/dist-packages (from tensorboard>=2.2.0->stable-baselines3[extra]) (3.17.3)\n",
            "Requirement already satisfied: tensorboard-plugin-wit>=1.6.0 in /usr/local/lib/python3.7/dist-packages (from tensorboard>=2.2.0->stable-baselines3[extra]) (1.8.0)\n",
            "Requirement already satisfied: werkzeug>=0.11.15 in /usr/local/lib/python3.7/dist-packages (from tensorboard>=2.2.0->stable-baselines3[extra]) (1.0.1)\n",
            "Requirement already satisfied: wheel>=0.26 in /usr/local/lib/python3.7/dist-packages (from tensorboard>=2.2.0->stable-baselines3[extra]) (0.37.0)\n",
            "Requirement already satisfied: requests<3,>=2.21.0 in /usr/local/lib/python3.7/dist-packages (from tensorboard>=2.2.0->stable-baselines3[extra]) (2.23.0)\n",
            "Requirement already satisfied: setuptools>=41.0.0 in /usr/local/lib/python3.7/dist-packages (from tensorboard>=2.2.0->stable-baselines3[extra]) (57.4.0)\n",
            "Requirement already satisfied: google-auth-oauthlib<0.5,>=0.4.1 in /usr/local/lib/python3.7/dist-packages (from tensorboard>=2.2.0->stable-baselines3[extra]) (0.4.6)\n",
            "Requirement already satisfied: google-auth<3,>=1.6.3 in /usr/local/lib/python3.7/dist-packages (from tensorboard>=2.2.0->stable-baselines3[extra]) (1.35.0)\n",
            "Requirement already satisfied: pyasn1-modules>=0.2.1 in /usr/local/lib/python3.7/dist-packages (from google-auth<3,>=1.6.3->tensorboard>=2.2.0->stable-baselines3[extra]) (0.2.8)\n",
            "Requirement already satisfied: cachetools<5.0,>=2.0.0 in /usr/local/lib/python3.7/dist-packages (from google-auth<3,>=1.6.3->tensorboard>=2.2.0->stable-baselines3[extra]) (4.2.4)\n",
            "Requirement already satisfied: rsa<5,>=3.1.4 in /usr/local/lib/python3.7/dist-packages (from google-auth<3,>=1.6.3->tensorboard>=2.2.0->stable-baselines3[extra]) (4.8)\n",
            "Requirement already satisfied: requests-oauthlib>=0.7.0 in /usr/local/lib/python3.7/dist-packages (from google-auth-oauthlib<0.5,>=0.4.1->tensorboard>=2.2.0->stable-baselines3[extra]) (1.3.0)\n",
            "Requirement already satisfied: importlib-metadata>=4.4 in /usr/local/lib/python3.7/dist-packages (from markdown>=2.6.8->tensorboard>=2.2.0->stable-baselines3[extra]) (4.8.2)\n",
            "Requirement already satisfied: typing-extensions>=3.6.4 in /usr/local/lib/python3.7/dist-packages (from importlib-metadata>=4.4->markdown>=2.6.8->tensorboard>=2.2.0->stable-baselines3[extra]) (3.10.0.2)\n",
            "Requirement already satisfied: zipp>=0.5 in /usr/local/lib/python3.7/dist-packages (from importlib-metadata>=4.4->markdown>=2.6.8->tensorboard>=2.2.0->stable-baselines3[extra]) (3.6.0)\n",
            "Requirement already satisfied: pyasn1<0.5.0,>=0.4.6 in /usr/local/lib/python3.7/dist-packages (from pyasn1-modules>=0.2.1->google-auth<3,>=1.6.3->tensorboard>=2.2.0->stable-baselines3[extra]) (0.4.8)\n",
            "Requirement already satisfied: chardet<4,>=3.0.2 in /usr/local/lib/python3.7/dist-packages (from requests<3,>=2.21.0->tensorboard>=2.2.0->stable-baselines3[extra]) (3.0.4)\n",
            "Requirement already satisfied: urllib3!=1.25.0,!=1.25.1,<1.26,>=1.21.1 in /usr/local/lib/python3.7/dist-packages (from requests<3,>=2.21.0->tensorboard>=2.2.0->stable-baselines3[extra]) (1.24.3)\n",
            "Requirement already satisfied: certifi>=2017.4.17 in /usr/local/lib/python3.7/dist-packages (from requests<3,>=2.21.0->tensorboard>=2.2.0->stable-baselines3[extra]) (2021.10.8)\n",
            "Requirement already satisfied: idna<3,>=2.5 in /usr/local/lib/python3.7/dist-packages (from requests<3,>=2.21.0->tensorboard>=2.2.0->stable-baselines3[extra]) (2.10)\n",
            "Requirement already satisfied: oauthlib>=3.0.0 in /usr/local/lib/python3.7/dist-packages (from requests-oauthlib>=0.7.0->google-auth-oauthlib<0.5,>=0.4.1->tensorboard>=2.2.0->stable-baselines3[extra]) (3.1.1)\n",
            "Requirement already satisfied: cycler>=0.10 in /usr/local/lib/python3.7/dist-packages (from matplotlib->stable-baselines3[extra]) (0.11.0)\n",
            "Requirement already satisfied: python-dateutil>=2.1 in /usr/local/lib/python3.7/dist-packages (from matplotlib->stable-baselines3[extra]) (2.8.2)\n",
            "Requirement already satisfied: pyparsing!=2.0.4,!=2.1.2,!=2.1.6,>=2.0.1 in /usr/local/lib/python3.7/dist-packages (from matplotlib->stable-baselines3[extra]) (3.0.6)\n",
            "Requirement already satisfied: kiwisolver>=1.0.1 in /usr/local/lib/python3.7/dist-packages (from matplotlib->stable-baselines3[extra]) (1.3.2)\n",
            "Requirement already satisfied: pytz>=2017.2 in /usr/local/lib/python3.7/dist-packages (from pandas->stable-baselines3[extra]) (2018.9)\n",
            "Installing collected packages: stable-baselines3\n",
            "Successfully installed stable-baselines3-1.3.0\n"
          ]
        }
      ]
    },
    {
      "cell_type": "markdown",
      "metadata": {
        "id": "wtDN43hIJh2C"
      },
      "source": [
        "# Imports\n",
        "\n",
        "dm_control imports"
      ]
    },
    {
      "cell_type": "code",
      "execution_count": 2,
      "metadata": {
        "id": "T5f4w3Kq2X14"
      },
      "outputs": [],
      "source": [
        "# All `dm_control` imports required for this tutorial\n",
        "\n",
        "# The basic mujoco wrapper.\n",
        "from dm_control import mujoco\n",
        "\n",
        "# Access to enums and MuJoCo library functions.\n",
        "from dm_control.mujoco.wrapper.mjbindings import enums\n",
        "from dm_control.mujoco.wrapper.mjbindings import mjlib\n",
        "\n",
        "# PyMJCF\n",
        "from dm_control import mjcf\n",
        "\n",
        "# Composer high level imports\n",
        "from dm_control import composer\n",
        "from dm_control.composer.observation import observable\n",
        "from dm_control.composer import variation\n",
        "\n",
        "# Imports for Composer tutorial example\n",
        "from dm_control.composer.variation import distributions\n",
        "from dm_control.composer.variation import noises\n",
        "from dm_control.locomotion.arenas import floors\n",
        "\n",
        "# Control Suite\n",
        "from dm_control import suite\n",
        "\n",
        "# Run through corridor example\n",
        "from dm_control.locomotion.walkers import cmu_humanoid\n",
        "from dm_control.locomotion.arenas import corridors as corridor_arenas\n",
        "from dm_control.locomotion.tasks import corridors as corridor_tasks\n",
        "\n",
        "# Soccer\n",
        "from dm_control.locomotion import soccer\n",
        "\n",
        "# Manipulation\n",
        "from dm_control import manipulation"
      ]
    },
    {
      "cell_type": "code",
      "execution_count": 3,
      "metadata": {
        "id": "gKc1FNhKiVJX"
      },
      "outputs": [],
      "source": [
        "# Other imports and helper functions\n",
        "\n",
        "# General\n",
        "import copy\n",
        "import os\n",
        "import itertools\n",
        "from IPython.display import clear_output\n",
        "import numpy as np\n",
        "\n",
        "# Graphics-related\n",
        "import matplotlib\n",
        "import matplotlib.animation as animation\n",
        "import matplotlib.pyplot as plt\n",
        "from IPython.display import HTML\n",
        "import PIL.Image\n",
        "# Internal loading of video libraries.\n",
        "\n",
        "# Use svg backend for figure rendering\n",
        "%config InlineBackend.figure_format = 'svg'\n",
        "\n",
        "# Font sizes\n",
        "SMALL_SIZE = 8\n",
        "MEDIUM_SIZE = 10\n",
        "BIGGER_SIZE = 12\n",
        "plt.rc('font', size=SMALL_SIZE)          # controls default text sizes\n",
        "plt.rc('axes', titlesize=SMALL_SIZE)     # fontsize of the axes title\n",
        "plt.rc('axes', labelsize=MEDIUM_SIZE)    # fontsize of the x and y labels\n",
        "plt.rc('xtick', labelsize=SMALL_SIZE)    # fontsize of the tick labels\n",
        "plt.rc('ytick', labelsize=SMALL_SIZE)    # fontsize of the tick labels\n",
        "plt.rc('legend', fontsize=SMALL_SIZE)    # legend fontsize\n",
        "plt.rc('figure', titlesize=BIGGER_SIZE)  # fontsize of the figure title\n",
        "\n",
        "# Inline video helper function\n",
        "if os.environ.get('COLAB_NOTEBOOK_TEST', False):\n",
        "  # We skip video generation during tests, as it is quite expensive.\n",
        "  display_video = lambda *args, **kwargs: None\n",
        "else:\n",
        "  def display_video(frames, framerate=30):\n",
        "    height, width, _ = frames[0].shape\n",
        "    dpi = 70\n",
        "    orig_backend = matplotlib.get_backend()\n",
        "    matplotlib.use('Agg')  # Switch to headless 'Agg' to inhibit figure rendering.\n",
        "    fig, ax = plt.subplots(1, 1, figsize=(width / dpi, height / dpi), dpi=dpi)\n",
        "    matplotlib.use(orig_backend)  # Switch back to the original backend.\n",
        "    ax.set_axis_off()\n",
        "    ax.set_aspect('equal')\n",
        "    ax.set_position([0, 0, 1, 1])\n",
        "    im = ax.imshow(frames[0])\n",
        "    def update(frame):\n",
        "      im.set_data(frame)\n",
        "      return [im]\n",
        "    interval = 1000/framerate\n",
        "    anim = animation.FuncAnimation(fig=fig, func=update, frames=frames,\n",
        "                                   interval=interval, blit=True, repeat=False)\n",
        "    return HTML(anim.to_html5_video())\n",
        "\n",
        "# Seed numpy's global RNG so that cell outputs are deterministic. We also try to\n",
        "# use RandomState instances that are local to a single cell wherever possible.\n",
        "np.random.seed(42)"
      ]
    },
    {
      "cell_type": "markdown",
      "source": [
        "## Other imports"
      ],
      "metadata": {
        "id": "qdo2TnRVrgns"
      }
    },
    {
      "cell_type": "code",
      "execution_count": 4,
      "metadata": {
        "id": "XjjV13FFw8j8"
      },
      "outputs": [],
      "source": [
        "import gym\n",
        "import torch\n",
        "import numpy as np\n",
        "import pandas as pd\n",
        "import matplotlib.pyplot as plt\n"
      ]
    },
    {
      "cell_type": "markdown",
      "source": [
        "# Testing installations"
      ],
      "metadata": {
        "id": "aBzw40kNqmIk"
      }
    },
    {
      "cell_type": "markdown",
      "source": [
        "## Paper links: \n",
        "\n",
        "https://arxiv.org/pdf/2006.12983.pdf\n",
        "\n",
        "https://arxiv.org/pdf/1902.07151.pdf\n",
        "\n"
      ],
      "metadata": {
        "id": "_BNjAD_UNveR"
      }
    },
    {
      "cell_type": "markdown",
      "source": [
        "## SB3"
      ],
      "metadata": {
        "id": "WfoqIbXirpSJ"
      }
    },
    {
      "cell_type": "code",
      "source": [
        "from stable_baselines3 import PPO\n",
        "\n",
        "env = gym.make(\"CartPole-v1\")\n",
        "\n",
        "model = PPO(\"MlpPolicy\", env, verbose=1)\n",
        "model.learn(total_timesteps=10000)\n",
        "\n",
        "obs = env.reset()\n",
        "for i in range(1000):\n",
        "    action, _states = model.predict(obs, deterministic=True)\n",
        "    obs, reward, done, info = env.step(action)\n",
        "    # env.render()\n",
        "    if done:\n",
        "      obs = env.reset()\n",
        "\n",
        "env.close()"
      ],
      "metadata": {
        "id": "GNTy1rj6y2Vd"
      },
      "execution_count": null,
      "outputs": []
    },
    {
      "cell_type": "code",
      "source": [
        "# Set up fake display; otherwise rendering will fail\n",
        "# import os\n",
        "# os.system(\"Xvfb :1 -screen 0 1024x768x24 &\")\n",
        "# os.environ['DISPLAY'] = ':1'"
      ],
      "metadata": {
        "id": "VuokHFZCz7P6"
      },
      "execution_count": null,
      "outputs": []
    },
    {
      "cell_type": "markdown",
      "source": [
        "Errors with display (rendering)\n",
        "\n",
        "https://stackoverflow.com/questions/53472940/nameerror-name-base-is-not-defined-openai-gym\n",
        "\n",
        "\n",
        "https://davidrpugh.github.io/stochastic-expatriate-descent/openai/binder/google-colab/2020/04/16/remote-rendering-gym-envs.html\n",
        "\n"
      ],
      "metadata": {
        "id": "9RBy0aFf07iC"
      }
    },
    {
      "cell_type": "markdown",
      "source": [
        "## Testing dm_control (taken from tutorial)"
      ],
      "metadata": {
        "id": "7Oehjtyxrstd"
      }
    },
    {
      "cell_type": "markdown",
      "metadata": {
        "id": "HuuQLm8YopDe"
      },
      "source": [
        "### Multi-Agent Soccer"
      ]
    },
    {
      "cell_type": "markdown",
      "metadata": {
        "id": "OPNshDEEopDf"
      },
      "source": [
        "Building on Composer and Locomotion libraries, the Multi-agent soccer environments, introduced in [this paper](https://arxiv.org/abs/1902.07151), follow a consistent task structure of Walkers, Arena, and Task where instead of a single walker, we inject multiple walkers that can interact with each other physically in the same scene. The code snippet below shows how to instantiate a 2-vs-2 Multi-agent Soccer environment with the simple, 5 degree-of-freedom `BoxHead` walker type."
      ]
    },
    {
      "cell_type": "code",
      "execution_count": 5,
      "metadata": {
        "id": "zAb3je0DAeQo",
        "colab": {
          "base_uri": "https://localhost:8080/",
          "height": 497
        },
        "outputId": "c82c07cb-9dde-4c21-e6b5-5e4cc9cb8df8"
      },
      "outputs": [
        {
          "output_type": "execute_result",
          "data": {
            "image/png": "[encoded data removed]",
            "text/plain": [
              "<PIL.Image.Image image mode=RGB size=720x480 at 0x7FAF0B3E8890>"
            ]
          },
          "metadata": {},
          "execution_count": 5
        }
      ],
      "source": [
        "#@title 2-v-2 `Boxhead` soccer\n",
        "\n",
        "random_state = np.random.RandomState(42)\n",
        "env = soccer.load(\n",
        "    team_size=2,\n",
        "    time_limit=45.,\n",
        "    random_state=random_state,\n",
        "    disable_walker_contacts=False,\n",
        "    walker_type=soccer.WalkerType.BOXHEAD,\n",
        "    terminate_on_goal=True\n",
        ")\n",
        "env.reset()\n",
        "pixels = []\n",
        "# Select a random subset of 6 cameras (soccer envs have lots of cameras)\n",
        "cameras = random_state.choice(env.physics.model.ncam, 6, replace=False)\n",
        "for camera_id in cameras:\n",
        "  pixels.append(env.physics.render(camera_id=camera_id, width=240))\n",
        "image = np.vstack((np.hstack(pixels[:3]), np.hstack(pixels[3:])))\n",
        "PIL.Image.fromarray(image)"
      ]
    },
    {
      "cell_type": "markdown",
      "source": [
        "#### Managing Observations"
      ],
      "metadata": {
        "id": "9KsNksEkSQVj"
      }
    },
    {
      "cell_type": "code",
      "source": [
        "state = env.reset()\n",
        "state"
      ],
      "metadata": {
        "id": "F59nGMOausDN",
        "colab": {
          "base_uri": "https://localhost:8080/"
        },
        "outputId": "3c8a0d63-8fd2-43ed-d4fa-7aaa1dad010d"
      },
      "execution_count": 6,
      "outputs": [
        {
          "output_type": "execute_result",
          "data": {
            "text/plain": [
              "TimeStep(step_type=<StepType.FIRST: 0>, reward=None, discount=None, observation=[OrderedDict([('body_height', array([1.])), ('end_effectors_pos', array([[0., 0., 0.]])), ('joints_pos', array([[0.]])), ('joints_vel', array([[0.]])), ('prev_action', array([[0., 0., 0.]])), ('sensors_accelerometer', array([[-1.44971364e-55,  2.51767267e-42,  0.00000000e+00]])), ('sensors_gyro', array([[-0.,  0.,  0.]])), ('sensors_velocimeter', array([[-0.,  0.,  0.]])), ('world_zaxis', array([[-0.,  0.,  1.]])), ('ball_ego_angular_velocity', array([[0., 0., 0.]])), ('ball_ego_position', array([[-4.59061861, 11.14147135, -0.15      ]])), ('ball_ego_linear_velocity', array([[0., 0., 0.]])), ('teammate_0_ego_linear_velocity', array([[0., 0., 0.]])), ('teammate_0_ego_position', array([[-28.45943793, -11.24506866,   0.        ]])), ('teammate_0_ego_orientation', array([[-0.99806643,  0.06215631,  0.        , -0.06215631, -0.99806643,\n",
              "         0.        ,  0.        ,  0.        ,  1.        ]])), ('teammate_0_ego_end_effectors_pos', array([[-28.45943793, -11.24506866,   0.        ]])), ('teammate_0_end_effectors_pos', array([[0., 0., 0.]])), ('opponent_0_ego_linear_velocity', array([[0., 0., 0.]])), ('opponent_0_ego_position', array([[-7.38053507,  5.66572583,  0.        ]])), ('opponent_0_ego_orientation', array([[ 0.89913622,  0.43766888,  0.        , -0.43766888,  0.89913622,\n",
              "         0.        ,  0.        ,  0.        ,  1.        ]])), ('opponent_0_ego_end_effectors_pos', array([[-7.38053507,  5.66572583,  0.        ]])), ('opponent_0_end_effectors_pos', array([[0., 0., 0.]])), ('opponent_1_ego_linear_velocity', array([[0., 0., 0.]])), ('opponent_1_ego_position', array([[-9.52602946,  5.58326542,  0.        ]])), ('opponent_1_ego_orientation', array([[ 0.74776624, -0.66396209,  0.        ,  0.66396209,  0.74776624,\n",
              "         0.        ,  0.        ,  0.        ,  1.        ]])), ('opponent_1_ego_end_effectors_pos', array([[-9.52602946,  5.58326542,  0.        ]])), ('opponent_1_end_effectors_pos', array([[0., 0., 0.]])), ('team_goal_back_right', array([[ 29.35289199, -12.43655322]])), ('team_goal_mid', array([[ 22.78454984, -20.62209572,   1.66666667]])), ('team_goal_front_left', array([[ 16.21620769, -28.80763823]])), ('field_front_left', array([[-66.25435466,  -8.77041091]])), ('opponent_goal_back_left', array([[-64.90641707,   7.35312869]])), ('opponent_goal_mid', array([[-58.33807492,  15.5386712 ,   1.66666667]])), ('opponent_goal_front_right', array([[-51.76973276,  23.7242137 ]])), ('field_back_right', array([[30.70082958,  3.68698638]])), ('stats_vel_to_ball', array([0.])), ('stats_closest_vel_to_ball', array([0.])), ('stats_veloc_forward', array([-0.])), ('stats_vel_ball_to_goal', array([0.])), ('stats_home_avg_teammate_dist', array([30.60050941])), ('stats_teammate_spread_out', array([ True])), ('stats_home_score', array([0.])), ('stats_away_score', array([0.]))]), OrderedDict([('body_height', array([1.])), ('end_effectors_pos', array([[0., 0., 0.]])), ('joints_pos', array([[0.]])), ('joints_vel', array([[0.]])), ('prev_action', array([[0., 0., 0.]])), ('sensors_accelerometer', array([[0., 0., 0.]])), ('sensors_gyro', array([[0., 0., 0.]])), ('sensors_velocimeter', array([[0., 0., 0.]])), ('world_zaxis', array([[0., 0., 1.]])), ('ball_ego_angular_velocity', array([[0., 0., 0.]])), ('ball_ego_position', array([[-25.21413199, -20.85965621,  -0.15      ]])), ('ball_ego_linear_velocity', array([[0., 0., 0.]])), ('teammate_0_ego_linear_velocity', array([[0., 0., 0.]])), ('teammate_0_ego_position', array([[-29.10336153,  -9.45439177,   0.        ]])), ('teammate_0_ego_orientation', array([[-0.99806643, -0.06215631,  0.        ,  0.06215631, -0.99806643,\n",
              "         0.        ,  0.        ,  0.        ,  1.        ]])), ('teammate_0_ego_end_effectors_pos', array([[-29.10336153,  -9.45439177,   0.        ]])), ('teammate_0_end_effectors_pos', array([[0., 0., 0.]])), ('opponent_0_ego_linear_velocity', array([[0., 0., 0.]])), ('opponent_0_ego_position', array([[-22.08925789, -15.56790936,   0.        ]])), ('opponent_0_ego_orientation', array([[-0.8701938 , -0.49270961,  0.        ,  0.49270961, -0.8701938 ,\n",
              "         0.        ,  0.        ,  0.        ,  1.        ]])), ('opponent_0_ego_end_effectors_pos', array([[-22.08925789, -15.56790936,   0.        ]])), ('opponent_0_end_effectors_pos', array([[0., 0., 0.]])), ('opponent_1_ego_linear_velocity', array([[0., 0., 0.]])), ('opponent_1_ego_position', array([[-19.94278654, -15.61896441,   0.        ]])), ('opponent_1_ego_orientation', array([[-0.78758981,  0.61619988,  0.        , -0.61619988, -0.78758981,\n",
              "         0.        ,  0.        ,  0.        ,  1.        ]])), ('opponent_1_ego_end_effectors_pos', array([[-19.94278654, -15.61896441,   0.        ]])), ('opponent_1_end_effectors_pos', array([[0., 0., 0.]])), ('team_goal_back_right', array([[-57.62648727,   4.782582  ]])), ('team_goal_mid', array([[-50.56206235,  12.54403323,   1.66666667]])), ('team_goal_front_left', array([[-43.49763742,  20.30548447]])), ('field_front_left', array([[37.5680219 , -4.81906549]])), ('opponent_goal_back_left', array([[ 35.22051087, -20.82764622]])), ('opponent_goal_mid', array([[ 28.15608595, -28.58909745,   1.66666667]])), ('opponent_goal_front_right', array([[ 21.09166102, -36.35054868]])), ('field_back_right', array([[-59.9739983 , -11.22599873]])), ('stats_vel_to_ball', array([0.])), ('stats_closest_vel_to_ball', array([0.])), ('stats_veloc_forward', array([0.])), ('stats_vel_ball_to_goal', array([0.])), ('stats_home_avg_teammate_dist', array([30.60050941])), ('stats_teammate_spread_out', array([ True])), ('stats_home_score', array([0.])), ('stats_away_score', array([0.]))]), OrderedDict([('body_height', array([1.])), ('end_effectors_pos', array([[0., 0., 0.]])), ('joints_pos', array([[0.]])), ('joints_vel', array([[0.]])), ('prev_action', array([[0., 0., 0.]])), ('sensors_accelerometer', array([[-2.01446060e-35, -6.78862962e-37,  0.00000000e+00]])), ('sensors_gyro', array([[ 0., -0.,  0.]])), ('sensors_velocimeter', array([[ 0., -0.,  0.]])), ('world_zaxis', array([[ 0., -0.,  1.]])), ('ball_ego_angular_velocity', array([[0., 0., 0.]])), ('ball_ego_position', array([[ 0.11195153,  6.14450077, -0.15      ]])), ('ball_ego_linear_velocity', array([[0., 0., 0.]])), ('opponent_0_ego_linear_velocity', array([[0., 0., 0.]])), ('opponent_0_ego_position', array([[ 9.11581833, -1.86402881,  0.        ]])), ('opponent_0_ego_orientation', array([[ 0.89913622, -0.43766888,  0.        ,  0.43766888,  0.89913622,\n",
              "         0.        ,  0.        ,  0.        ,  1.        ]])), ('opponent_0_ego_end_effectors_pos', array([[ 9.11581833, -1.86402881,  0.        ]])), ('opponent_0_end_effectors_pos', array([[0., 0., 0.]])), ('opponent_1_ego_linear_velocity', array([[0., 0., 0.]])), ('opponent_1_ego_position', array([[-11.55147662, -24.43068775,   0.        ]])), ('opponent_1_ego_orientation', array([[-0.8701938 ,  0.49270961,  0.        , -0.49270961, -0.8701938 ,\n",
              "         0.        ,  0.        ,  0.        ,  1.        ]])), ('opponent_1_ego_end_effectors_pos', array([[-11.55147662, -24.43068775,   0.        ]])), ('opponent_1_end_effectors_pos', array([[0., 0., 0.]])), ('teammate_0_ego_linear_velocity', array([[0., 0., 0.]])), ('teammate_0_ego_position', array([[-1.89300137, -1.01315927,  0.        ]])), ('teammate_0_ego_orientation', array([[ 0.38174817, -0.92426638,  0.        ,  0.92426638,  0.38174817,\n",
              "         0.        ,  0.        ,  0.        ,  1.        ]])), ('teammate_0_ego_end_effectors_pos', array([[-1.89300137, -1.01315927,  0.        ]])), ('teammate_0_end_effectors_pos', array([[0., 0., 0.]])), ('team_goal_back_right', array([[-52.46212807, -23.6600834 ]])), ('team_goal_mid', array([[-50.13885094, -13.42540665,   1.66666667]])), ('team_goal_front_left', array([[-47.81557381,  -3.1907299 ]])), ('field_front_left', array([[35.10636712, 14.88787195]])), ('opponent_goal_back_left', array([[40.95115914, -0.19933691]])), ('opponent_goal_mid', array([[ 38.62788201, -10.43401365,   1.66666667]])), ('opponent_goal_front_right', array([[ 36.30460488, -20.6686904 ]])), ('field_back_right', array([[-46.61733604, -38.74729226]])), ('stats_vel_to_ball', array([0.])), ('stats_closest_vel_to_ball', array([0.])), ('stats_veloc_forward', array([0.])), ('stats_vel_ball_to_goal', array([0.])), ('stats_home_avg_teammate_dist', array([2.14707846])), ('stats_teammate_spread_out', array([False])), ('stats_home_score', array([0.])), ('stats_away_score', array([0.]))]), OrderedDict([('body_height', array([1.])), ('end_effectors_pos', array([[0., 0., 0.]])), ('joints_pos', array([[0.]])), ('joints_vel', array([[0.]])), ('prev_action', array([[0., 0., 0.]])), ('sensors_accelerometer', array([[0., 0., 0.]])), ('sensors_gyro', array([[-0.,  0.,  0.]])), ('sensors_velocimeter', array([[-0.,  0.,  0.]])), ('world_zaxis', array([[-0.,  0.,  1.]])), ('ball_ego_angular_velocity', array([[0., 0., 0.]])), ('ball_ego_position', array([[ 7.38097161,  0.87931305, -0.15      ]])), ('ball_ego_linear_velocity', array([[0., 0., 0.]])), ('opponent_0_ego_linear_velocity', array([[0., 0., 0.]])), ('opponent_0_ego_position', array([[  3.41616665, -10.49989979,   0.        ]])), ('opponent_0_ego_orientation', array([[ 0.74776624,  0.66396209,  0.        , -0.66396209,  0.74776624,\n",
              "         0.        ,  0.        ,  0.        ,  1.        ]])), ('opponent_0_ego_end_effectors_pos', array([[  3.41616665, -10.49989979,   0.        ]])), ('opponent_0_end_effectors_pos', array([[0., 0., 0.]])), ('opponent_1_ego_linear_velocity', array([[0., 0., 0.]])), ('opponent_1_ego_position', array([[-2.53311394e+01, -1.25946608e-02,  0.00000000e+00]])), ('opponent_1_ego_orientation', array([[-0.78758981, -0.61619988,  0.        ,  0.61619988, -0.78758981,\n",
              "         0.        ,  0.        ,  0.        ,  1.        ]])), ('opponent_1_ego_end_effectors_pos', array([[-2.53311394e+01, -1.25946608e-02,  0.00000000e+00]])), ('opponent_1_end_effectors_pos', array([[0., 0., 0.]])), ('teammate_0_ego_linear_velocity', array([[0., 0., 0.]])), ('teammate_0_ego_position', array([[ 1.65907886, -1.36286582,  0.        ]])), ('teammate_0_ego_orientation', array([[ 0.38174817,  0.92426638,  0.        , -0.92426638,  0.38174817,\n",
              "         0.        ,  0.        ,  0.        ,  1.        ]])), ('teammate_0_ego_end_effectors_pos', array([[ 1.65907886, -1.36286582,  0.        ]])), ('teammate_0_end_effectors_pos', array([[0., 0., 0.]])), ('team_goal_back_right', array([[-40.23646198,  38.09392175]])), ('team_goal_mid', array([[-29.88998759,  39.85366391,   1.66666667]])), ('team_goal_front_left', array([[-19.5435132 ,  41.61340607]])), ('field_front_left', array([[ 28.82122966, -28.12708275]])), ('opponent_goal_back_left', array([[ 17.10786842, -39.28874184]])), ('opponent_goal_mid', array([[  6.76139403, -41.048484  ,   1.66666667]])), ('opponent_goal_front_right', array([[ -3.58508035, -42.80822615]])), ('field_back_right', array([[-51.94982321,  26.93226266]])), ('stats_vel_to_ball', array([0.])), ('stats_closest_vel_to_ball', array([0.])), ('stats_veloc_forward', array([-0.])), ('stats_vel_ball_to_goal', array([0.])), ('stats_home_avg_teammate_dist', array([2.14707846])), ('stats_teammate_spread_out', array([False])), ('stats_home_score', array([0.])), ('stats_away_score', array([0.]))])])"
            ]
          },
          "metadata": {},
          "execution_count": 6
        }
      ]
    },
    {
      "cell_type": "code",
      "source": [
        "# https://github.com/hcch0912/gym_wrapper_dm_soccer/blob/master/soccer_wrapper.py\n",
        "\n",
        "def parse_obs(observation, n_agents):\n",
        "        obs = [[]] \n",
        "        for i in range(n_agents):\n",
        "            for _, v in observation[i].items():\n",
        "                v = v.flatten()\n",
        "                for j in range(len(v)):\n",
        "                    obs[i].append(float(v[j]))\n",
        "                    \n",
        "        return obs"
      ],
      "metadata": {
        "id": "OqJ2FGi22PJ9"
      },
      "execution_count": 7,
      "outputs": []
    },
    {
      "cell_type": "code",
      "source": [
        "observation = state.observation\n",
        "n_agents = 4\n",
        "obs = [[]] * n_agents\n",
        "obs, observation[0]"
      ],
      "metadata": {
        "colab": {
          "base_uri": "https://localhost:8080/"
        },
        "id": "tLM9rwOBSix7",
        "outputId": "8ed28584-2c20-4edf-c686-9cf441de4b77"
      },
      "execution_count": 8,
      "outputs": [
        {
          "output_type": "execute_result",
          "data": {
            "text/plain": [
              "([[], [], [], []],\n",
              " OrderedDict([('body_height', array([1.])),\n",
              "              ('end_effectors_pos', array([[0., 0., 0.]])),\n",
              "              ('joints_pos', array([[0.]])),\n",
              "              ('joints_vel', array([[0.]])),\n",
              "              ('prev_action', array([[0., 0., 0.]])),\n",
              "              ('sensors_accelerometer',\n",
              "               array([[-1.44971364e-55,  2.51767267e-42,  0.00000000e+00]])),\n",
              "              ('sensors_gyro', array([[-0.,  0.,  0.]])),\n",
              "              ('sensors_velocimeter', array([[-0.,  0.,  0.]])),\n",
              "              ('world_zaxis', array([[-0.,  0.,  1.]])),\n",
              "              ('ball_ego_angular_velocity', array([[0., 0., 0.]])),\n",
              "              ('ball_ego_position',\n",
              "               array([[-4.59061861, 11.14147135, -0.15      ]])),\n",
              "              ('ball_ego_linear_velocity', array([[0., 0., 0.]])),\n",
              "              ('teammate_0_ego_linear_velocity', array([[0., 0., 0.]])),\n",
              "              ('teammate_0_ego_position',\n",
              "               array([[-28.45943793, -11.24506866,   0.        ]])),\n",
              "              ('teammate_0_ego_orientation',\n",
              "               array([[-0.99806643,  0.06215631,  0.        , -0.06215631, -0.99806643,\n",
              "                        0.        ,  0.        ,  0.        ,  1.        ]])),\n",
              "              ('teammate_0_ego_end_effectors_pos',\n",
              "               array([[-28.45943793, -11.24506866,   0.        ]])),\n",
              "              ('teammate_0_end_effectors_pos', array([[0., 0., 0.]])),\n",
              "              ('opponent_0_ego_linear_velocity', array([[0., 0., 0.]])),\n",
              "              ('opponent_0_ego_position',\n",
              "               array([[-7.38053507,  5.66572583,  0.        ]])),\n",
              "              ('opponent_0_ego_orientation',\n",
              "               array([[ 0.89913622,  0.43766888,  0.        , -0.43766888,  0.89913622,\n",
              "                        0.        ,  0.        ,  0.        ,  1.        ]])),\n",
              "              ('opponent_0_ego_end_effectors_pos',\n",
              "               array([[-7.38053507,  5.66572583,  0.        ]])),\n",
              "              ('opponent_0_end_effectors_pos', array([[0., 0., 0.]])),\n",
              "              ('opponent_1_ego_linear_velocity', array([[0., 0., 0.]])),\n",
              "              ('opponent_1_ego_position',\n",
              "               array([[-9.52602946,  5.58326542,  0.        ]])),\n",
              "              ('opponent_1_ego_orientation',\n",
              "               array([[ 0.74776624, -0.66396209,  0.        ,  0.66396209,  0.74776624,\n",
              "                        0.        ,  0.        ,  0.        ,  1.        ]])),\n",
              "              ('opponent_1_ego_end_effectors_pos',\n",
              "               array([[-9.52602946,  5.58326542,  0.        ]])),\n",
              "              ('opponent_1_end_effectors_pos', array([[0., 0., 0.]])),\n",
              "              ('team_goal_back_right', array([[ 29.35289199, -12.43655322]])),\n",
              "              ('team_goal_mid',\n",
              "               array([[ 22.78454984, -20.62209572,   1.66666667]])),\n",
              "              ('team_goal_front_left', array([[ 16.21620769, -28.80763823]])),\n",
              "              ('field_front_left', array([[-66.25435466,  -8.77041091]])),\n",
              "              ('opponent_goal_back_left',\n",
              "               array([[-64.90641707,   7.35312869]])),\n",
              "              ('opponent_goal_mid',\n",
              "               array([[-58.33807492,  15.5386712 ,   1.66666667]])),\n",
              "              ('opponent_goal_front_right',\n",
              "               array([[-51.76973276,  23.7242137 ]])),\n",
              "              ('field_back_right', array([[30.70082958,  3.68698638]])),\n",
              "              ('stats_vel_to_ball', array([0.])),\n",
              "              ('stats_closest_vel_to_ball', array([0.])),\n",
              "              ('stats_veloc_forward', array([-0.])),\n",
              "              ('stats_vel_ball_to_goal', array([0.])),\n",
              "              ('stats_home_avg_teammate_dist', array([30.60050941])),\n",
              "              ('stats_teammate_spread_out', array([ True])),\n",
              "              ('stats_home_score', array([0.])),\n",
              "              ('stats_away_score', array([0.]))]))"
            ]
          },
          "metadata": {},
          "execution_count": 8
        }
      ]
    },
    {
      "cell_type": "code",
      "source": [
        "for i in range(n_agents):\n",
        "  print(i)\n",
        "  for _, v in observation[i].items():\n",
        "      v = v.flatten()\n",
        "      print(len(v))\n",
        "      for j in range(len(v)):\n",
        "          obs[i].append(float(v[j]))\n"
      ],
      "metadata": {
        "id": "vqGXmx8rhrlr"
      },
      "execution_count": null,
      "outputs": []
    },
    {
      "cell_type": "code",
      "source": [
        "len(obs[0])"
      ],
      "metadata": {
        "colab": {
          "base_uri": "https://localhost:8080/"
        },
        "id": "WZ-rs3O0hexc",
        "outputId": "10212527-9b2c-49d4-a6ed-4d2ae512ddb0"
      },
      "execution_count": null,
      "outputs": [
        {
          "output_type": "execute_result",
          "data": {
            "text/plain": [
              "158.66666666666666"
            ]
          },
          "metadata": {},
          "execution_count": 23
        }
      ]
    },
    {
      "cell_type": "code",
      "source": [
        "for i in env.observation_spec():\n",
        "  print(i)"
      ],
      "metadata": {
        "id": "zfAf21Youts6",
        "colab": {
          "base_uri": "https://localhost:8080/"
        },
        "outputId": "2f016f7d-2337-40d1-e297-ef05495c7bc7"
      },
      "execution_count": null,
      "outputs": [
        {
          "output_type": "stream",
          "name": "stdout",
          "text": [
            "OrderedDict([('body_height', Array(shape=(1,), dtype=dtype('float64'), name='body_height')), ('end_effectors_pos', Array(shape=(1, 3), dtype=dtype('float64'), name='end_effectors_pos')), ('joints_pos', Array(shape=(1, 1), dtype=dtype('float64'), name='joints_pos')), ('joints_vel', Array(shape=(1, 1), dtype=dtype('float64'), name='joints_vel')), ('prev_action', Array(shape=(1, 3), dtype=dtype('float64'), name='prev_action')), ('sensors_accelerometer', Array(shape=(1, 3), dtype=dtype('float64'), name='sensors_accelerometer')), ('sensors_gyro', Array(shape=(1, 3), dtype=dtype('float64'), name='sensors_gyro')), ('sensors_velocimeter', Array(shape=(1, 3), dtype=dtype('float64'), name='sensors_velocimeter')), ('world_zaxis', Array(shape=(1, 3), dtype=dtype('float64'), name='world_zaxis')), ('ball_ego_angular_velocity', Array(shape=(1, 3), dtype=dtype('float64'), name='ball_ego_angular_velocity')), ('ball_ego_position', Array(shape=(1, 3), dtype=dtype('float64'), name='ball_ego_position')), ('ball_ego_linear_velocity', Array(shape=(1, 3), dtype=dtype('float64'), name='ball_ego_linear_velocity')), ('teammate_0_ego_linear_velocity', Array(shape=(1, 3), dtype=dtype('float64'), name='teammate_0_ego_linear_velocity')), ('teammate_0_ego_position', Array(shape=(1, 3), dtype=dtype('float64'), name='teammate_0_ego_position')), ('teammate_0_ego_orientation', Array(shape=(1, 9), dtype=dtype('float64'), name='teammate_0_ego_orientation')), ('teammate_0_ego_end_effectors_pos', Array(shape=(1, 3), dtype=dtype('float64'), name='teammate_0_ego_end_effectors_pos')), ('teammate_0_end_effectors_pos', Array(shape=(1, 3), dtype=dtype('float64'), name='teammate_0_end_effectors_pos')), ('opponent_0_ego_linear_velocity', Array(shape=(1, 3), dtype=dtype('float64'), name='opponent_0_ego_linear_velocity')), ('opponent_0_ego_position', Array(shape=(1, 3), dtype=dtype('float64'), name='opponent_0_ego_position')), ('opponent_0_ego_orientation', Array(shape=(1, 9), dtype=dtype('float64'), name='opponent_0_ego_orientation')), ('opponent_0_ego_end_effectors_pos', Array(shape=(1, 3), dtype=dtype('float64'), name='opponent_0_ego_end_effectors_pos')), ('opponent_0_end_effectors_pos', Array(shape=(1, 3), dtype=dtype('float64'), name='opponent_0_end_effectors_pos')), ('opponent_1_ego_linear_velocity', Array(shape=(1, 3), dtype=dtype('float64'), name='opponent_1_ego_linear_velocity')), ('opponent_1_ego_position', Array(shape=(1, 3), dtype=dtype('float64'), name='opponent_1_ego_position')), ('opponent_1_ego_orientation', Array(shape=(1, 9), dtype=dtype('float64'), name='opponent_1_ego_orientation')), ('opponent_1_ego_end_effectors_pos', Array(shape=(1, 3), dtype=dtype('float64'), name='opponent_1_ego_end_effectors_pos')), ('opponent_1_end_effectors_pos', Array(shape=(1, 3), dtype=dtype('float64'), name='opponent_1_end_effectors_pos')), ('team_goal_back_right', Array(shape=(1, 2), dtype=dtype('float64'), name='team_goal_back_right')), ('team_goal_mid', Array(shape=(1, 3), dtype=dtype('float64'), name='team_goal_mid')), ('team_goal_front_left', Array(shape=(1, 2), dtype=dtype('float64'), name='team_goal_front_left')), ('field_front_left', Array(shape=(1, 2), dtype=dtype('float64'), name='field_front_left')), ('opponent_goal_back_left', Array(shape=(1, 2), dtype=dtype('float64'), name='opponent_goal_back_left')), ('opponent_goal_mid', Array(shape=(1, 3), dtype=dtype('float64'), name='opponent_goal_mid')), ('opponent_goal_front_right', Array(shape=(1, 2), dtype=dtype('float64'), name='opponent_goal_front_right')), ('field_back_right', Array(shape=(1, 2), dtype=dtype('float64'), name='field_back_right')), ('stats_vel_to_ball', Array(shape=(1,), dtype=dtype('float64'), name='stats_vel_to_ball')), ('stats_closest_vel_to_ball', Array(shape=(1,), dtype=dtype('float64'), name='stats_closest_vel_to_ball')), ('stats_veloc_forward', Array(shape=(1,), dtype=dtype('float64'), name='stats_veloc_forward')), ('stats_vel_ball_to_goal', Array(shape=(1,), dtype=dtype('float64'), name='stats_vel_ball_to_goal')), ('stats_home_avg_teammate_dist', Array(shape=(1,), dtype=dtype('float64'), name='stats_home_avg_teammate_dist')), ('stats_teammate_spread_out', Array(shape=(1,), dtype=dtype('bool'), name='stats_teammate_spread_out')), ('stats_home_score', Array(shape=(1,), dtype=dtype('float64'), name='stats_home_score')), ('stats_away_score', Array(shape=(1,), dtype=dtype('float64'), name='stats_away_score'))])\n",
            "OrderedDict([('body_height', Array(shape=(1,), dtype=dtype('float64'), name='body_height')), ('end_effectors_pos', Array(shape=(1, 3), dtype=dtype('float64'), name='end_effectors_pos')), ('joints_pos', Array(shape=(1, 1), dtype=dtype('float64'), name='joints_pos')), ('joints_vel', Array(shape=(1, 1), dtype=dtype('float64'), name='joints_vel')), ('prev_action', Array(shape=(1, 3), dtype=dtype('float64'), name='prev_action')), ('sensors_accelerometer', Array(shape=(1, 3), dtype=dtype('float64'), name='sensors_accelerometer')), ('sensors_gyro', Array(shape=(1, 3), dtype=dtype('float64'), name='sensors_gyro')), ('sensors_velocimeter', Array(shape=(1, 3), dtype=dtype('float64'), name='sensors_velocimeter')), ('world_zaxis', Array(shape=(1, 3), dtype=dtype('float64'), name='world_zaxis')), ('ball_ego_angular_velocity', Array(shape=(1, 3), dtype=dtype('float64'), name='ball_ego_angular_velocity')), ('ball_ego_position', Array(shape=(1, 3), dtype=dtype('float64'), name='ball_ego_position')), ('ball_ego_linear_velocity', Array(shape=(1, 3), dtype=dtype('float64'), name='ball_ego_linear_velocity')), ('teammate_0_ego_linear_velocity', Array(shape=(1, 3), dtype=dtype('float64'), name='teammate_0_ego_linear_velocity')), ('teammate_0_ego_position', Array(shape=(1, 3), dtype=dtype('float64'), name='teammate_0_ego_position')), ('teammate_0_ego_orientation', Array(shape=(1, 9), dtype=dtype('float64'), name='teammate_0_ego_orientation')), ('teammate_0_ego_end_effectors_pos', Array(shape=(1, 3), dtype=dtype('float64'), name='teammate_0_ego_end_effectors_pos')), ('teammate_0_end_effectors_pos', Array(shape=(1, 3), dtype=dtype('float64'), name='teammate_0_end_effectors_pos')), ('opponent_0_ego_linear_velocity', Array(shape=(1, 3), dtype=dtype('float64'), name='opponent_0_ego_linear_velocity')), ('opponent_0_ego_position', Array(shape=(1, 3), dtype=dtype('float64'), name='opponent_0_ego_position')), ('opponent_0_ego_orientation', Array(shape=(1, 9), dtype=dtype('float64'), name='opponent_0_ego_orientation')), ('opponent_0_ego_end_effectors_pos', Array(shape=(1, 3), dtype=dtype('float64'), name='opponent_0_ego_end_effectors_pos')), ('opponent_0_end_effectors_pos', Array(shape=(1, 3), dtype=dtype('float64'), name='opponent_0_end_effectors_pos')), ('opponent_1_ego_linear_velocity', Array(shape=(1, 3), dtype=dtype('float64'), name='opponent_1_ego_linear_velocity')), ('opponent_1_ego_position', Array(shape=(1, 3), dtype=dtype('float64'), name='opponent_1_ego_position')), ('opponent_1_ego_orientation', Array(shape=(1, 9), dtype=dtype('float64'), name='opponent_1_ego_orientation')), ('opponent_1_ego_end_effectors_pos', Array(shape=(1, 3), dtype=dtype('float64'), name='opponent_1_ego_end_effectors_pos')), ('opponent_1_end_effectors_pos', Array(shape=(1, 3), dtype=dtype('float64'), name='opponent_1_end_effectors_pos')), ('team_goal_back_right', Array(shape=(1, 2), dtype=dtype('float64'), name='team_goal_back_right')), ('team_goal_mid', Array(shape=(1, 3), dtype=dtype('float64'), name='team_goal_mid')), ('team_goal_front_left', Array(shape=(1, 2), dtype=dtype('float64'), name='team_goal_front_left')), ('field_front_left', Array(shape=(1, 2), dtype=dtype('float64'), name='field_front_left')), ('opponent_goal_back_left', Array(shape=(1, 2), dtype=dtype('float64'), name='opponent_goal_back_left')), ('opponent_goal_mid', Array(shape=(1, 3), dtype=dtype('float64'), name='opponent_goal_mid')), ('opponent_goal_front_right', Array(shape=(1, 2), dtype=dtype('float64'), name='opponent_goal_front_right')), ('field_back_right', Array(shape=(1, 2), dtype=dtype('float64'), name='field_back_right')), ('stats_vel_to_ball', Array(shape=(1,), dtype=dtype('float64'), name='stats_vel_to_ball')), ('stats_closest_vel_to_ball', Array(shape=(1,), dtype=dtype('float64'), name='stats_closest_vel_to_ball')), ('stats_veloc_forward', Array(shape=(1,), dtype=dtype('float64'), name='stats_veloc_forward')), ('stats_vel_ball_to_goal', Array(shape=(1,), dtype=dtype('float64'), name='stats_vel_ball_to_goal')), ('stats_home_avg_teammate_dist', Array(shape=(1,), dtype=dtype('float64'), name='stats_home_avg_teammate_dist')), ('stats_teammate_spread_out', Array(shape=(1,), dtype=dtype('bool'), name='stats_teammate_spread_out')), ('stats_home_score', Array(shape=(1,), dtype=dtype('float64'), name='stats_home_score')), ('stats_away_score', Array(shape=(1,), dtype=dtype('float64'), name='stats_away_score'))])\n",
            "OrderedDict([('body_height', Array(shape=(1,), dtype=dtype('float64'), name='body_height')), ('end_effectors_pos', Array(shape=(1, 3), dtype=dtype('float64'), name='end_effectors_pos')), ('joints_pos', Array(shape=(1, 1), dtype=dtype('float64'), name='joints_pos')), ('joints_vel', Array(shape=(1, 1), dtype=dtype('float64'), name='joints_vel')), ('prev_action', Array(shape=(1, 3), dtype=dtype('float64'), name='prev_action')), ('sensors_accelerometer', Array(shape=(1, 3), dtype=dtype('float64'), name='sensors_accelerometer')), ('sensors_gyro', Array(shape=(1, 3), dtype=dtype('float64'), name='sensors_gyro')), ('sensors_velocimeter', Array(shape=(1, 3), dtype=dtype('float64'), name='sensors_velocimeter')), ('world_zaxis', Array(shape=(1, 3), dtype=dtype('float64'), name='world_zaxis')), ('ball_ego_angular_velocity', Array(shape=(1, 3), dtype=dtype('float64'), name='ball_ego_angular_velocity')), ('ball_ego_position', Array(shape=(1, 3), dtype=dtype('float64'), name='ball_ego_position')), ('ball_ego_linear_velocity', Array(shape=(1, 3), dtype=dtype('float64'), name='ball_ego_linear_velocity')), ('opponent_0_ego_linear_velocity', Array(shape=(1, 3), dtype=dtype('float64'), name='opponent_0_ego_linear_velocity')), ('opponent_0_ego_position', Array(shape=(1, 3), dtype=dtype('float64'), name='opponent_0_ego_position')), ('opponent_0_ego_orientation', Array(shape=(1, 9), dtype=dtype('float64'), name='opponent_0_ego_orientation')), ('opponent_0_ego_end_effectors_pos', Array(shape=(1, 3), dtype=dtype('float64'), name='opponent_0_ego_end_effectors_pos')), ('opponent_0_end_effectors_pos', Array(shape=(1, 3), dtype=dtype('float64'), name='opponent_0_end_effectors_pos')), ('opponent_1_ego_linear_velocity', Array(shape=(1, 3), dtype=dtype('float64'), name='opponent_1_ego_linear_velocity')), ('opponent_1_ego_position', Array(shape=(1, 3), dtype=dtype('float64'), name='opponent_1_ego_position')), ('opponent_1_ego_orientation', Array(shape=(1, 9), dtype=dtype('float64'), name='opponent_1_ego_orientation')), ('opponent_1_ego_end_effectors_pos', Array(shape=(1, 3), dtype=dtype('float64'), name='opponent_1_ego_end_effectors_pos')), ('opponent_1_end_effectors_pos', Array(shape=(1, 3), dtype=dtype('float64'), name='opponent_1_end_effectors_pos')), ('teammate_0_ego_linear_velocity', Array(shape=(1, 3), dtype=dtype('float64'), name='teammate_0_ego_linear_velocity')), ('teammate_0_ego_position', Array(shape=(1, 3), dtype=dtype('float64'), name='teammate_0_ego_position')), ('teammate_0_ego_orientation', Array(shape=(1, 9), dtype=dtype('float64'), name='teammate_0_ego_orientation')), ('teammate_0_ego_end_effectors_pos', Array(shape=(1, 3), dtype=dtype('float64'), name='teammate_0_ego_end_effectors_pos')), ('teammate_0_end_effectors_pos', Array(shape=(1, 3), dtype=dtype('float64'), name='teammate_0_end_effectors_pos')), ('team_goal_back_right', Array(shape=(1, 2), dtype=dtype('float64'), name='team_goal_back_right')), ('team_goal_mid', Array(shape=(1, 3), dtype=dtype('float64'), name='team_goal_mid')), ('team_goal_front_left', Array(shape=(1, 2), dtype=dtype('float64'), name='team_goal_front_left')), ('field_front_left', Array(shape=(1, 2), dtype=dtype('float64'), name='field_front_left')), ('opponent_goal_back_left', Array(shape=(1, 2), dtype=dtype('float64'), name='opponent_goal_back_left')), ('opponent_goal_mid', Array(shape=(1, 3), dtype=dtype('float64'), name='opponent_goal_mid')), ('opponent_goal_front_right', Array(shape=(1, 2), dtype=dtype('float64'), name='opponent_goal_front_right')), ('field_back_right', Array(shape=(1, 2), dtype=dtype('float64'), name='field_back_right')), ('stats_vel_to_ball', Array(shape=(1,), dtype=dtype('float64'), name='stats_vel_to_ball')), ('stats_closest_vel_to_ball', Array(shape=(1,), dtype=dtype('float64'), name='stats_closest_vel_to_ball')), ('stats_veloc_forward', Array(shape=(1,), dtype=dtype('float64'), name='stats_veloc_forward')), ('stats_vel_ball_to_goal', Array(shape=(1,), dtype=dtype('float64'), name='stats_vel_ball_to_goal')), ('stats_home_avg_teammate_dist', Array(shape=(1,), dtype=dtype('float64'), name='stats_home_avg_teammate_dist')), ('stats_teammate_spread_out', Array(shape=(1,), dtype=dtype('bool'), name='stats_teammate_spread_out')), ('stats_home_score', Array(shape=(1,), dtype=dtype('float64'), name='stats_home_score')), ('stats_away_score', Array(shape=(1,), dtype=dtype('float64'), name='stats_away_score'))])\n",
            "OrderedDict([('body_height', Array(shape=(1,), dtype=dtype('float64'), name='body_height')), ('end_effectors_pos', Array(shape=(1, 3), dtype=dtype('float64'), name='end_effectors_pos')), ('joints_pos', Array(shape=(1, 1), dtype=dtype('float64'), name='joints_pos')), ('joints_vel', Array(shape=(1, 1), dtype=dtype('float64'), name='joints_vel')), ('prev_action', Array(shape=(1, 3), dtype=dtype('float64'), name='prev_action')), ('sensors_accelerometer', Array(shape=(1, 3), dtype=dtype('float64'), name='sensors_accelerometer')), ('sensors_gyro', Array(shape=(1, 3), dtype=dtype('float64'), name='sensors_gyro')), ('sensors_velocimeter', Array(shape=(1, 3), dtype=dtype('float64'), name='sensors_velocimeter')), ('world_zaxis', Array(shape=(1, 3), dtype=dtype('float64'), name='world_zaxis')), ('ball_ego_angular_velocity', Array(shape=(1, 3), dtype=dtype('float64'), name='ball_ego_angular_velocity')), ('ball_ego_position', Array(shape=(1, 3), dtype=dtype('float64'), name='ball_ego_position')), ('ball_ego_linear_velocity', Array(shape=(1, 3), dtype=dtype('float64'), name='ball_ego_linear_velocity')), ('opponent_0_ego_linear_velocity', Array(shape=(1, 3), dtype=dtype('float64'), name='opponent_0_ego_linear_velocity')), ('opponent_0_ego_position', Array(shape=(1, 3), dtype=dtype('float64'), name='opponent_0_ego_position')), ('opponent_0_ego_orientation', Array(shape=(1, 9), dtype=dtype('float64'), name='opponent_0_ego_orientation')), ('opponent_0_ego_end_effectors_pos', Array(shape=(1, 3), dtype=dtype('float64'), name='opponent_0_ego_end_effectors_pos')), ('opponent_0_end_effectors_pos', Array(shape=(1, 3), dtype=dtype('float64'), name='opponent_0_end_effectors_pos')), ('opponent_1_ego_linear_velocity', Array(shape=(1, 3), dtype=dtype('float64'), name='opponent_1_ego_linear_velocity')), ('opponent_1_ego_position', Array(shape=(1, 3), dtype=dtype('float64'), name='opponent_1_ego_position')), ('opponent_1_ego_orientation', Array(shape=(1, 9), dtype=dtype('float64'), name='opponent_1_ego_orientation')), ('opponent_1_ego_end_effectors_pos', Array(shape=(1, 3), dtype=dtype('float64'), name='opponent_1_ego_end_effectors_pos')), ('opponent_1_end_effectors_pos', Array(shape=(1, 3), dtype=dtype('float64'), name='opponent_1_end_effectors_pos')), ('teammate_0_ego_linear_velocity', Array(shape=(1, 3), dtype=dtype('float64'), name='teammate_0_ego_linear_velocity')), ('teammate_0_ego_position', Array(shape=(1, 3), dtype=dtype('float64'), name='teammate_0_ego_position')), ('teammate_0_ego_orientation', Array(shape=(1, 9), dtype=dtype('float64'), name='teammate_0_ego_orientation')), ('teammate_0_ego_end_effectors_pos', Array(shape=(1, 3), dtype=dtype('float64'), name='teammate_0_ego_end_effectors_pos')), ('teammate_0_end_effectors_pos', Array(shape=(1, 3), dtype=dtype('float64'), name='teammate_0_end_effectors_pos')), ('team_goal_back_right', Array(shape=(1, 2), dtype=dtype('float64'), name='team_goal_back_right')), ('team_goal_mid', Array(shape=(1, 3), dtype=dtype('float64'), name='team_goal_mid')), ('team_goal_front_left', Array(shape=(1, 2), dtype=dtype('float64'), name='team_goal_front_left')), ('field_front_left', Array(shape=(1, 2), dtype=dtype('float64'), name='field_front_left')), ('opponent_goal_back_left', Array(shape=(1, 2), dtype=dtype('float64'), name='opponent_goal_back_left')), ('opponent_goal_mid', Array(shape=(1, 3), dtype=dtype('float64'), name='opponent_goal_mid')), ('opponent_goal_front_right', Array(shape=(1, 2), dtype=dtype('float64'), name='opponent_goal_front_right')), ('field_back_right', Array(shape=(1, 2), dtype=dtype('float64'), name='field_back_right')), ('stats_vel_to_ball', Array(shape=(1,), dtype=dtype('float64'), name='stats_vel_to_ball')), ('stats_closest_vel_to_ball', Array(shape=(1,), dtype=dtype('float64'), name='stats_closest_vel_to_ball')), ('stats_veloc_forward', Array(shape=(1,), dtype=dtype('float64'), name='stats_veloc_forward')), ('stats_vel_ball_to_goal', Array(shape=(1,), dtype=dtype('float64'), name='stats_vel_ball_to_goal')), ('stats_home_avg_teammate_dist', Array(shape=(1,), dtype=dtype('float64'), name='stats_home_avg_teammate_dist')), ('stats_teammate_spread_out', Array(shape=(1,), dtype=dtype('bool'), name='stats_teammate_spread_out')), ('stats_home_score', Array(shape=(1,), dtype=dtype('float64'), name='stats_home_score')), ('stats_away_score', Array(shape=(1,), dtype=dtype('float64'), name='stats_away_score'))])\n"
          ]
        }
      ]
    },
    {
      "cell_type": "code",
      "source": [
        "env.action_spec()"
      ],
      "metadata": {
        "id": "lyjgCECetk-k",
        "colab": {
          "base_uri": "https://localhost:8080/"
        },
        "outputId": "98729fc4-3ae8-4382-f117-412657042d6a"
      },
      "execution_count": null,
      "outputs": [
        {
          "output_type": "execute_result",
          "data": {
            "text/plain": [
              "[BoundedArray(shape=(3,), dtype=dtype('float64'), name='roll\\tsteer\\tkick', minimum=[-1. -1. -1.], maximum=[1. 1. 1.]),\n",
              " BoundedArray(shape=(3,), dtype=dtype('float64'), name='roll\\tsteer\\tkick', minimum=[-1. -1. -1.], maximum=[1. 1. 1.]),\n",
              " BoundedArray(shape=(3,), dtype=dtype('float64'), name='roll\\tsteer\\tkick', minimum=[-1. -1. -1.], maximum=[1. 1. 1.]),\n",
              " BoundedArray(shape=(3,), dtype=dtype('float64'), name='roll\\tsteer\\tkick', minimum=[-1. -1. -1.], maximum=[1. 1. 1.])]"
            ]
          },
          "metadata": {},
          "execution_count": 40
        }
      ]
    },
    {
      "cell_type": "markdown",
      "source": [
        "# Wrap dm_soccer into a gym env"
      ],
      "metadata": {
        "id": "Er9Aj3pZGNt1"
      }
    },
    {
      "cell_type": "markdown",
      "source": [
        "## dm_soccer gym wrapper - status: Active\n",
        "\n",
        "https://github.com/hcch0912/gym_wrapper_dm_soccer\n",
        "\n"
      ],
      "metadata": {
        "id": "UivWmt7zNYwP"
      }
    },
    {
      "cell_type": "code",
      "source": [
        "import numpy as np\n",
        "from dm_control.locomotion import soccer as dm_soccer\n",
        "from gym.spaces import Box\n",
        "import sys\n",
        "\n",
        "class DMSoccer():\n",
        "    def __init__(self, batch_size=None, **kwargs):\n",
        "        # super().__init__(batch_size, **kwargs)\n",
        "        self.base_env = dm_soccer.load(kwargs[\"team_size\"], kwargs[\"time_limit\"])\n",
        "        act_spec = self.base_env.action_spec()\n",
        "        self.n_agents = len(act_spec)\n",
        "        self.observation_space = Box(low=-10000, high=10000, shape=(self.n_agents,476 ))\n",
        "        # self.observation_space = Box(low=-10000, high=10000, shape=(self.n_agents,154 ))\n",
        "        self.action_space = Box(low=-1, high=1, shape=(self.n_agents, 3)) \n",
        "\n",
        "    def parse_obs(self, observation):\n",
        "        obs = [[]] * self.n_agents\n",
        "        for i in range(self.n_agents):\n",
        "            for _, v in observation[i].items():\n",
        "                v = v.flatten()\n",
        "                for j in range(len(v)):\n",
        "                    obs[i].append(float(v[j]))\n",
        "        return np.array(obs)\n",
        "\n",
        "    def get_reward(self, observation, origin_reward):\n",
        "        \"\"\"if goal, return the original reward, else, return the shaped dense reward\n",
        "        \"\"\"\n",
        "        rewards = [0.0] * self.n_agents\n",
        "        for i in range(self.n_agents):\n",
        "            if not origin_reward or origin_reward[i] == 0.0:\n",
        "                home_score = observation[i][\"stats_home_score\"]\n",
        "                away_score = observation[i][\"stats_away_score\"]\n",
        "                velocity_to_ball = observation[i][\"stats_vel_to_ball\"]\n",
        "                velocity_to_goal = observation[i][\"stats_vel_ball_to_goal\"]\n",
        "                rewards[i] = (\n",
        "                    home_score\n",
        "                    - away_score\n",
        "                    + 0.001 * velocity_to_ball\n",
        "                    + 0.002 * velocity_to_goal\n",
        "                )\n",
        "            else:\n",
        "                rewards[i] = origin_reward[i]\n",
        "        return rewards\n",
        "\n",
        "    def step(self, actions):\n",
        "        try:\n",
        "            timestep = self.base_env.step(actions)\n",
        "        except:\n",
        "            obs = self.parse_obs(self.base_env.reset().observation)\n",
        "            return obs, [0] * self.n_agents, True, None\n",
        "        # concatenate all the values in the observation dict as the observation for each agent\n",
        "        obs = self.parse_obs(timestep.observation)\n",
        "        done = timestep.discount == 0\n",
        "\n",
        "        # reward = self.get_reward(timestep.observation, timestep.reward)\n",
        "        reward = timestep.reward\n",
        "        return obs, reward, done, None\n",
        "\n",
        "    def reset(self, **kwargs):\n",
        "        timestep = self.base_env.reset()\n",
        "        obs = self.parse_obs(timestep.observation)\n",
        "        return obs\n",
        "\n",
        "    def render(self, **kwargs):\n",
        "        self.base_env.render()\n"
      ],
      "metadata": {
        "id": "MoODKvW2UpT1"
      },
      "execution_count": 9,
      "outputs": []
    },
    {
      "cell_type": "code",
      "source": [
        "dm_env = DMSoccer(team_size=2, time_limit=45,)\n",
        "obs = dm_env.reset() \n",
        "done = False"
      ],
      "metadata": {
        "id": "6DXP41LVYN3B"
      },
      "execution_count": 10,
      "outputs": []
    },
    {
      "cell_type": "code",
      "source": [
        "dm_env.observation_space"
      ],
      "metadata": {
        "colab": {
          "base_uri": "https://localhost:8080/"
        },
        "id": "K3Zi3k-qYO26",
        "outputId": "ffe89f85-a66e-4a9e-8cbb-b0385120a3ec"
      },
      "execution_count": 11,
      "outputs": [
        {
          "output_type": "execute_result",
          "data": {
            "text/plain": [
              "Box(-10000.0, 10000.0, (4, 476), float32)"
            ]
          },
          "metadata": {},
          "execution_count": 11
        }
      ]
    },
    {
      "cell_type": "code",
      "source": [
        "# while not done:\n",
        "for i in range(10):\n",
        "  actions = [] \n",
        "  for action_spec in range(len(obs)):\n",
        "    action = np.random.uniform(-1, 1, size=(3,))\n",
        "    actions.append(action)\n",
        "\n",
        "  obs, reward, done, _ = dm_env.step(actions)\n",
        "  print(reward, action, obs)"
      ],
      "metadata": {
        "id": "2CUWazJVYrGm"
      },
      "execution_count": null,
      "outputs": []
    },
    {
      "cell_type": "code",
      "source": [
        "class DMSoccerEnv(gym.Env):\n",
        "    def __init__(self):\n",
        "        self.env = DMSoccer(team_size=2, time_limit=45.,)\n",
        "        self.n_agents = self.env.n_agents\n",
        "        self.observation_space = self.env.observation_space\n",
        "        self.action_space = self.env.action_space\n",
        "\n",
        "    def step(self, action):\n",
        "        next_state, reward, done, info = self.env.step(action)\n",
        "        return next_state, reward, done, info\n",
        "\n",
        "    def reset(self):\n",
        "      return self.env.reset()\n",
        "\n",
        "    def render(self):\n",
        "      self.env.render()\n",
        "\n",
        "    def close(self):\n",
        "      pass"
      ],
      "metadata": {
        "id": "jC4ME9NEAI30"
      },
      "execution_count": 13,
      "outputs": []
    },
    {
      "cell_type": "code",
      "source": [
        "# https://stackoverflow.com/questions/67087799/register-gym-environment-that-is-defined-inside-a-jupyter-notebook-cell\n",
        "\n",
        "# The underlying module name can be retrieved using\n",
        "import sys\n",
        "sys.modules[__name__]\n",
        "\n",
        "# Therefore the module's name for the entrypoint is \"main\"\n",
        "try:\n",
        "  gym.envs.register(\n",
        "      id='DMSoccerEnv-v0',\n",
        "      entry_point='__main__:DMSoccerEnv',\n",
        "  )\n",
        "except:\n",
        "    pass"
      ],
      "metadata": {
        "id": "jEZWyKZvHk1T"
      },
      "execution_count": 14,
      "outputs": []
    },
    {
      "cell_type": "code",
      "source": [
        "dm_env_v2 = gym.make('DMSoccerEnv-v0')\n",
        "obs = dm_env_v2.reset() \n",
        "done = False"
      ],
      "metadata": {
        "id": "IKQdnymVDaHG"
      },
      "execution_count": 15,
      "outputs": []
    },
    {
      "cell_type": "code",
      "source": [
        "# while not done:\n",
        "for i in range(10):\n",
        "  actions = [] \n",
        "  for action_spec in range(len(obs)):\n",
        "    action = np.random.uniform(-1, 1, size=(3,))\n",
        "    actions.append(action)\n",
        "\n",
        "  obs, reward, done, _ = dm_env_v2.step(actions)\n",
        "  print(reward, action, obs)"
      ],
      "metadata": {
        "id": "HzcwxshUB8op"
      },
      "execution_count": null,
      "outputs": []
    },
    {
      "cell_type": "code",
      "source": [
        "obs.shape"
      ],
      "metadata": {
        "colab": {
          "base_uri": "https://localhost:8080/"
        },
        "id": "DkTu3gI-nIwj",
        "outputId": "022ebac1-a781-443f-949e-6d8fba9ca0eb"
      },
      "execution_count": null,
      "outputs": [
        {
          "output_type": "execute_result",
          "data": {
            "text/plain": [
              "(4, 476)"
            ]
          },
          "metadata": {},
          "execution_count": 32
        }
      ]
    },
    {
      "cell_type": "code",
      "source": [
        "dm_env_v2.observation_space"
      ],
      "metadata": {
        "colab": {
          "base_uri": "https://localhost:8080/"
        },
        "id": "7W9PwFplU4vO",
        "outputId": "6fe91348-11e5-43dc-b711-fe9d1f7325b7"
      },
      "execution_count": null,
      "outputs": [
        {
          "output_type": "execute_result",
          "data": {
            "text/plain": [
              "Box(-10000.0, 10000.0, (4, 476), float32)"
            ]
          },
          "metadata": {},
          "execution_count": 33
        }
      ]
    },
    {
      "cell_type": "code",
      "source": [
        "def make_env(env_id: str, rank: int, seed: int = 0):\n",
        "  def _init():\n",
        "    env = gym.make(env_id)\n",
        "    env.seed(seed + rank)\n",
        "    return env\n",
        "  torch.manual_seed(seed)\n",
        "  return _init\n",
        "\n",
        "num_cpu = 2\n",
        "env_p = gym.vector.SyncVectorEnv([make_env('DMSoccerEnv-v0', i) for i in range(num_cpu)])"
      ],
      "metadata": {
        "id": "mgfO1OESs3lo"
      },
      "execution_count": 17,
      "outputs": []
    },
    {
      "cell_type": "code",
      "source": [
        "env_p.single_observation_space, env_p.observation_space"
      ],
      "metadata": {
        "colab": {
          "base_uri": "https://localhost:8080/"
        },
        "id": "fvu1H-ywXRDg",
        "outputId": "259cd5cd-288c-4e21-8450-00f3295ce7cf"
      },
      "execution_count": 18,
      "outputs": [
        {
          "output_type": "execute_result",
          "data": {
            "text/plain": [
              "(Box(-10000.0, 10000.0, (4, 476), float32),\n",
              " Box(-10000.0, 10000.0, (2, 4, 476), float32))"
            ]
          },
          "metadata": {},
          "execution_count": 18
        }
      ]
    },
    {
      "cell_type": "code",
      "source": [
        "env_p.reset().shape"
      ],
      "metadata": {
        "colab": {
          "base_uri": "https://localhost:8080/"
        },
        "id": "Wy1HwJ-8ln8N",
        "outputId": "cf0ad176-1cfa-4919-dbff-9a88b0a155e5"
      },
      "execution_count": 19,
      "outputs": [
        {
          "output_type": "execute_result",
          "data": {
            "text/plain": [
              "(2, 4, 476)"
            ]
          },
          "metadata": {},
          "execution_count": 19
        }
      ]
    },
    {
      "cell_type": "code",
      "source": [
        "env_p.single_action_space, env_p.action_space, np.prod(env_p.single_action_space.shape)"
      ],
      "metadata": {
        "colab": {
          "base_uri": "https://localhost:8080/"
        },
        "id": "fChRyu_z9Q-W",
        "outputId": "ba54a677-a7a4-4f5b-e9c7-e383b3fa4957"
      },
      "execution_count": 39,
      "outputs": [
        {
          "output_type": "execute_result",
          "data": {
            "text/plain": [
              "(Box(-1.0, 1.0, (4, 3), float32),\n",
              " Tuple(Box(-1.0, 1.0, (4, 3), float32), Box(-1.0, 1.0, (4, 3), float32)),\n",
              " 12)"
            ]
          },
          "metadata": {},
          "execution_count": 39
        }
      ]
    },
    {
      "cell_type": "code",
      "source": [
        "for n_envs in range(2):\n",
        "  tuple_actions = []\n",
        "  actions = [] \n",
        "  for players in range(4):\n",
        "    action = np.random.uniform(-1, 1, size=(3,))\n",
        "    actions.append(action)\n",
        "  np_actions = np.array(actions)\n",
        "  tuple_actions.append(np_actions)\n",
        "\n",
        "tuple_actions = tuple(tuple_actions)\n",
        "obs, reward, done, _ = dm_env.step(actions)\n",
        "print(reward)\n",
        "print (tuple_actions)\n",
        "print( obs)"
      ],
      "metadata": {
        "colab": {
          "base_uri": "https://localhost:8080/"
        },
        "id": "G0MWViKR8VWi",
        "outputId": "c2baee97-8b99-4fdf-f841-3f1185a4f6dd"
      },
      "execution_count": 21,
      "outputs": [
        {
          "output_type": "stream",
          "name": "stdout",
          "text": [
            "[array(0., dtype=float32), array(0., dtype=float32), array(0., dtype=float32), array(0., dtype=float32)]\n",
            "(array([[ 0.70227334, -0.36615599, -0.66101451],\n",
            "       [ 0.11360252,  0.87230955,  0.39205959],\n",
            "       [ 0.14012234, -0.80564701,  0.23001445],\n",
            "       [ 0.9801077 , -0.71983197,  0.0366593 ]]),)\n",
            "[[1.14422618 0.         0.         ... 1.         0.         0.        ]\n",
            " [1.14422618 0.         0.         ... 1.         0.         0.        ]\n",
            " [1.14422618 0.         0.         ... 1.         0.         0.        ]\n",
            " [1.14422618 0.         0.         ... 1.         0.         0.        ]]\n"
          ]
        }
      ]
    },
    {
      "cell_type": "markdown",
      "source": [
        "#### debug"
      ],
      "metadata": {
        "id": "ILyd8iEB6bYT"
      }
    },
    {
      "cell_type": "code",
      "source": [
        "%debug"
      ],
      "metadata": {
        "colab": {
          "base_uri": "https://localhost:8080/"
        },
        "id": "Ga8MsSNwl-DB",
        "outputId": "2b7f6ee2-e815-44d0-9198-12f76cd174fd"
      },
      "execution_count": null,
      "outputs": [
        {
          "name": "stdout",
          "output_type": "stream",
          "text": [
            "> \u001b[0;32m<__array_function__ internals>\u001b[0m(6)\u001b[0;36mconcatenate\u001b[0;34m()\u001b[0m\n",
            "\n",
            "ipdb> arrays\n",
            "*** NameError: name 'arrays' is not defined\n",
            "ipdb> up\n",
            "> \u001b[0;32m/usr/local/lib/python3.7/dist-packages/numpy/core/shape_base.py\u001b[0m(434)\u001b[0;36mstack\u001b[0;34m()\u001b[0m\n",
            "\u001b[0;32m    432 \u001b[0;31m    \u001b[0msl\u001b[0m \u001b[0;34m=\u001b[0m \u001b[0;34m(\u001b[0m\u001b[0mslice\u001b[0m\u001b[0;34m(\u001b[0m\u001b[0;32mNone\u001b[0m\u001b[0;34m)\u001b[0m\u001b[0;34m,\u001b[0m\u001b[0;34m)\u001b[0m \u001b[0;34m*\u001b[0m \u001b[0maxis\u001b[0m \u001b[0;34m+\u001b[0m \u001b[0;34m(\u001b[0m\u001b[0m_nx\u001b[0m\u001b[0;34m.\u001b[0m\u001b[0mnewaxis\u001b[0m\u001b[0;34m,\u001b[0m\u001b[0;34m)\u001b[0m\u001b[0;34m\u001b[0m\u001b[0;34m\u001b[0m\u001b[0m\n",
            "\u001b[0m\u001b[0;32m    433 \u001b[0;31m    \u001b[0mexpanded_arrays\u001b[0m \u001b[0;34m=\u001b[0m \u001b[0;34m[\u001b[0m\u001b[0marr\u001b[0m\u001b[0;34m[\u001b[0m\u001b[0msl\u001b[0m\u001b[0;34m]\u001b[0m \u001b[0;32mfor\u001b[0m \u001b[0marr\u001b[0m \u001b[0;32min\u001b[0m \u001b[0marrays\u001b[0m\u001b[0;34m]\u001b[0m\u001b[0;34m\u001b[0m\u001b[0;34m\u001b[0m\u001b[0m\n",
            "\u001b[0m\u001b[0;32m--> 434 \u001b[0;31m    \u001b[0;32mreturn\u001b[0m \u001b[0m_nx\u001b[0m\u001b[0;34m.\u001b[0m\u001b[0mconcatenate\u001b[0m\u001b[0;34m(\u001b[0m\u001b[0mexpanded_arrays\u001b[0m\u001b[0;34m,\u001b[0m \u001b[0maxis\u001b[0m\u001b[0;34m=\u001b[0m\u001b[0maxis\u001b[0m\u001b[0;34m,\u001b[0m \u001b[0mout\u001b[0m\u001b[0;34m=\u001b[0m\u001b[0mout\u001b[0m\u001b[0;34m)\u001b[0m\u001b[0;34m\u001b[0m\u001b[0;34m\u001b[0m\u001b[0m\n",
            "\u001b[0m\u001b[0;32m    435 \u001b[0;31m\u001b[0;34m\u001b[0m\u001b[0m\n",
            "\u001b[0m\u001b[0;32m    436 \u001b[0;31m\u001b[0;34m\u001b[0m\u001b[0m\n",
            "\u001b[0m\n",
            "ipdb> arrays\n",
            "[array([[1., 0., 0., ..., 1., 0., 0.],\n",
            "       [1., 0., 0., ..., 1., 0., 0.],\n",
            "       [1., 0., 0., ..., 1., 0., 0.],\n",
            "       [1., 0., 0., ..., 1., 0., 0.]]), array([[1., 0., 0., ..., 1., 0., 0.],\n",
            "       [1., 0., 0., ..., 1., 0., 0.],\n",
            "       [1., 0., 0., ..., 1., 0., 0.],\n",
            "       [1., 0., 0., ..., 1., 0., 0.]])]\n",
            "ipdb> arrays.shape\n",
            "*** AttributeError: 'list' object has no attribute 'shape'\n",
            "ipdb> len(arrays)\n",
            "2\n",
            "ipdb> _nx\n",
            "<module 'numpy.core.numeric' from '/usr/local/lib/python3.7/dist-packages/numpy/core/numeric.py'>\n",
            "ipdb> arrays[0]\n",
            "array([[1., 0., 0., ..., 1., 0., 0.],\n",
            "       [1., 0., 0., ..., 1., 0., 0.],\n",
            "       [1., 0., 0., ..., 1., 0., 0.],\n",
            "       [1., 0., 0., ..., 1., 0., 0.]])\n",
            "ipdb> arrays[0].shape\n",
            "(4, 476)\n",
            "ipdb> np.concatenate(expanded_arrays, axis=0)\n",
            "*** NameError: name 'np' is not defined\n",
            "ipdb> _nx.concatenate(expanded_arrays,axis=0)\n",
            "array([[[1., 0., 0., ..., 1., 0., 0.],\n",
            "        [1., 0., 0., ..., 1., 0., 0.],\n",
            "        [1., 0., 0., ..., 1., 0., 0.],\n",
            "        [1., 0., 0., ..., 1., 0., 0.]],\n",
            "\n",
            "       [[1., 0., 0., ..., 1., 0., 0.],\n",
            "        [1., 0., 0., ..., 1., 0., 0.],\n",
            "        [1., 0., 0., ..., 1., 0., 0.],\n",
            "        [1., 0., 0., ..., 1., 0., 0.]]])\n",
            "ipdb> out\n",
            "array([[[0., 0., 0., ..., 0., 0., 0.],\n",
            "        [0., 0., 0., ..., 0., 0., 0.],\n",
            "        [0., 0., 0., ..., 0., 0., 0.],\n",
            "        [0., 0., 0., ..., 0., 0., 0.]],\n",
            "\n",
            "       [[0., 0., 0., ..., 0., 0., 0.],\n",
            "        [0., 0., 0., ..., 0., 0., 0.],\n",
            "        [0., 0., 0., ..., 0., 0., 0.],\n",
            "        [0., 0., 0., ..., 0., 0., 0.]]], dtype=float32)\n",
            "ipdb> out.shape\n",
            "(2, 4, 154)\n",
            "ipdb> _nx.concatenate(expanded_arrays,axis=0).shape\n",
            "(2, 4, 476)\n",
            "ipdb> exit\n"
          ]
        },
        {
          "output_type": "stream",
          "name": "stderr",
          "text": [
            "\n",
            "PYDEV DEBUGGER WARNING:\n",
            "sys.settrace() should not be used when the debugger is being used.\n",
            "This may cause the debugger to stop working correctly.\n",
            "If this is needed, please check: \n",
            "http://pydev.blogspot.com/2007/06/why-cant-pydev-debugger-work-with.html\n",
            "to see how to restore the debug tracing back correctly.\n",
            "Call Location:\n",
            "  File \"/usr/lib/python3.7/bdb.py\", line 357, in set_quit\n",
            "    sys.settrace(None)\n",
            "\n"
          ]
        }
      ]
    },
    {
      "cell_type": "markdown",
      "source": [
        "## Other versions: (ignore)\n",
        "\n",
        "### Version 1 from gist\n",
        "\n",
        "https://gist.github.com/danijar/2cd9a7a8f256e93fd18a3ffc510b4a72\n",
        "\n",
        "Verdict - reject: not suitable for multi-agent soccer envs but a useful template if we want to wrap our own perhaps"
      ],
      "metadata": {
        "id": "eAwxzjsPUQNY"
      }
    },
    {
      "cell_type": "code",
      "source": [
        "import argparse\n",
        "import os\n",
        "\n",
        "import gym\n",
        "import gym.spaces\n",
        "\n",
        "\n",
        "class DeepMindWrapper(object):\n",
        "  \"\"\"Wraps a DM Control environment into a Gym interface.\"\"\"\n",
        "\n",
        "  metadata = {'render.modes': ['rgb_array']}\n",
        "  reward_range = (-np.inf, np.inf)\n",
        "\n",
        "  def __init__(self, env, render_size=(64, 64), camera_id=0):\n",
        "    self._env = env\n",
        "    self._render_size = render_size\n",
        "    self._camera_id = camera_id\n",
        "    self.n_agents = len(env.task.players)\n",
        "\n",
        "  def __getattr__(self, name):\n",
        "    return getattr(self._env, name)\n",
        "\n",
        "  @property\n",
        "  def observation_space(self):\n",
        "    components = {}\n",
        "    for key, value in self._env.observation_spec().items():\n",
        "      components[key] = gym.spaces.Box(-np.inf, np.inf, value.shape)\n",
        "    return gym.spaces.Dict(components)\n",
        "\n",
        "  @property\n",
        "  def action_space(self):\n",
        "    action_spec = self._env.action_spec()\n",
        "    return gym.spaces.Box(action_spec.minimum, action_spec.maximum)\n",
        "\n",
        "  def step(self, action):\n",
        "    time_step = self._env.step(action)\n",
        "    obs = dict(time_step.observation)\n",
        "    reward = time_step.reward or 0\n",
        "    done = time_step.last()\n",
        "    info = {'discount': time_step.discount}\n",
        "    return obs, reward, done, info\n",
        "\n",
        "  def reset(self):\n",
        "    time_step = self._env.reset()\n",
        "    return dict(time_step.observation)\n",
        "\n",
        "  def render(self, mode='rgb_array', *args, **kwargs):\n",
        "    if mode != 'rgb_array':\n",
        "      raise ValueError(\"Only render mode 'rgb_array' is supported.\")\n",
        "    del args  # Unused.\n",
        "    del kwargs  # Unused.\n",
        "    return self._env.physics.render(\n",
        "        *self._render_size, camera_id=self._camera_id)\n",
        "\n",
        "\n",
        "class SelectKeysWrapper(object):\n",
        "  \"\"\"Select observations from a dict space and concatenate them.\"\"\"\n",
        "\n",
        "  def __init__(self, env, keys):\n",
        "    self._env = env\n",
        "    self._keys = keys\n",
        "\n",
        "  def __getattr__(self, name):\n",
        "    return getattr(self._env, name)\n",
        "\n",
        "  @property\n",
        "  def observation_space(self):\n",
        "    components = self._env.observation_space.spaces\n",
        "    components = [components[key] for key in self._keys]\n",
        "    low = np.concatenate([component.low for component in components], 0)\n",
        "    high = np.concatenate([component.high for component in components], 0)\n",
        "    return gym.spaces.Box(low, high)\n",
        "\n",
        "  def step(self, action):\n",
        "    obs, reward, done, info = self._env.step(action)\n",
        "    obs = self._select_keys(obs)\n",
        "    return obs, reward, done, info\n",
        "\n",
        "  def reset(self):\n",
        "    obs = self._env.reset()\n",
        "    obs = self._select_keys(obs)\n",
        "    return obs\n",
        "\n",
        "  def _select_keys(self, obs):\n",
        "    return np.concatenate([obs[key] for key in self._keys], 0)\n",
        "\n",
        "\n",
        "def create_env(team_size = 2, time_limit=45.):\n",
        "  env = soccer.load(\n",
        "    team_size=team_size,\n",
        "    time_limit=time_limit,\n",
        "    random_state=random_state,\n",
        "    disable_walker_contacts=False,\n",
        "    walker_type=soccer.WalkerType.BOXHEAD,\n",
        "    terminate_on_goal=True\n",
        ")\n",
        "\n",
        "  env = DeepMindWrapper(env)\n",
        "  # env = SelectKeysWrapper(env, ['position', 'velocity', 'to_target'])\n",
        "  return env\n",
        "\n",
        "\n",
        "def dm_soccer():\n",
        "  env = create_env(2, 45)\n",
        "  return env\n",
        "\n",
        "dm_env = dm_soccer()"
      ],
      "metadata": {
        "id": "D8gZcU9RHylb"
      },
      "execution_count": null,
      "outputs": []
    },
    {
      "cell_type": "markdown",
      "source": [
        "### Recommended by ikostrikov\n",
        "\n",
        "(see readme: \n",
        "https://github.com/ikostrikov/pytorch-a2c-ppo-acktr-gail/blob/master/README.md) \n",
        "\n",
        "\"To use the DeepMind Control Suite environments, set the flag --env-name dm.<domain_name>.<task_name>, where domain_name and task_name are the name of a domain (e.g. hopper) and a task within that domain (e.g. stand) from the DeepMind Control Suite. Refer to their repo and their tech report for a full list of available domains and tasks. Other than setting the task, the API for interacting with the environment is exactly the same as for all the Gym environments thanks to dm_control2gym.\"\n",
        "\n",
        "Verdict - did not try it because it is also not multi-agent. "
      ],
      "metadata": {
        "id": "yuOYc6fNMO-o"
      }
    },
    {
      "cell_type": "markdown",
      "source": [
        "### https://github.com/denisyarats/dmc2gym\n",
        "\n",
        "Verdict - did not try because again, not multi-agent"
      ],
      "metadata": {
        "id": "484J53CkML_k"
      }
    },
    {
      "cell_type": "code",
      "source": [
        "! pip install git+git://github.com/denisyarats/dmc2gym.git"
      ],
      "metadata": {
        "id": "AMHhQ0HkGQEW"
      },
      "execution_count": null,
      "outputs": []
    },
    {
      "cell_type": "markdown",
      "source": [
        "# PPO Implementations: \n",
        "\n",
        "## CleanRL\n",
        "\n",
        "https://github.com/vwxyzjn/cleanrl/blob/master/cleanrl/ppo_continuous_action.py\n",
        "\n",
        "\n",
        "## Another PPO implementation: \n",
        "https://github.com/nikhilbarhate99/PPO-PyTorch/blob/master/PPO_colab.ipynb\n"
      ],
      "metadata": {
        "id": "Y4V11wSYCsIE"
      }
    },
    {
      "cell_type": "code",
      "source": [
        "w = torch.empty(3, 5)\n",
        "torch.nn.init.orthogonal_(w)"
      ],
      "metadata": {
        "colab": {
          "base_uri": "https://localhost:8080/"
        },
        "id": "lQHWi5XECr4o",
        "outputId": "0492292b-e66e-4b2b-e51f-555cf22224b0"
      },
      "execution_count": 23,
      "outputs": [
        {
          "output_type": "execute_result",
          "data": {
            "text/plain": [
              "tensor([[ 0.5222, -0.0994, -0.7384,  0.1926, -0.3675],\n",
              "        [-0.5365,  0.2106, -0.1429, -0.3588, -0.7202],\n",
              "        [-0.4409,  0.0663, -0.0457,  0.8898, -0.0864]])"
            ]
          },
          "metadata": {},
          "execution_count": 23
        }
      ]
    },
    {
      "cell_type": "code",
      "source": [
        "import torch.nn as nn\n",
        "from torch.distributions.normal import Normal\n",
        "\n",
        "def layer_init(layer, std=np.sqrt(2), bias_const=0.0):\n",
        "    torch.nn.init.orthogonal_(layer.weight, std)\n",
        "    torch.nn.init.constant_(layer.bias, bias_const)\n",
        "    return layer\n",
        "\n",
        "\n",
        "class Agent(nn.Module):\n",
        "    def __init__(self, envs):\n",
        "        super(Agent, self).__init__()\n",
        "        self.critic = nn.Sequential(\n",
        "            layer_init(nn.Linear(np.array(envs.single_observation_space.shape).prod(), 64)),\n",
        "            nn.Tanh(),\n",
        "            layer_init(nn.Linear(64, 64)),\n",
        "            nn.Tanh(),\n",
        "            layer_init(nn.Linear(64, 1), std=1.0),\n",
        "        )\n",
        "        self.actor_mean = nn.Sequential(\n",
        "            layer_init(nn.Linear(np.array(envs.single_observation_space.shape).prod(), 64)),\n",
        "            nn.Tanh(),\n",
        "            layer_init(nn.Linear(64, 64)),\n",
        "            nn.Tanh(),\n",
        "            layer_init(nn.Linear(64, np.prod(envs.single_action_space.shape)), std=0.01),\n",
        "        )\n",
        "        self.actor_logstd = nn.Parameter(torch.zeros(1, np.prod(envs.single_action_space.shape)))\n",
        "\n",
        "    def get_value(self, x):\n",
        "        return self.critic(x)\n",
        "\n",
        "    def get_action_and_value(self, x, action=None):\n",
        "        action_mean = self.actor_mean(x)\n",
        "        action_logstd = self.actor_logstd.expand_as(action_mean)\n",
        "        action_std = torch.exp(action_logstd)\n",
        "        probs = Normal(action_mean, action_std)\n",
        "        if action is None:\n",
        "            action = probs.sample()\n",
        "        return action, probs.log_prob(action).sum(1), probs.entropy().sum(1), self.critic(x)\n"
      ],
      "metadata": {
        "id": "9GLRsxY3Dskb"
      },
      "execution_count": 40,
      "outputs": []
    },
    {
      "cell_type": "code",
      "source": [
        "agent = Agent(env_p)"
      ],
      "metadata": {
        "id": "S16NSJ5sHKuY"
      },
      "execution_count": 41,
      "outputs": []
    },
    {
      "cell_type": "code",
      "source": [
        "obs = torch.tensor(obs.flatten(), dtype=torch.float).unsqueeze(0)\n",
        "obs.shape"
      ],
      "metadata": {
        "colab": {
          "base_uri": "https://localhost:8080/"
        },
        "id": "DMFcix1jKioy",
        "outputId": "389dec21-9cf4-4aea-ba22-f0ddffde9efb"
      },
      "execution_count": 45,
      "outputs": [
        {
          "output_type": "execute_result",
          "data": {
            "text/plain": [
              "torch.Size([1, 1904])"
            ]
          },
          "metadata": {},
          "execution_count": 45
        }
      ]
    },
    {
      "cell_type": "code",
      "source": [
        "agent.get_value(obs)"
      ],
      "metadata": {
        "colab": {
          "base_uri": "https://localhost:8080/"
        },
        "id": "8Zyfrfm9HQqx",
        "outputId": "6834b14b-16a9-4748-ed58-8101043335b3"
      },
      "execution_count": 46,
      "outputs": [
        {
          "output_type": "execute_result",
          "data": {
            "text/plain": [
              "tensor([[0.3872]], grad_fn=<AddmmBackward0>)"
            ]
          },
          "metadata": {},
          "execution_count": 46
        }
      ]
    },
    {
      "cell_type": "code",
      "source": [
        "agent.get_action_and_value(obs)"
      ],
      "metadata": {
        "colab": {
          "base_uri": "https://localhost:8080/"
        },
        "id": "IKVNR3JZHXB5",
        "outputId": "8dad7173-b794-4bd1-e5e9-ce6ee19be441"
      },
      "execution_count": 47,
      "outputs": [
        {
          "output_type": "stream",
          "name": "stdout",
          "text": [
            "torch.Size([1, 12])\n",
            "torch.Size([1, 12])\n"
          ]
        },
        {
          "output_type": "execute_result",
          "data": {
            "text/plain": [
              "(tensor([[ 0.1256,  0.5243,  0.7765, -0.8930,  0.7590, -0.2063,  0.5588,  0.7723,\n",
              "          -0.5335, -1.0267, -0.9636,  1.4813]]),\n",
              " tensor([-14.8463], grad_fn=<SumBackward1>),\n",
              " tensor([17.0273], grad_fn=<SumBackward1>),\n",
              " tensor([[0.3872]], grad_fn=<AddmmBackward0>))"
            ]
          },
          "metadata": {},
          "execution_count": 47
        }
      ]
    },
    {
      "cell_type": "code",
      "source": [
        "import argparse\n",
        "import os\n",
        "import random\n",
        "import time\n",
        "from distutils.util import strtobool\n",
        "import torch.optim as optim\n",
        "from torch.utils.tensorboard import SummaryWriter\n",
        "import collections"
      ],
      "metadata": {
        "id": "SITIIbUbLc91"
      },
      "execution_count": 56,
      "outputs": []
    },
    {
      "cell_type": "code",
      "source": [
        "args = {'exp_name': None,\n",
        " 'gym_id': 'DMSoccerEnv-v0',\n",
        " 'learning_rate': 0.0003,\n",
        " 'seed': 1,\n",
        " 'total_timesteps': 2000000,\n",
        " 'torch_deterministic': True,\n",
        " 'cuda': True,\n",
        " 'track': False,\n",
        " 'wandb_project_name': 'cleanRL',\n",
        " 'wandb_entity': None,\n",
        " 'capture_video': False,\n",
        " 'num_envs': 1,\n",
        " 'num_steps': 2048,\n",
        " 'anneal_lr': True,\n",
        " 'gae': True,\n",
        " 'gamma': 0.99,\n",
        " 'gae_lambda': 0.95,\n",
        " 'num_minibatches': 32,\n",
        " 'update_epochs': 10,\n",
        " 'norm_adv': True,\n",
        " 'clip_coef': 0.2,\n",
        " 'clip_vloss': True,\n",
        " 'ent_coef': 0.0,\n",
        " 'vf_coef': 0.5,\n",
        " 'max_grad_norm': 0.5,\n",
        " 'target_kl': None,\n",
        " 'batch_size': 2048,\n",
        " 'minibatch_size': 64}"
      ],
      "metadata": {
        "id": "c1HIHvnSPaPT"
      },
      "execution_count": 57,
      "outputs": []
    },
    {
      "cell_type": "code",
      "source": [
        "run_name = f\"{args['gym_id']}__{args['exp_name']}__{args['seed']}__{int(time.time())}\"\n",
        "writer = SummaryWriter(f\"runs/{run_name}\")\n",
        "writer.add_text(\n",
        "    \"hyperparameters\",\n",
        "    \"|param|value|\\n|-|-|\\n%s\" % (\"\\n\".join([f\"|{key}|{value}|\" for key, value in args.items()])),\n",
        ")\n"
      ],
      "metadata": {
        "id": "EP2VVrnqWPHp"
      },
      "execution_count": 60,
      "outputs": []
    },
    {
      "cell_type": "code",
      "source": [
        "# TRY NOT TO MODIFY: seeding\n",
        "random.seed(args['seed'])\n",
        "np.random.seed(args['seed'])\n",
        "torch.manual_seed(args['seed'])\n",
        "torch.backends.cudnn.deterministic = args['torch_deterministic']\n",
        "\n",
        "device = torch.device(\"cuda\" if torch.cuda.is_available() and args['cuda'] else \"cpu\")\n",
        "\n",
        "# env setup\n",
        "envs = gym.vector.SyncVectorEnv([make_env('DMSoccerEnv-v0', i) for i in range(args['num_envs'])])\n",
        "# envs = gym.vector.SyncVectorEnv(\n",
        "#     [make_env(args['gym_id'], args['seed'] + i, i, args['capture_video'], run_name) for i in range(args['num_envs'])]\n",
        "# )\n",
        "assert isinstance(envs.single_action_space, gym.spaces.Box), \"only continuous action space is supported\"\n",
        "\n",
        "agent = Agent(envs).to(device)\n",
        "optimizer = optim.Adam(agent.parameters(), lr=args['learning_rate'], eps=1e-5)\n",
        "\n",
        "# ALGO Logic: Storage setup\n",
        "obs = torch.zeros((args['num_steps'], args['num_envs']) + envs.single_observation_space.shape).to(device)\n",
        "actions = torch.zeros((args['num_steps'], args['num_envs']) + envs.single_action_space.shape).to(device)\n",
        "logprobs = torch.zeros((args['num_steps'], args['num_envs'])).to(device)\n",
        "rewards = torch.zeros((args['num_steps'], args['num_envs'])).to(device)\n",
        "dones = torch.zeros((args['num_steps'], args['num_envs'])).to(device)\n",
        "values = torch.zeros((args['num_steps'], args['num_envs'])).to(device)\n",
        "\n",
        "# TRY NOT TO MODIFY: start the game\n",
        "global_step = 0\n",
        "start_time = time.time()\n",
        "next_obs = torch.Tensor(envs.reset()).to(device)\n",
        "next_done = torch.zeros(args['num_envs']).to(device)\n",
        "num_updates = args['total_timesteps'] // args['batch_size']\n",
        "\n",
        "for update in range(1, num_updates + 1):\n",
        "    # Annealing the rate if instructed to do so.\n",
        "    if args['anneal_lr']:\n",
        "        frac = 1.0 - (update - 1.0) / num_updates\n",
        "        lrnow = frac * args['learning_rate']\n",
        "        optimizer.param_groups[0][\"lr\"] = lrnow\n",
        "\n",
        "    for step in range(0, args['num_steps']):\n",
        "        global_step += 1 * args['num_envs']\n",
        "        print(next_obs.shape)\n",
        "        obs[step] = next_obs\n",
        "        dones[step] = next_done\n",
        "\n",
        "        # ALGO LOGIC: action logic\n",
        "        with torch.no_grad():\n",
        "            # obs = torch.tensor(obs.flatten(), dtype=torch.float).unsqueeze(0)\n",
        "            action, logprob, _, value = agent.get_action_and_value(next_obs.flatten().unsqueeze(0))\n",
        "            values[step] = value.flatten()\n",
        "        action = action.squeeze(0).reshape(envs.single_action_space.shape)\n",
        "        actions[step] = action\n",
        "        logprobs[step] = logprob\n",
        "\n",
        "        # TRY NOT TO MODIFY: execute the game and log data.\n",
        "        print(action.shape, action.detach().cpu().numpy())\n",
        "        next_obs, reward, done, info = envs.step(action.cpu().numpy())\n",
        "        rewards[step] = torch.tensor(reward).to(device).view(-1)\n",
        "        next_obs, next_done = torch.Tensor(next_obs).to(device), torch.Tensor(done).to(device)\n",
        "\n",
        "        for item in info:\n",
        "            if \"episode\" in item.keys():\n",
        "                print(f\"global_step={global_step}, episodic_return={item['episode']['r']}\")\n",
        "                writer.add_scalar(\"charts/episodic_return\", item[\"episode\"][\"r\"], global_step)\n",
        "                writer.add_scalar(\"charts/episodic_length\", item[\"episode\"][\"l\"], global_step)\n",
        "                break\n",
        "\n",
        "    # bootstrap value if not done\n",
        "    with torch.no_grad():\n",
        "        next_value = agent.get_value(next_obs.flatten()).reshape(1, -1)\n",
        "        if args['gae']:\n",
        "            advantages = torch.zeros_like(rewards).to(device)\n",
        "            lastgaelam = 0\n",
        "            for t in reversed(range(args['num_steps'])):\n",
        "                if t == args['num_steps'] - 1:\n",
        "                    nextnonterminal = 1.0 - next_done\n",
        "                    nextvalues = next_value\n",
        "                else:\n",
        "                    nextnonterminal = 1.0 - dones[t + 1]\n",
        "                    nextvalues = values[t + 1]\n",
        "                delta = rewards[t] + args['gamma'] * nextvalues * nextnonterminal - values[t]\n",
        "                advantages[t] = lastgaelam = delta + args['gamma'] * args['gae_lambda'] * nextnonterminal * lastgaelam\n",
        "            returns = advantages + values\n",
        "        else:\n",
        "            returns = torch.zeros_like(rewards).to(device)\n",
        "            for t in reversed(range(args['num_steps'])):\n",
        "                if t == args['num_steps'] - 1:\n",
        "                    nextnonterminal = 1.0 - next_done\n",
        "                    next_return = next_value\n",
        "                else:\n",
        "                    nextnonterminal = 1.0 - dones[t + 1]\n",
        "                    next_return = returns[t + 1]\n",
        "                returns[t] = rewards[t] + args['gamma'] * nextnonterminal * next_return\n",
        "            advantages = returns - values\n",
        "\n",
        "    # flatten the batch\n",
        "    b_obs = obs.reshape((-1,) + envs.single_observation_space.shape)\n",
        "    b_logprobs = logprobs.reshape(-1)\n",
        "    b_actions = actions.reshape((-1,) + envs.single_action_space.shape)\n",
        "    b_advantages = advantages.reshape(-1)\n",
        "    b_returns = returns.reshape(-1)\n",
        "    b_values = values.reshape(-1)\n",
        "\n",
        "    # Optimizaing the policy and value network\n",
        "    b_inds = np.arange(args['batch_size'])\n",
        "    clipfracs = []\n",
        "    for epoch in range(args['update_epochs']):\n",
        "        np.random.shuffle(b_inds)\n",
        "        for start in range(0, args['batch_size'], args['minibatch_size']):\n",
        "            end = start + args['minibatch_size']\n",
        "            mb_inds = b_inds[start:end]\n",
        "\n",
        "            _, newlogprob, entropy, newvalue = agent.get_action_and_value(b_obs[mb_inds], b_actions[mb_inds])\n",
        "            logratio = newlogprob - b_logprobs[mb_inds]\n",
        "            ratio = logratio.exp()\n",
        "\n",
        "            with torch.no_grad():\n",
        "                # calculate approx_kl http://joschu.net/blog/kl-approx.html\n",
        "                # old_approx_kl = (-logratio).mean()\n",
        "                approx_kl = ((ratio - 1) - logratio).mean()\n",
        "                clipfracs += [((ratio - 1.0).abs() > args['clip_coef']).float().mean().item()]\n",
        "\n",
        "            mb_advantages = b_advantages[mb_inds]\n",
        "            if args['norm_adv']:\n",
        "                mb_advantages = (mb_advantages - mb_advantages.mean()) / (mb_advantages.std() + 1e-8)\n",
        "\n",
        "            # Policy loss\n",
        "            pg_loss1 = -mb_advantages * ratio\n",
        "            pg_loss2 = -mb_advantages * torch.clamp(ratio, 1 - args['clip_coef'], 1 + args['clip_coef'])\n",
        "            pg_loss = torch.max(pg_loss1, pg_loss2).mean()\n",
        "\n",
        "            # Value loss\n",
        "            newvalue = newvalue.view(-1)\n",
        "            if args['clip_vloss']:\n",
        "                v_loss_unclipped = (newvalue - b_returns[mb_inds]) ** 2\n",
        "                v_clipped = b_values[mb_inds] + torch.clamp(\n",
        "                    newvalue - b_values[mb_inds],\n",
        "                    -args['clip_coef'],\n",
        "                    args['clip_coef'],\n",
        "                    )\n",
        "                v_loss_clipped = (v_clipped - b_returns[mb_inds]) ** 2\n",
        "                v_loss_max = torch.max(v_loss_unclipped, v_loss_clipped)\n",
        "                v_loss = 0.5 * v_loss_max.mean()\n",
        "            else:\n",
        "                v_loss = 0.5 * ((newvalue - b_returns[mb_inds]) ** 2).mean()\n",
        "\n",
        "            entropy_loss = entropy.mean()\n",
        "            loss = pg_loss - args['ent_coef'] * entropy_loss + v_loss * args['vf_coef']\n",
        "\n",
        "            optimizer.zero_grad()\n",
        "            loss.backward()\n",
        "            nn.utils.clip_grad_norm_(agent.parameters(), args['max_grad_norm'])\n",
        "            optimizer.step()\n",
        "\n",
        "        if args['target_kl'] is not None:\n",
        "            if approx_kl > args['target_kl']:\n",
        "                break\n",
        "\n",
        "    y_pred, y_true = b_values.cpu().numpy(), b_returns.cpu().numpy()\n",
        "    var_y = np.var(y_true)\n",
        "    explained_var = np.nan if var_y == 0 else 1 - np.var(y_true - y_pred) / var_y\n",
        "\n",
        "    # TRY NOT TO MODIFY: record rewards for plotting purposes\n",
        "    writer.add_scalar(\"charts/learning_rate\", optimizer.param_groups[0][\"lr\"], global_step)\n",
        "    writer.add_scalar(\"losses/value_loss\", v_loss.item(), global_step)\n",
        "    writer.add_scalar(\"losses/policy_loss\", pg_loss.item(), global_step)\n",
        "    writer.add_scalar(\"losses/entropy\", entropy_loss.item(), global_step)\n",
        "    writer.add_scalar(\"losses/approx_kl\", approx_kl.item(), global_step)\n",
        "    writer.add_scalar(\"losses/clipfrac\", np.mean(clipfracs), global_step)\n",
        "    writer.add_scalar(\"losses/explained_variance\", explained_var, global_step)\n",
        "    print(\"SPS:\", int(global_step / (time.time() - start_time)))\n",
        "    writer.add_scalar(\"charts/SPS\", int(global_step / (time.time() - start_time)), global_step)\n",
        "\n",
        "envs.close()\n",
        "writer.close()"
      ],
      "metadata": {
        "colab": {
          "base_uri": "https://localhost:8080/",
          "height": 589
        },
        "id": "kfdViHbsHpy2",
        "outputId": "5150f121-6dcb-4a8d-e82d-1ecbee613d31"
      },
      "execution_count": 72,
      "outputs": [
        {
          "output_type": "stream",
          "name": "stdout",
          "text": [
            "torch.Size([1, 4, 476])\n",
            "torch.Size([1, 12])\n",
            "torch.Size([1, 12])\n",
            "torch.Size([4, 3]) [[-0.915384   -0.419799   -2.644119  ]\n",
            " [ 0.14871371 -0.11997638 -0.5729021 ]\n",
            " [-0.6291348  -0.32967693 -1.06546   ]\n",
            " [-0.36952123 -1.6715155   2.2458732 ]]\n"
          ]
        },
        {
          "output_type": "error",
          "ename": "ValueError",
          "evalue": "ignored",
          "traceback": [
            "\u001b[0;31m---------------------------------------------------------------------------\u001b[0m",
            "\u001b[0;31mTypeError\u001b[0m                                 Traceback (most recent call last)",
            "\u001b[0;31mTypeError\u001b[0m: float() argument must be a string or a number, not 'list'",
            "\nThe above exception was the direct cause of the following exception:\n",
            "\u001b[0;31mValueError\u001b[0m                                Traceback (most recent call last)",
            "\u001b[0;32m<ipython-input-72-42a4ba41a782>\u001b[0m in \u001b[0;36m<module>\u001b[0;34m()\u001b[0m\n\u001b[1;32m     56\u001b[0m         \u001b[0;31m# TRY NOT TO MODIFY: execute the game and log data.\u001b[0m\u001b[0;34m\u001b[0m\u001b[0;34m\u001b[0m\u001b[0;34m\u001b[0m\u001b[0m\n\u001b[1;32m     57\u001b[0m         \u001b[0mprint\u001b[0m\u001b[0;34m(\u001b[0m\u001b[0maction\u001b[0m\u001b[0;34m.\u001b[0m\u001b[0mshape\u001b[0m\u001b[0;34m,\u001b[0m \u001b[0maction\u001b[0m\u001b[0;34m.\u001b[0m\u001b[0mdetach\u001b[0m\u001b[0;34m(\u001b[0m\u001b[0;34m)\u001b[0m\u001b[0;34m.\u001b[0m\u001b[0mcpu\u001b[0m\u001b[0;34m(\u001b[0m\u001b[0;34m)\u001b[0m\u001b[0;34m.\u001b[0m\u001b[0mnumpy\u001b[0m\u001b[0;34m(\u001b[0m\u001b[0;34m)\u001b[0m\u001b[0;34m)\u001b[0m\u001b[0;34m\u001b[0m\u001b[0;34m\u001b[0m\u001b[0m\n\u001b[0;32m---> 58\u001b[0;31m         \u001b[0mnext_obs\u001b[0m\u001b[0;34m,\u001b[0m \u001b[0mreward\u001b[0m\u001b[0;34m,\u001b[0m \u001b[0mdone\u001b[0m\u001b[0;34m,\u001b[0m \u001b[0minfo\u001b[0m \u001b[0;34m=\u001b[0m \u001b[0menvs\u001b[0m\u001b[0;34m.\u001b[0m\u001b[0mstep\u001b[0m\u001b[0;34m(\u001b[0m\u001b[0maction\u001b[0m\u001b[0;34m.\u001b[0m\u001b[0mcpu\u001b[0m\u001b[0;34m(\u001b[0m\u001b[0;34m)\u001b[0m\u001b[0;34m.\u001b[0m\u001b[0mnumpy\u001b[0m\u001b[0;34m(\u001b[0m\u001b[0;34m)\u001b[0m\u001b[0;34m)\u001b[0m\u001b[0;34m\u001b[0m\u001b[0;34m\u001b[0m\u001b[0m\n\u001b[0m\u001b[1;32m     59\u001b[0m         \u001b[0mrewards\u001b[0m\u001b[0;34m[\u001b[0m\u001b[0mstep\u001b[0m\u001b[0;34m]\u001b[0m \u001b[0;34m=\u001b[0m \u001b[0mtorch\u001b[0m\u001b[0;34m.\u001b[0m\u001b[0mtensor\u001b[0m\u001b[0;34m(\u001b[0m\u001b[0mreward\u001b[0m\u001b[0;34m)\u001b[0m\u001b[0;34m.\u001b[0m\u001b[0mto\u001b[0m\u001b[0;34m(\u001b[0m\u001b[0mdevice\u001b[0m\u001b[0;34m)\u001b[0m\u001b[0;34m.\u001b[0m\u001b[0mview\u001b[0m\u001b[0;34m(\u001b[0m\u001b[0;34m-\u001b[0m\u001b[0;36m1\u001b[0m\u001b[0;34m)\u001b[0m\u001b[0;34m\u001b[0m\u001b[0;34m\u001b[0m\u001b[0m\n\u001b[1;32m     60\u001b[0m         \u001b[0mnext_obs\u001b[0m\u001b[0;34m,\u001b[0m \u001b[0mnext_done\u001b[0m \u001b[0;34m=\u001b[0m \u001b[0mtorch\u001b[0m\u001b[0;34m.\u001b[0m\u001b[0mTensor\u001b[0m\u001b[0;34m(\u001b[0m\u001b[0mnext_obs\u001b[0m\u001b[0;34m)\u001b[0m\u001b[0;34m.\u001b[0m\u001b[0mto\u001b[0m\u001b[0;34m(\u001b[0m\u001b[0mdevice\u001b[0m\u001b[0;34m)\u001b[0m\u001b[0;34m,\u001b[0m \u001b[0mtorch\u001b[0m\u001b[0;34m.\u001b[0m\u001b[0mTensor\u001b[0m\u001b[0;34m(\u001b[0m\u001b[0mdone\u001b[0m\u001b[0;34m)\u001b[0m\u001b[0;34m.\u001b[0m\u001b[0mto\u001b[0m\u001b[0;34m(\u001b[0m\u001b[0mdevice\u001b[0m\u001b[0;34m)\u001b[0m\u001b[0;34m\u001b[0m\u001b[0;34m\u001b[0m\u001b[0m\n",
            "\u001b[0;32m/usr/local/lib/python3.7/dist-packages/gym/vector/vector_env.py\u001b[0m in \u001b[0;36mstep\u001b[0;34m(self, actions)\u001b[0m\n\u001b[1;32m     90\u001b[0m \u001b[0;34m\u001b[0m\u001b[0m\n\u001b[1;32m     91\u001b[0m         \u001b[0mself\u001b[0m\u001b[0;34m.\u001b[0m\u001b[0mstep_async\u001b[0m\u001b[0;34m(\u001b[0m\u001b[0mactions\u001b[0m\u001b[0;34m)\u001b[0m\u001b[0;34m\u001b[0m\u001b[0;34m\u001b[0m\u001b[0m\n\u001b[0;32m---> 92\u001b[0;31m         \u001b[0;32mreturn\u001b[0m \u001b[0mself\u001b[0m\u001b[0;34m.\u001b[0m\u001b[0mstep_wait\u001b[0m\u001b[0;34m(\u001b[0m\u001b[0;34m)\u001b[0m\u001b[0;34m\u001b[0m\u001b[0;34m\u001b[0m\u001b[0m\n\u001b[0m\u001b[1;32m     93\u001b[0m \u001b[0;34m\u001b[0m\u001b[0m\n\u001b[1;32m     94\u001b[0m     \u001b[0;32mdef\u001b[0m \u001b[0mclose_extras\u001b[0m\u001b[0;34m(\u001b[0m\u001b[0mself\u001b[0m\u001b[0;34m,\u001b[0m \u001b[0;34m**\u001b[0m\u001b[0mkwargs\u001b[0m\u001b[0;34m)\u001b[0m\u001b[0;34m:\u001b[0m\u001b[0;34m\u001b[0m\u001b[0;34m\u001b[0m\u001b[0m\n",
            "\u001b[0;32m/usr/local/lib/python3.7/dist-packages/gym/vector/sync_vector_env.py\u001b[0m in \u001b[0;36mstep_wait\u001b[0;34m(self)\u001b[0m\n\u001b[1;32m     75\u001b[0m         \u001b[0mobservations\u001b[0m\u001b[0;34m,\u001b[0m \u001b[0minfos\u001b[0m \u001b[0;34m=\u001b[0m \u001b[0;34m[\u001b[0m\u001b[0;34m]\u001b[0m\u001b[0;34m,\u001b[0m \u001b[0;34m[\u001b[0m\u001b[0;34m]\u001b[0m\u001b[0;34m\u001b[0m\u001b[0;34m\u001b[0m\u001b[0m\n\u001b[1;32m     76\u001b[0m         \u001b[0;32mfor\u001b[0m \u001b[0mi\u001b[0m\u001b[0;34m,\u001b[0m \u001b[0;34m(\u001b[0m\u001b[0menv\u001b[0m\u001b[0;34m,\u001b[0m \u001b[0maction\u001b[0m\u001b[0;34m)\u001b[0m \u001b[0;32min\u001b[0m \u001b[0menumerate\u001b[0m\u001b[0;34m(\u001b[0m\u001b[0mzip\u001b[0m\u001b[0;34m(\u001b[0m\u001b[0mself\u001b[0m\u001b[0;34m.\u001b[0m\u001b[0menvs\u001b[0m\u001b[0;34m,\u001b[0m \u001b[0mself\u001b[0m\u001b[0;34m.\u001b[0m\u001b[0m_actions\u001b[0m\u001b[0;34m)\u001b[0m\u001b[0;34m)\u001b[0m\u001b[0;34m:\u001b[0m\u001b[0;34m\u001b[0m\u001b[0;34m\u001b[0m\u001b[0m\n\u001b[0;32m---> 77\u001b[0;31m             \u001b[0mobservation\u001b[0m\u001b[0;34m,\u001b[0m \u001b[0mself\u001b[0m\u001b[0;34m.\u001b[0m\u001b[0m_rewards\u001b[0m\u001b[0;34m[\u001b[0m\u001b[0mi\u001b[0m\u001b[0;34m]\u001b[0m\u001b[0;34m,\u001b[0m \u001b[0mself\u001b[0m\u001b[0;34m.\u001b[0m\u001b[0m_dones\u001b[0m\u001b[0;34m[\u001b[0m\u001b[0mi\u001b[0m\u001b[0;34m]\u001b[0m\u001b[0;34m,\u001b[0m \u001b[0minfo\u001b[0m \u001b[0;34m=\u001b[0m \u001b[0menv\u001b[0m\u001b[0;34m.\u001b[0m\u001b[0mstep\u001b[0m\u001b[0;34m(\u001b[0m\u001b[0maction\u001b[0m\u001b[0;34m)\u001b[0m\u001b[0;34m\u001b[0m\u001b[0;34m\u001b[0m\u001b[0m\n\u001b[0m\u001b[1;32m     78\u001b[0m             \u001b[0;32mif\u001b[0m \u001b[0mself\u001b[0m\u001b[0;34m.\u001b[0m\u001b[0m_dones\u001b[0m\u001b[0;34m[\u001b[0m\u001b[0mi\u001b[0m\u001b[0;34m]\u001b[0m\u001b[0;34m:\u001b[0m\u001b[0;34m\u001b[0m\u001b[0;34m\u001b[0m\u001b[0m\n\u001b[1;32m     79\u001b[0m                 \u001b[0mobservation\u001b[0m \u001b[0;34m=\u001b[0m \u001b[0menv\u001b[0m\u001b[0;34m.\u001b[0m\u001b[0mreset\u001b[0m\u001b[0;34m(\u001b[0m\u001b[0;34m)\u001b[0m\u001b[0;34m\u001b[0m\u001b[0;34m\u001b[0m\u001b[0m\n",
            "\u001b[0;31mValueError\u001b[0m: setting an array element with a sequence."
          ]
        }
      ]
    },
    {
      "cell_type": "code",
      "source": [
        ""
      ],
      "metadata": {
        "id": "QmmEYbaaWntj"
      },
      "execution_count": null,
      "outputs": []
    }
  ]
}