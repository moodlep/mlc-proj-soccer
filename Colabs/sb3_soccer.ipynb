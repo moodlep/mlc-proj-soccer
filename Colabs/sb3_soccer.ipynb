{
  "nbformat": 4,
  "nbformat_minor": 0,
  "metadata": {
    "colab": {
      "name": "sb3_soccer.ipynb",
      "provenance": [],
      "collapsed_sections": [
        "ynsnw2oprCYs",
        "WfoqIbXirpSJ",
        "eAwxzjsPUQNY"
      ],
      "authorship_tag": "ABX9TyMRQLzinpXDVLWzVA7Fb+A+",
      "include_colab_link": true
    },
    "kernelspec": {
      "name": "python3",
      "display_name": "Python 3"
    },
    "language_info": {
      "name": "python"
    },
    "accelerator": "GPU"
  },
  "cells": [
    {
      "cell_type": "markdown",
      "metadata": {
        "id": "view-in-github",
        "colab_type": "text"
      },
      "source": [
        "<a href=\"https://colab.research.google.com/github/moodlep/mlc-proj-soccer/blob/main/Colabs/sb3_soccer.ipynb\" target=\"_parent\"><img src=\"https://colab.research.google.com/assets/colab-badge.svg\" alt=\"Open In Colab\"/></a>"
      ]
    },
    {
      "cell_type": "markdown",
      "source": [
        "# Installations"
      ],
      "metadata": {
        "id": "FsCNFqm8qZ7s"
      }
    },
    {
      "cell_type": "markdown",
      "source": [
        "Copied from dm_control introduction tutorial"
      ],
      "metadata": {
        "id": "hLCoQmNEqctX"
      }
    },
    {
      "cell_type": "markdown",
      "metadata": {
        "id": "YvyGCsgSCxHQ"
      },
      "source": [
        "### Installing `dm_control` on Colab\n",
        "\n",
        "This notebook provides an overview tutorial of DeepMind's `dm_control` package, hosted at the [deepmind/dm_control](https://github.com/deepmind/dm_control) repository on GitHub.\n",
        "\n",
        "It is adjunct to this [tech report](http://arxiv.org/abs/2006.12983).\n",
        "\n",
        "**A Colab runtime with GPU acceleration is required.** If you're using a CPU-only runtime, you can switch using the menu \"Runtime > Change runtime type\"."
      ]
    },
    {
      "cell_type": "code",
      "execution_count": 1,
      "metadata": {
        "id": "IbZxYDxzoz5R",
        "colab": {
          "base_uri": "https://localhost:8080/"
        },
        "outputId": "782737df-f4e8-46b7-e26c-920f3f06b362"
      },
      "outputs": [
        {
          "output_type": "stream",
          "name": "stdout",
          "text": [
            "Installing OpenGL dependencies...\n",
            "Downloading MuJoCo...\n",
            "Unpacking MuJoCo...\n",
            "env: MUJOCO_GL=egl\n",
            "Installing dm_control...\n",
            "\u001b[K     |████████████████████████████████| 38.6 MB 1.4 MB/s \n",
            "\u001b[K     |████████████████████████████████| 4.9 MB 34.9 MB/s \n",
            "\u001b[K     |████████████████████████████████| 205 kB 42.9 MB/s \n",
            "\u001b[?25hChecking that the dm_control installation succeeded...\n"
          ]
        },
        {
          "output_type": "stream",
          "name": "stderr",
          "text": [
            "Exception ignored in: <function _create_finalizer.<locals>.callback at 0x7f0be73a6dd0>\n",
            "Traceback (most recent call last):\n",
            "  File \"/usr/local/lib/python3.7/dist-packages/dm_control/mujoco/wrapper/core.py\", line 261, in callback\n",
            "  File \"/usr/local/lib/python3.7/dist-packages/dm_control/mujoco/wrapper/core.py\", line 802, in finalize_mjr_context\n",
            "  File \"/usr/lib/python3.7/contextlib.py\", line 112, in __enter__\n",
            "  File \"/usr/local/lib/python3.7/dist-packages/dm_control/_render/base.py\", line 114, in make_current\n",
            "RuntimeError: Cannot make context <dm_control._render.pyopengl.egl_renderer.EGLContext object at 0x7f0be7393950> current on thread <Thread(_colab_inspector_thread, started daemon 139689245558528)>: this context is already current on another thread <_MainThread(MainThread, started 139689897625472)>.\n"
          ]
        }
      ],
      "source": [
        "# Run to install MuJoCo and `dm_control`\n",
        "import distutils.util\n",
        "import subprocess\n",
        "if subprocess.run('nvidia-smi').returncode:\n",
        "  raise RuntimeError(\n",
        "      'Cannot communicate with GPU. '\n",
        "      'Make sure you are using a GPU Colab runtime. '\n",
        "      'Go to the Runtime menu and select Choose runtime type.')\n",
        "\n",
        "mujoco_dir = \"$HOME/.mujoco\"\n",
        "\n",
        "print('Installing OpenGL dependencies...')\n",
        "!apt-get update -qq\n",
        "!apt-get install -qq -y --no-install-recommends libglew2.0 > /dev/null\n",
        "\n",
        "print('Downloading MuJoCo...')\n",
        "MUJOCO_VERSION = 210\n",
        "MUJOCO_ARCHIVE = (\n",
        "    f'mujoco{MUJOCO_VERSION}-{distutils.util.get_platform()}.tar.gz')\n",
        "!wget -q \"https://mujoco.org/download/{MUJOCO_ARCHIVE}\"\n",
        "!wget -q \"https://mujoco.org/download/{MUJOCO_ARCHIVE}.sha256\"\n",
        "check_result = !shasum -c \"{MUJOCO_ARCHIVE}.sha256\"\n",
        "if _exit_code:\n",
        "  raise RuntimeError(\n",
        "      'Downloaded MuJoCo archive is corrupted (checksum mismatch)')\n",
        "\n",
        "print('Unpacking MuJoCo...')\n",
        "MUJOCO_DIR = '$HOME/.mujoco'\n",
        "!mkdir -p \"{MUJOCO_DIR}\"\n",
        "!tar -zxf {MUJOCO_ARCHIVE} -C \"{MUJOCO_DIR}\"\n",
        "\n",
        "# Configure dm_control to use the EGL rendering backend (requires GPU)\n",
        "%env MUJOCO_GL=egl\n",
        "\n",
        "print('Installing dm_control...')\n",
        "!pip install -q dm_control\n",
        "\n",
        "print('Checking that the dm_control installation succeeded...')\n",
        "try:\n",
        "  from dm_control import suite\n",
        "  env = suite.load('cartpole', 'swingup')\n",
        "  pixels = env.physics.render()\n",
        "except Exception as e:\n",
        "  raise e from RuntimeError(\n",
        "      'Something went wrong during installation. Check the shell output above '\n",
        "      'for more information.\\n'\n",
        "      'If using a hosted Colab runtime, make sure you enable GPU acceleration '\n",
        "      'by going to the Runtime menu and selecting \"Choose runtime type\".')\n",
        "else:\n",
        "  del suite, env, pixels"
      ]
    },
    {
      "cell_type": "markdown",
      "source": [
        "## Installing SB3 - obsolete"
      ],
      "metadata": {
        "id": "ynsnw2oprCYs"
      }
    },
    {
      "cell_type": "code",
      "source": [
        "!apt-get install ffmpeg freeglut3-dev xvfb  # For visualization"
      ],
      "metadata": {
        "colab": {
          "base_uri": "https://localhost:8080/"
        },
        "id": "FyELA95BzTSG",
        "outputId": "bca813a4-e196-4a31-dab6-2b2971d96a19"
      },
      "execution_count": null,
      "outputs": [
        {
          "output_type": "stream",
          "name": "stdout",
          "text": [
            "Reading package lists... Done\n",
            "Building dependency tree       \n",
            "Reading state information... Done\n",
            "freeglut3-dev is already the newest version (2.8.1-3).\n",
            "freeglut3-dev set to manually installed.\n",
            "ffmpeg is already the newest version (7:3.4.8-0ubuntu0.2).\n",
            "The following additional packages will be installed:\n",
            "  xserver-common\n",
            "Recommended packages:\n",
            "  xfonts-base\n",
            "The following NEW packages will be installed:\n",
            "  xvfb\n",
            "The following packages will be upgraded:\n",
            "  xserver-common\n",
            "1 upgraded, 1 newly installed, 0 to remove and 84 not upgraded.\n",
            "Need to get 811 kB of archives.\n",
            "After this operation, 2,272 kB of additional disk space will be used.\n",
            "Get:1 http://archive.ubuntu.com/ubuntu bionic-updates/main amd64 xserver-common all 2:1.19.6-1ubuntu4.10 [26.9 kB]\n",
            "Get:2 http://archive.ubuntu.com/ubuntu bionic-updates/universe amd64 xvfb amd64 2:1.19.6-1ubuntu4.10 [784 kB]\n",
            "Fetched 811 kB in 1s (743 kB/s)\n",
            "(Reading database ... 155227 files and directories currently installed.)\n",
            "Preparing to unpack .../xserver-common_2%3a1.19.6-1ubuntu4.10_all.deb ...\n",
            "Unpacking xserver-common (2:1.19.6-1ubuntu4.10) over (2:1.19.6-1ubuntu4.9) ...\n",
            "Selecting previously unselected package xvfb.\n",
            "Preparing to unpack .../xvfb_2%3a1.19.6-1ubuntu4.10_amd64.deb ...\n",
            "Unpacking xvfb (2:1.19.6-1ubuntu4.10) ...\n",
            "Setting up xserver-common (2:1.19.6-1ubuntu4.10) ...\n",
            "Setting up xvfb (2:1.19.6-1ubuntu4.10) ...\n",
            "Processing triggers for man-db (2.8.3-2ubuntu0.1) ...\n"
          ]
        }
      ]
    },
    {
      "cell_type": "code",
      "source": [
        "!pip install stable-baselines3[extra]"
      ],
      "metadata": {
        "colab": {
          "base_uri": "https://localhost:8080/"
        },
        "id": "uEyavQqkxNQ1",
        "outputId": "4f7f5dc8-22ae-42e9-c483-62c740ac3ac8"
      },
      "execution_count": null,
      "outputs": [
        {
          "output_type": "stream",
          "name": "stdout",
          "text": [
            "Collecting stable-baselines3[extra]\n",
            "  Downloading stable_baselines3-1.3.0-py3-none-any.whl (174 kB)\n",
            "\u001b[?25l\r\u001b[K     |█▉                              | 10 kB 20.4 MB/s eta 0:00:01\r\u001b[K     |███▊                            | 20 kB 6.0 MB/s eta 0:00:01\r\u001b[K     |█████▋                          | 30 kB 5.3 MB/s eta 0:00:01\r\u001b[K     |███████▌                        | 40 kB 4.4 MB/s eta 0:00:01\r\u001b[K     |█████████▍                      | 51 kB 5.2 MB/s eta 0:00:01\r\u001b[K     |███████████▎                    | 61 kB 5.2 MB/s eta 0:00:01\r\u001b[K     |█████████████▏                  | 71 kB 4.4 MB/s eta 0:00:01\r\u001b[K     |███████████████                 | 81 kB 4.9 MB/s eta 0:00:01\r\u001b[K     |████████████████▉               | 92 kB 4.8 MB/s eta 0:00:01\r\u001b[K     |██████████████████▊             | 102 kB 5.1 MB/s eta 0:00:01\r\u001b[K     |████████████████████▋           | 112 kB 5.1 MB/s eta 0:00:01\r\u001b[K     |██████████████████████▌         | 122 kB 5.1 MB/s eta 0:00:01\r\u001b[K     |████████████████████████▍       | 133 kB 5.1 MB/s eta 0:00:01\r\u001b[K     |██████████████████████████▎     | 143 kB 5.1 MB/s eta 0:00:01\r\u001b[K     |████████████████████████████▏   | 153 kB 5.1 MB/s eta 0:00:01\r\u001b[K     |██████████████████████████████  | 163 kB 5.1 MB/s eta 0:00:01\r\u001b[K     |███████████████████████████████▉| 174 kB 5.1 MB/s eta 0:00:01\r\u001b[K     |████████████████████████████████| 174 kB 5.1 MB/s \n",
            "\u001b[?25hRequirement already satisfied: torch>=1.8.1 in /usr/local/lib/python3.7/dist-packages (from stable-baselines3[extra]) (1.10.0+cu111)\n",
            "Requirement already satisfied: numpy in /usr/local/lib/python3.7/dist-packages (from stable-baselines3[extra]) (1.19.5)\n",
            "Requirement already satisfied: matplotlib in /usr/local/lib/python3.7/dist-packages (from stable-baselines3[extra]) (3.2.2)\n",
            "Requirement already satisfied: gym<0.20,>=0.17 in /usr/local/lib/python3.7/dist-packages (from stable-baselines3[extra]) (0.17.3)\n",
            "Requirement already satisfied: pandas in /usr/local/lib/python3.7/dist-packages (from stable-baselines3[extra]) (1.1.5)\n",
            "Requirement already satisfied: cloudpickle in /usr/local/lib/python3.7/dist-packages (from stable-baselines3[extra]) (1.3.0)\n",
            "Requirement already satisfied: psutil in /usr/local/lib/python3.7/dist-packages (from stable-baselines3[extra]) (5.4.8)\n",
            "Requirement already satisfied: opencv-python in /usr/local/lib/python3.7/dist-packages (from stable-baselines3[extra]) (4.1.2.30)\n",
            "Requirement already satisfied: tensorboard>=2.2.0 in /usr/local/lib/python3.7/dist-packages (from stable-baselines3[extra]) (2.7.0)\n",
            "Requirement already satisfied: pillow in /usr/local/lib/python3.7/dist-packages (from stable-baselines3[extra]) (7.1.2)\n",
            "Requirement already satisfied: atari-py~=0.2.0 in /usr/local/lib/python3.7/dist-packages (from stable-baselines3[extra]) (0.2.9)\n",
            "Requirement already satisfied: six in /usr/local/lib/python3.7/dist-packages (from atari-py~=0.2.0->stable-baselines3[extra]) (1.15.0)\n",
            "Requirement already satisfied: pyglet<=1.5.0,>=1.4.0 in /usr/local/lib/python3.7/dist-packages (from gym<0.20,>=0.17->stable-baselines3[extra]) (1.5.0)\n",
            "Requirement already satisfied: scipy in /usr/local/lib/python3.7/dist-packages (from gym<0.20,>=0.17->stable-baselines3[extra]) (1.4.1)\n",
            "Requirement already satisfied: future in /usr/local/lib/python3.7/dist-packages (from pyglet<=1.5.0,>=1.4.0->gym<0.20,>=0.17->stable-baselines3[extra]) (0.16.0)\n",
            "Requirement already satisfied: markdown>=2.6.8 in /usr/local/lib/python3.7/dist-packages (from tensorboard>=2.2.0->stable-baselines3[extra]) (3.3.6)\n",
            "Requirement already satisfied: tensorboard-data-server<0.7.0,>=0.6.0 in /usr/local/lib/python3.7/dist-packages (from tensorboard>=2.2.0->stable-baselines3[extra]) (0.6.1)\n",
            "Requirement already satisfied: grpcio>=1.24.3 in /usr/local/lib/python3.7/dist-packages (from tensorboard>=2.2.0->stable-baselines3[extra]) (1.42.0)\n",
            "Requirement already satisfied: absl-py>=0.4 in /usr/local/lib/python3.7/dist-packages (from tensorboard>=2.2.0->stable-baselines3[extra]) (0.12.0)\n",
            "Requirement already satisfied: protobuf>=3.6.0 in /usr/local/lib/python3.7/dist-packages (from tensorboard>=2.2.0->stable-baselines3[extra]) (3.17.3)\n",
            "Requirement already satisfied: tensorboard-plugin-wit>=1.6.0 in /usr/local/lib/python3.7/dist-packages (from tensorboard>=2.2.0->stable-baselines3[extra]) (1.8.0)\n",
            "Requirement already satisfied: werkzeug>=0.11.15 in /usr/local/lib/python3.7/dist-packages (from tensorboard>=2.2.0->stable-baselines3[extra]) (1.0.1)\n",
            "Requirement already satisfied: wheel>=0.26 in /usr/local/lib/python3.7/dist-packages (from tensorboard>=2.2.0->stable-baselines3[extra]) (0.37.0)\n",
            "Requirement already satisfied: requests<3,>=2.21.0 in /usr/local/lib/python3.7/dist-packages (from tensorboard>=2.2.0->stable-baselines3[extra]) (2.23.0)\n",
            "Requirement already satisfied: setuptools>=41.0.0 in /usr/local/lib/python3.7/dist-packages (from tensorboard>=2.2.0->stable-baselines3[extra]) (57.4.0)\n",
            "Requirement already satisfied: google-auth-oauthlib<0.5,>=0.4.1 in /usr/local/lib/python3.7/dist-packages (from tensorboard>=2.2.0->stable-baselines3[extra]) (0.4.6)\n",
            "Requirement already satisfied: google-auth<3,>=1.6.3 in /usr/local/lib/python3.7/dist-packages (from tensorboard>=2.2.0->stable-baselines3[extra]) (1.35.0)\n",
            "Requirement already satisfied: pyasn1-modules>=0.2.1 in /usr/local/lib/python3.7/dist-packages (from google-auth<3,>=1.6.3->tensorboard>=2.2.0->stable-baselines3[extra]) (0.2.8)\n",
            "Requirement already satisfied: cachetools<5.0,>=2.0.0 in /usr/local/lib/python3.7/dist-packages (from google-auth<3,>=1.6.3->tensorboard>=2.2.0->stable-baselines3[extra]) (4.2.4)\n",
            "Requirement already satisfied: rsa<5,>=3.1.4 in /usr/local/lib/python3.7/dist-packages (from google-auth<3,>=1.6.3->tensorboard>=2.2.0->stable-baselines3[extra]) (4.8)\n",
            "Requirement already satisfied: requests-oauthlib>=0.7.0 in /usr/local/lib/python3.7/dist-packages (from google-auth-oauthlib<0.5,>=0.4.1->tensorboard>=2.2.0->stable-baselines3[extra]) (1.3.0)\n",
            "Requirement already satisfied: importlib-metadata>=4.4 in /usr/local/lib/python3.7/dist-packages (from markdown>=2.6.8->tensorboard>=2.2.0->stable-baselines3[extra]) (4.8.2)\n",
            "Requirement already satisfied: typing-extensions>=3.6.4 in /usr/local/lib/python3.7/dist-packages (from importlib-metadata>=4.4->markdown>=2.6.8->tensorboard>=2.2.0->stable-baselines3[extra]) (3.10.0.2)\n",
            "Requirement already satisfied: zipp>=0.5 in /usr/local/lib/python3.7/dist-packages (from importlib-metadata>=4.4->markdown>=2.6.8->tensorboard>=2.2.0->stable-baselines3[extra]) (3.6.0)\n",
            "Requirement already satisfied: pyasn1<0.5.0,>=0.4.6 in /usr/local/lib/python3.7/dist-packages (from pyasn1-modules>=0.2.1->google-auth<3,>=1.6.3->tensorboard>=2.2.0->stable-baselines3[extra]) (0.4.8)\n",
            "Requirement already satisfied: chardet<4,>=3.0.2 in /usr/local/lib/python3.7/dist-packages (from requests<3,>=2.21.0->tensorboard>=2.2.0->stable-baselines3[extra]) (3.0.4)\n",
            "Requirement already satisfied: urllib3!=1.25.0,!=1.25.1,<1.26,>=1.21.1 in /usr/local/lib/python3.7/dist-packages (from requests<3,>=2.21.0->tensorboard>=2.2.0->stable-baselines3[extra]) (1.24.3)\n",
            "Requirement already satisfied: certifi>=2017.4.17 in /usr/local/lib/python3.7/dist-packages (from requests<3,>=2.21.0->tensorboard>=2.2.0->stable-baselines3[extra]) (2021.10.8)\n",
            "Requirement already satisfied: idna<3,>=2.5 in /usr/local/lib/python3.7/dist-packages (from requests<3,>=2.21.0->tensorboard>=2.2.0->stable-baselines3[extra]) (2.10)\n",
            "Requirement already satisfied: oauthlib>=3.0.0 in /usr/local/lib/python3.7/dist-packages (from requests-oauthlib>=0.7.0->google-auth-oauthlib<0.5,>=0.4.1->tensorboard>=2.2.0->stable-baselines3[extra]) (3.1.1)\n",
            "Requirement already satisfied: cycler>=0.10 in /usr/local/lib/python3.7/dist-packages (from matplotlib->stable-baselines3[extra]) (0.11.0)\n",
            "Requirement already satisfied: python-dateutil>=2.1 in /usr/local/lib/python3.7/dist-packages (from matplotlib->stable-baselines3[extra]) (2.8.2)\n",
            "Requirement already satisfied: pyparsing!=2.0.4,!=2.1.2,!=2.1.6,>=2.0.1 in /usr/local/lib/python3.7/dist-packages (from matplotlib->stable-baselines3[extra]) (3.0.6)\n",
            "Requirement already satisfied: kiwisolver>=1.0.1 in /usr/local/lib/python3.7/dist-packages (from matplotlib->stable-baselines3[extra]) (1.3.2)\n",
            "Requirement already satisfied: pytz>=2017.2 in /usr/local/lib/python3.7/dist-packages (from pandas->stable-baselines3[extra]) (2018.9)\n",
            "Installing collected packages: stable-baselines3\n",
            "Successfully installed stable-baselines3-1.3.0\n"
          ]
        }
      ]
    },
    {
      "cell_type": "markdown",
      "metadata": {
        "id": "wtDN43hIJh2C"
      },
      "source": [
        "# Imports\n",
        "\n",
        "dm_control imports"
      ]
    },
    {
      "cell_type": "code",
      "execution_count": 2,
      "metadata": {
        "id": "T5f4w3Kq2X14"
      },
      "outputs": [],
      "source": [
        "# All `dm_control` imports required for this tutorial\n",
        "\n",
        "# The basic mujoco wrapper.\n",
        "from dm_control import mujoco\n",
        "\n",
        "# Access to enums and MuJoCo library functions.\n",
        "from dm_control.mujoco.wrapper.mjbindings import enums\n",
        "from dm_control.mujoco.wrapper.mjbindings import mjlib\n",
        "\n",
        "# PyMJCF\n",
        "from dm_control import mjcf\n",
        "\n",
        "# Composer high level imports\n",
        "from dm_control import composer\n",
        "from dm_control.composer.observation import observable\n",
        "from dm_control.composer import variation\n",
        "\n",
        "# Imports for Composer tutorial example\n",
        "from dm_control.composer.variation import distributions\n",
        "from dm_control.composer.variation import noises\n",
        "from dm_control.locomotion.arenas import floors\n",
        "\n",
        "# Control Suite\n",
        "from dm_control import suite\n",
        "\n",
        "# Run through corridor example\n",
        "from dm_control.locomotion.walkers import cmu_humanoid\n",
        "from dm_control.locomotion.arenas import corridors as corridor_arenas\n",
        "from dm_control.locomotion.tasks import corridors as corridor_tasks\n",
        "\n",
        "# Soccer\n",
        "from dm_control.locomotion import soccer\n",
        "\n",
        "# Manipulation\n",
        "from dm_control import manipulation"
      ]
    },
    {
      "cell_type": "code",
      "execution_count": 3,
      "metadata": {
        "id": "gKc1FNhKiVJX"
      },
      "outputs": [],
      "source": [
        "# Other imports and helper functions\n",
        "\n",
        "# General\n",
        "import copy\n",
        "import os\n",
        "import itertools\n",
        "from IPython.display import clear_output\n",
        "import numpy as np\n",
        "\n",
        "# Graphics-related\n",
        "import matplotlib\n",
        "import matplotlib.animation as animation\n",
        "import matplotlib.pyplot as plt\n",
        "from IPython.display import HTML\n",
        "import PIL.Image\n",
        "# Internal loading of video libraries.\n",
        "\n",
        "# Use svg backend for figure rendering\n",
        "%config InlineBackend.figure_format = 'svg'\n",
        "\n",
        "# Font sizes\n",
        "SMALL_SIZE = 8\n",
        "MEDIUM_SIZE = 10\n",
        "BIGGER_SIZE = 12\n",
        "plt.rc('font', size=SMALL_SIZE)          # controls default text sizes\n",
        "plt.rc('axes', titlesize=SMALL_SIZE)     # fontsize of the axes title\n",
        "plt.rc('axes', labelsize=MEDIUM_SIZE)    # fontsize of the x and y labels\n",
        "plt.rc('xtick', labelsize=SMALL_SIZE)    # fontsize of the tick labels\n",
        "plt.rc('ytick', labelsize=SMALL_SIZE)    # fontsize of the tick labels\n",
        "plt.rc('legend', fontsize=SMALL_SIZE)    # legend fontsize\n",
        "plt.rc('figure', titlesize=BIGGER_SIZE)  # fontsize of the figure title\n",
        "\n",
        "# Inline video helper function\n",
        "if os.environ.get('COLAB_NOTEBOOK_TEST', False):\n",
        "  # We skip video generation during tests, as it is quite expensive.\n",
        "  display_video = lambda *args, **kwargs: None\n",
        "else:\n",
        "  def display_video(frames, framerate=30):\n",
        "    height, width, _ = frames[0].shape\n",
        "    dpi = 70\n",
        "    orig_backend = matplotlib.get_backend()\n",
        "    matplotlib.use('Agg')  # Switch to headless 'Agg' to inhibit figure rendering.\n",
        "    fig, ax = plt.subplots(1, 1, figsize=(width / dpi, height / dpi), dpi=dpi)\n",
        "    matplotlib.use(orig_backend)  # Switch back to the original backend.\n",
        "    ax.set_axis_off()\n",
        "    ax.set_aspect('equal')\n",
        "    ax.set_position([0, 0, 1, 1])\n",
        "    im = ax.imshow(frames[0])\n",
        "    def update(frame):\n",
        "      im.set_data(frame)\n",
        "      return [im]\n",
        "    interval = 1000/framerate\n",
        "    anim = animation.FuncAnimation(fig=fig, func=update, frames=frames,\n",
        "                                   interval=interval, blit=True, repeat=False)\n",
        "    return HTML(anim.to_html5_video())\n",
        "\n",
        "# Seed numpy's global RNG so that cell outputs are deterministic. We also try to\n",
        "# use RandomState instances that are local to a single cell wherever possible.\n",
        "np.random.seed(42)"
      ]
    },
    {
      "cell_type": "markdown",
      "source": [
        "## Other imports"
      ],
      "metadata": {
        "id": "qdo2TnRVrgns"
      }
    },
    {
      "cell_type": "code",
      "execution_count": 4,
      "metadata": {
        "id": "XjjV13FFw8j8"
      },
      "outputs": [],
      "source": [
        "import gym\n",
        "import torch\n",
        "import numpy as np\n",
        "import pandas as pd\n",
        "import matplotlib.pyplot as plt\n"
      ]
    },
    {
      "cell_type": "markdown",
      "source": [
        "# Testing installations"
      ],
      "metadata": {
        "id": "aBzw40kNqmIk"
      }
    },
    {
      "cell_type": "markdown",
      "source": [
        "## Paper links: \n",
        "\n",
        "https://arxiv.org/pdf/2006.12983.pdf\n",
        "\n",
        "https://arxiv.org/pdf/1902.07151.pdf\n",
        "\n"
      ],
      "metadata": {
        "id": "_BNjAD_UNveR"
      }
    },
    {
      "cell_type": "markdown",
      "source": [
        "## SB3"
      ],
      "metadata": {
        "id": "WfoqIbXirpSJ"
      }
    },
    {
      "cell_type": "code",
      "source": [
        "from stable_baselines3 import PPO\n",
        "\n",
        "env = gym.make(\"CartPole-v1\")\n",
        "\n",
        "model = PPO(\"MlpPolicy\", env, verbose=1)\n",
        "model.learn(total_timesteps=10000)\n",
        "\n",
        "obs = env.reset()\n",
        "for i in range(1000):\n",
        "    action, _states = model.predict(obs, deterministic=True)\n",
        "    obs, reward, done, info = env.step(action)\n",
        "    # env.render()\n",
        "    if done:\n",
        "      obs = env.reset()\n",
        "\n",
        "env.close()"
      ],
      "metadata": {
        "id": "GNTy1rj6y2Vd"
      },
      "execution_count": null,
      "outputs": []
    },
    {
      "cell_type": "code",
      "source": [
        "# Set up fake display; otherwise rendering will fail\n",
        "# import os\n",
        "# os.system(\"Xvfb :1 -screen 0 1024x768x24 &\")\n",
        "# os.environ['DISPLAY'] = ':1'"
      ],
      "metadata": {
        "id": "VuokHFZCz7P6"
      },
      "execution_count": 6,
      "outputs": []
    },
    {
      "cell_type": "markdown",
      "source": [
        "Errors with display (rendering)\n",
        "\n",
        "https://stackoverflow.com/questions/53472940/nameerror-name-base-is-not-defined-openai-gym\n",
        "\n",
        "\n",
        "https://davidrpugh.github.io/stochastic-expatriate-descent/openai/binder/google-colab/2020/04/16/remote-rendering-gym-envs.html\n",
        "\n"
      ],
      "metadata": {
        "id": "9RBy0aFf07iC"
      }
    },
    {
      "cell_type": "markdown",
      "source": [
        "## Testing dm_control (taken from tutorial)"
      ],
      "metadata": {
        "id": "7Oehjtyxrstd"
      }
    },
    {
      "cell_type": "markdown",
      "metadata": {
        "id": "HuuQLm8YopDe"
      },
      "source": [
        "### Multi-Agent Soccer"
      ]
    },
    {
      "cell_type": "markdown",
      "metadata": {
        "id": "OPNshDEEopDf"
      },
      "source": [
        "Building on Composer and Locomotion libraries, the Multi-agent soccer environments, introduced in [this paper](https://arxiv.org/abs/1902.07151), follow a consistent task structure of Walkers, Arena, and Task where instead of a single walker, we inject multiple walkers that can interact with each other physically in the same scene. The code snippet below shows how to instantiate a 2-vs-2 Multi-agent Soccer environment with the simple, 5 degree-of-freedom `BoxHead` walker type."
      ]
    },
    {
      "cell_type": "code",
      "execution_count": 5,
      "metadata": {
        "id": "zAb3je0DAeQo",
        "colab": {
          "base_uri": "https://localhost:8080/",
          "height": 497
        },
        "outputId": "443ce202-7730-4161-b819-912bf0dc593b"
      },
      "outputs": [
        {
          "output_type": "execute_result",
          "data": {
            "image/png": "[encoded data removed]",
            "text/plain": [
              "<PIL.Image.Image image mode=RGB size=720x480 at 0x7F0ADA353090>"
            ]
          },
          "metadata": {},
          "execution_count": 5
        }
      ],
      "source": [
        "#@title 2-v-2 `Boxhead` soccer\n",
        "\n",
        "random_state = np.random.RandomState(42)\n",
        "env = soccer.load(\n",
        "    team_size=2,\n",
        "    time_limit=45.,\n",
        "    random_state=random_state,\n",
        "    disable_walker_contacts=False,\n",
        "    walker_type=soccer.WalkerType.BOXHEAD,\n",
        "    terminate_on_goal=True\n",
        ")\n",
        "env.reset()\n",
        "pixels = []\n",
        "# Select a random subset of 6 cameras (soccer envs have lots of cameras)\n",
        "cameras = random_state.choice(env.physics.model.ncam, 6, replace=False)\n",
        "for camera_id in cameras:\n",
        "  pixels.append(env.physics.render(camera_id=camera_id, width=240))\n",
        "image = np.vstack((np.hstack(pixels[:3]), np.hstack(pixels[3:])))\n",
        "PIL.Image.fromarray(image)"
      ]
    },
    {
      "cell_type": "markdown",
      "source": [
        "#### Managing Observations"
      ],
      "metadata": {
        "id": "9KsNksEkSQVj"
      }
    },
    {
      "cell_type": "code",
      "source": [
        "state = env.reset()\n",
        "state"
      ],
      "metadata": {
        "id": "F59nGMOausDN",
        "colab": {
          "base_uri": "https://localhost:8080/"
        },
        "outputId": "4aff20d3-3db9-4e14-a729-7ad37c6cd22e"
      },
      "execution_count": 12,
      "outputs": [
        {
          "output_type": "execute_result",
          "data": {
            "text/plain": [
              "TimeStep(step_type=<StepType.FIRST: 0>, reward=None, discount=None, observation=[OrderedDict([('body_height', array([1.])), ('end_effectors_pos', array([[0., 0., 0.]])), ('joints_pos', array([[0.]])), ('joints_vel', array([[0.]])), ('prev_action', array([[0., 0., 0.]])), ('sensors_accelerometer', array([[0., 0., 0.]])), ('sensors_gyro', array([[-0.,  0.,  0.]])), ('sensors_velocimeter', array([[-0.,  0.,  0.]])), ('world_zaxis', array([[-0.,  0.,  1.]])), ('ball_ego_angular_velocity', array([[0., 0., 0.]])), ('ball_ego_position', array([[-9.04723456, 27.27916682, -0.15      ]])), ('ball_ego_linear_velocity', array([[0., 0., 0.]])), ('teammate_0_ego_linear_velocity', array([[0., 0., 0.]])), ('teammate_0_ego_position', array([[-13.26890896,  28.36069285,   0.        ]])), ('teammate_0_ego_orientation', array([[ 0.14720685,  0.98910573,  0.        , -0.98910573,  0.14720685,\n",
              "         0.        ,  0.        ,  0.        ,  1.        ]])), ('teammate_0_ego_end_effectors_pos', array([[-13.26890896,  28.36069285,   0.        ]])), ('teammate_0_end_effectors_pos', array([[0., 0., 0.]])), ('opponent_0_ego_linear_velocity', array([[0., 0., 0.]])), ('opponent_0_ego_position', array([[-1.86629123,  9.86643953,  0.        ]])), ('opponent_0_ego_orientation', array([[-0.93964233,  0.34215828,  0.        , -0.34215828, -0.93964233,\n",
              "         0.        ,  0.        ,  0.        ,  1.        ]])), ('opponent_0_ego_end_effectors_pos', array([[-1.86629123,  9.86643953,  0.        ]])), ('opponent_0_end_effectors_pos', array([[0., 0., 0.]])), ('opponent_1_ego_linear_velocity', array([[0., 0., 0.]])), ('opponent_1_ego_position', array([[ 8.34644016, 14.40582112,  0.        ]])), ('opponent_1_ego_orientation', array([[ 0.15915975, -0.98725284,  0.        ,  0.98725284,  0.15915975,\n",
              "         0.        ,  0.        ,  0.        ,  1.        ]])), ('opponent_1_ego_end_effectors_pos', array([[ 8.34644016, 14.40582112,  0.        ]])), ('opponent_1_end_effectors_pos', array([[0., 0., 0.]])), ('team_goal_back_right', array([[ 15.86384851, -29.21659767]])), ('team_goal_mid', array([[  6.11211928, -27.81081565,   1.66666667]])), ('team_goal_front_left', array([[ -3.63960995, -26.40503363]])), ('field_front_left', array([[-26.28449308,  38.92349515]])), ('opponent_goal_back_left', array([[-13.17611854,  46.02868162]])), ('opponent_goal_mid', array([[-3.42438931, 44.6228996 ,  1.66666667]])), ('opponent_goal_front_right', array([[ 6.32733992, 43.21711759]])), ('field_back_right', array([[ 28.97222304, -22.11141119]])), ('stats_vel_to_ball', array([0.])), ('stats_closest_vel_to_ball', array([0.])), ('stats_veloc_forward', array([-0.])), ('stats_vel_ball_to_goal', array([0.])), ('stats_home_avg_teammate_dist', array([31.31122552])), ('stats_teammate_spread_out', array([ True])), ('stats_home_score', array([0.])), ('stats_away_score', array([0.]))]), OrderedDict([('body_height', array([1.])), ('end_effectors_pos', array([[0., 0., 0.]])), ('joints_pos', array([[0.]])), ('joints_vel', array([[0.]])), ('prev_action', array([[0., 0., 0.]])), ('sensors_accelerometer', array([[ 2.48920611e-58, -3.47744844e-43,  0.00000000e+00]])), ('sensors_gyro', array([[-0.,  0.,  0.]])), ('sensors_velocimeter', array([[-0.,  0.,  0.]])), ('world_zaxis', array([[-0.,  0.,  1.]])), ('ball_ego_angular_velocity', array([[0., 0., 0.]])), ('ball_ego_position', array([[ 1.69120298,  4.0164743 , -0.15      ]])), ('ball_ego_linear_velocity', array([[0., 0., 0.]])), ('teammate_0_ego_linear_velocity', array([[0., 0., 0.]])), ('teammate_0_ego_position', array([[30.00499807,  8.9494656 ,  0.        ]])), ('teammate_0_ego_orientation', array([[ 0.14720685, -0.98910573,  0.        ,  0.98910573,  0.14720685,\n",
              "         0.        ,  0.        ,  0.        ,  1.        ]])), ('teammate_0_ego_end_effectors_pos', array([[30.00499807,  8.9494656 ,  0.        ]])), ('teammate_0_end_effectors_pos', array([[0., 0., 0.]])), ('opponent_0_ego_linear_velocity', array([[0., 0., 0.]])), ('opponent_0_ego_position', array([[19.97131536,  8.55591374,  0.        ]])), ('opponent_0_ego_orientation', array([[ 0.20010893,  0.97977366,  0.        , -0.97977366,  0.20010893,\n",
              "         0.        ,  0.        ,  0.        ,  1.        ]])), ('opponent_0_ego_end_effectors_pos', array([[19.97131536,  8.55591374,  0.        ]])), ('opponent_0_end_effectors_pos', array([[0., 0., 0.]])), ('opponent_1_ego_linear_velocity', array([[0., 0., 0.]])), ('opponent_1_ego_position', array([[16.98477104, 19.32561293,  0.        ]])), ('opponent_1_ego_orientation', array([[-0.95306804, -0.3027562 ,  0.        ,  0.3027562 , -0.95306804,\n",
              "         0.        ,  0.        ,  0.        ,  1.        ]])), ('opponent_1_ego_end_effectors_pos', array([[16.98477104, 19.32561293,  0.        ]])), ('opponent_1_end_effectors_pos', array([[0., 0., 0.]])), ('team_goal_back_right', array([[61.23856938, 20.33960573]])), ('team_goal_mid', array([[58.41258099, 10.90105522,  1.66666667]])), ('team_goal_front_left', array([[55.5865926 ,  1.46250471]])), ('field_front_left', array([[-12.36371141, -11.31887196]])), ('opponent_goal_back_left', array([[-17.46184953,   2.69262851]])), ('opponent_goal_mid', array([[-14.63586114,  12.13117902,   1.66666667]])), ('opponent_goal_front_right', array([[-11.80987275,  21.56972952]])), ('field_back_right', array([[56.14043126, 34.3511062 ]])), ('stats_vel_to_ball', array([0.])), ('stats_closest_vel_to_ball', array([0.])), ('stats_veloc_forward', array([-0.])), ('stats_vel_ball_to_goal', array([0.])), ('stats_home_avg_teammate_dist', array([31.31122552])), ('stats_teammate_spread_out', array([ True])), ('stats_home_score', array([0.])), ('stats_away_score', array([0.]))]), OrderedDict([('body_height', array([1.])), ('end_effectors_pos', array([[0., 0., 0.]])), ('joints_pos', array([[0.]])), ('joints_vel', array([[0.]])), ('prev_action', array([[0., 0., 0.]])), ('sensors_accelerometer', array([[4.82358462e-36, 2.17432559e-35, 1.77635684e-15]])), ('sensors_gyro', array([[ 0., -0.,  0.]])), ('sensors_velocimeter', array([[ 0., -0.,  0.]])), ('world_zaxis', array([[ 0., -0.,  1.]])), ('ball_ego_angular_velocity', array([[0., 0., 0.]])), ('ball_ego_position', array([[  0.78960945, -18.8187549 ,  -0.15      ]])), ('ball_ego_linear_velocity', array([[0., 0., 0.]])), ('opponent_0_ego_linear_velocity', array([[0., 0., 0.]])), ('opponent_0_ego_position', array([[1.62223777, 9.90949123, 0.        ]])), ('opponent_0_ego_orientation', array([[-0.93964233, -0.34215828,  0.        ,  0.34215828, -0.93964233,\n",
              "         0.        ,  0.        ,  0.        ,  1.        ]])), ('opponent_0_ego_end_effectors_pos', array([[1.62223777, 9.90949123, 0.        ]])), ('opponent_0_end_effectors_pos', array([[0., 0., 0.]])), ('opponent_1_ego_linear_velocity', array([[0., 0., 0.]])), ('opponent_1_ego_position', array([[  4.38642034, -21.2794834 ,   0.        ]])), ('opponent_1_ego_orientation', array([[ 0.20010893, -0.97977366,  0.        ,  0.97977366,  0.20010893,\n",
              "         0.        ,  0.        ,  0.        ,  1.        ]])), ('opponent_1_ego_end_effectors_pos', array([[  4.38642034, -21.2794834 ,   0.        ]])), ('opponent_1_end_effectors_pos', array([[0., 0., 0.]])), ('teammate_0_ego_linear_velocity', array([[0., 0., 0.]])), ('teammate_0_ego_position', array([[-11.14950173,  -0.77102446,   0.        ]])), ('teammate_0_ego_orientation', array([[-0.48734998,  0.87320673,  0.        , -0.87320673, -0.48734998,\n",
              "         0.        ,  0.        ,  0.        ,  1.        ]])), ('teammate_0_ego_end_effectors_pos', array([[-11.14950173,  -0.77102446,   0.        ]])), ('teammate_0_end_effectors_pos', array([[0., 0., 0.]])), ('team_goal_back_right', array([[ -1.74601817, -37.84932453]])), ('team_goal_mid', array([[-10.42815579, -33.19175731,   1.66666667]])), ('team_goal_front_left', array([[-19.11029341, -28.5341901 ]])), ('field_front_left', array([[-18.03568693,  40.59939527]])), ('opponent_goal_back_left', array([[-3.28740493, 42.79059032]])), ('opponent_goal_mid', array([[ 5.3947327 , 38.1330231 ,  1.66666667]])), ('opponent_goal_front_right', array([[14.07687032, 33.47545589]])), ('field_back_right', array([[ 13.00226384, -35.65812948]])), ('stats_vel_to_ball', array([0.])), ('stats_closest_vel_to_ball', array([0.])), ('stats_veloc_forward', array([0.])), ('stats_vel_ball_to_goal', array([0.])), ('stats_home_avg_teammate_dist', array([11.17612937])), ('stats_teammate_spread_out', array([ True])), ('stats_home_score', array([0.])), ('stats_away_score', array([0.]))]), OrderedDict([('body_height', array([1.])), ('end_effectors_pos', array([[0., 0., 0.]])), ('joints_pos', array([[0.]])), ('joints_vel', array([[0.]])), ('prev_action', array([[0., 0., 0.]])), ('sensors_accelerometer', array([[0., 0., 0.]])), ('sensors_gyro', array([[0., 0., 0.]])), ('sensors_velocimeter', array([[0., 0., 0.]])), ('world_zaxis', array([[-0.,  0.,  1.]])), ('ball_ego_angular_velocity', array([[0., 0., 0.]])), ('ball_ego_position', array([[ 9.94087423, 19.22087327, -0.15      ]])), ('ball_ego_linear_velocity', array([[0., 0., 0.]])), ('opponent_0_ego_linear_velocity', array([[0., 0., 0.]])), ('opponent_0_ego_position', array([[-15.55060516,   5.94721989,   0.        ]])), ('opponent_0_ego_orientation', array([[ 0.15915975,  0.98725284,  0.        , -0.98725284,  0.15915975,\n",
              "         0.        ,  0.        ,  0.        ,  1.        ]])), ('opponent_0_ego_end_effectors_pos', array([[-15.55060516,   5.94721989,   0.        ]])), ('opponent_0_end_effectors_pos', array([[0., 0., 0.]])), ('opponent_1_ego_linear_velocity', array([[0., 0., 0.]])), ('opponent_1_ego_position', array([[10.33669323, 23.56086873,  0.        ]])), ('opponent_1_ego_orientation', array([[-0.95306804,  0.3027562 ,  0.        , -0.3027562 , -0.95306804,\n",
              "         0.        ,  0.        ,  0.        ,  1.        ]])), ('opponent_1_ego_end_effectors_pos', array([[10.33669323, 23.56086873,  0.        ]])), ('opponent_1_end_effectors_pos', array([[0., 0., 0.]])), ('teammate_0_ego_linear_velocity', array([[0., 0., 0.]])), ('teammate_0_ego_position', array([[-6.10697314,  9.36006125,  0.        ]])), ('teammate_0_ego_orientation', array([[-0.48734998, -0.87320673,  0.        ,  0.87320673, -0.48734998,\n",
              "         0.        ,  0.        ,  0.        ,  1.        ]])), ('teammate_0_ego_end_effectors_pos', array([[-6.10697314,  9.36006125,  0.        ]])), ('teammate_0_end_effectors_pos', array([[0., 0., 0.]])), ('team_goal_back_right', array([[27.79423386, 26.28129379]])), ('team_goal_mid', array([[27.95845435, 16.43012748,  1.66666667]])), ('team_goal_front_left', array([[28.12267484,  6.57896117]])), ('field_front_left', array([[-32.76894695, -26.17493631]])), ('opponent_goal_back_left', array([[-41.8698881 , -14.36451599]])), ('opponent_goal_mid', array([[-42.03410859,  -4.51334968,   1.66666667]])), ('opponent_goal_front_right', array([[-42.19832907,   5.33781663]])), ('field_back_right', array([[18.69329271, 38.09171411]])), ('stats_vel_to_ball', array([0.])), ('stats_closest_vel_to_ball', array([0.])), ('stats_veloc_forward', array([0.])), ('stats_vel_ball_to_goal', array([0.])), ('stats_home_avg_teammate_dist', array([11.17612937])), ('stats_teammate_spread_out', array([ True])), ('stats_home_score', array([0.])), ('stats_away_score', array([0.]))])])"
            ]
          },
          "metadata": {},
          "execution_count": 12
        }
      ]
    },
    {
      "cell_type": "code",
      "source": [
        "# https://github.com/hcch0912/gym_wrapper_dm_soccer/blob/master/soccer_wrapper.py\n",
        "\n",
        "def parse_obs(observation, n_agents):\n",
        "        obs = [[]] \n",
        "        for i in range(n_agents):\n",
        "            for _, v in observation[i].items():\n",
        "                v = v.flatten()\n",
        "                for j in range(len(v)):\n",
        "                    obs[i].append(float(v[j]))\n",
        "                    \n",
        "        return obs"
      ],
      "metadata": {
        "id": "OqJ2FGi22PJ9"
      },
      "execution_count": 7,
      "outputs": []
    },
    {
      "cell_type": "code",
      "source": [
        "observation = state.observation\n",
        "n_agents = 4\n",
        "obs = [[]] * n_agents\n",
        "obs, observation[0]"
      ],
      "metadata": {
        "colab": {
          "base_uri": "https://localhost:8080/"
        },
        "id": "tLM9rwOBSix7",
        "outputId": "816ee4d3-3f26-4b40-e360-3de1c967f54f"
      },
      "execution_count": 16,
      "outputs": [
        {
          "output_type": "execute_result",
          "data": {
            "text/plain": [
              "([[], [], [], []],\n",
              " OrderedDict([('body_height', array([1.])),\n",
              "              ('end_effectors_pos', array([[0., 0., 0.]])),\n",
              "              ('joints_pos', array([[0.]])),\n",
              "              ('joints_vel', array([[0.]])),\n",
              "              ('prev_action', array([[0., 0., 0.]])),\n",
              "              ('sensors_accelerometer', array([[0., 0., 0.]])),\n",
              "              ('sensors_gyro', array([[-0.,  0.,  0.]])),\n",
              "              ('sensors_velocimeter', array([[-0.,  0.,  0.]])),\n",
              "              ('world_zaxis', array([[-0.,  0.,  1.]])),\n",
              "              ('ball_ego_angular_velocity', array([[0., 0., 0.]])),\n",
              "              ('ball_ego_position',\n",
              "               array([[-9.04723456, 27.27916682, -0.15      ]])),\n",
              "              ('ball_ego_linear_velocity', array([[0., 0., 0.]])),\n",
              "              ('teammate_0_ego_linear_velocity', array([[0., 0., 0.]])),\n",
              "              ('teammate_0_ego_position',\n",
              "               array([[-13.26890896,  28.36069285,   0.        ]])),\n",
              "              ('teammate_0_ego_orientation',\n",
              "               array([[ 0.14720685,  0.98910573,  0.        , -0.98910573,  0.14720685,\n",
              "                        0.        ,  0.        ,  0.        ,  1.        ]])),\n",
              "              ('teammate_0_ego_end_effectors_pos',\n",
              "               array([[-13.26890896,  28.36069285,   0.        ]])),\n",
              "              ('teammate_0_end_effectors_pos', array([[0., 0., 0.]])),\n",
              "              ('opponent_0_ego_linear_velocity', array([[0., 0., 0.]])),\n",
              "              ('opponent_0_ego_position',\n",
              "               array([[-1.86629123,  9.86643953,  0.        ]])),\n",
              "              ('opponent_0_ego_orientation',\n",
              "               array([[-0.93964233,  0.34215828,  0.        , -0.34215828, -0.93964233,\n",
              "                        0.        ,  0.        ,  0.        ,  1.        ]])),\n",
              "              ('opponent_0_ego_end_effectors_pos',\n",
              "               array([[-1.86629123,  9.86643953,  0.        ]])),\n",
              "              ('opponent_0_end_effectors_pos', array([[0., 0., 0.]])),\n",
              "              ('opponent_1_ego_linear_velocity', array([[0., 0., 0.]])),\n",
              "              ('opponent_1_ego_position',\n",
              "               array([[ 8.34644016, 14.40582112,  0.        ]])),\n",
              "              ('opponent_1_ego_orientation',\n",
              "               array([[ 0.15915975, -0.98725284,  0.        ,  0.98725284,  0.15915975,\n",
              "                        0.        ,  0.        ,  0.        ,  1.        ]])),\n",
              "              ('opponent_1_ego_end_effectors_pos',\n",
              "               array([[ 8.34644016, 14.40582112,  0.        ]])),\n",
              "              ('opponent_1_end_effectors_pos', array([[0., 0., 0.]])),\n",
              "              ('team_goal_back_right', array([[ 15.86384851, -29.21659767]])),\n",
              "              ('team_goal_mid',\n",
              "               array([[  6.11211928, -27.81081565,   1.66666667]])),\n",
              "              ('team_goal_front_left', array([[ -3.63960995, -26.40503363]])),\n",
              "              ('field_front_left', array([[-26.28449308,  38.92349515]])),\n",
              "              ('opponent_goal_back_left',\n",
              "               array([[-13.17611854,  46.02868162]])),\n",
              "              ('opponent_goal_mid',\n",
              "               array([[-3.42438931, 44.6228996 ,  1.66666667]])),\n",
              "              ('opponent_goal_front_right',\n",
              "               array([[ 6.32733992, 43.21711759]])),\n",
              "              ('field_back_right', array([[ 28.97222304, -22.11141119]])),\n",
              "              ('stats_vel_to_ball', array([0.])),\n",
              "              ('stats_closest_vel_to_ball', array([0.])),\n",
              "              ('stats_veloc_forward', array([-0.])),\n",
              "              ('stats_vel_ball_to_goal', array([0.])),\n",
              "              ('stats_home_avg_teammate_dist', array([31.31122552])),\n",
              "              ('stats_teammate_spread_out', array([ True])),\n",
              "              ('stats_home_score', array([0.])),\n",
              "              ('stats_away_score', array([0.]))]))"
            ]
          },
          "metadata": {},
          "execution_count": 16
        }
      ]
    },
    {
      "cell_type": "code",
      "source": [
        "for i in range(n_agents):\n",
        "  print(i)\n",
        "  for _, v in observation[i].items():\n",
        "      v = v.flatten()\n",
        "      print(len(v))\n",
        "      for j in range(len(v)):\n",
        "          obs[i].append(float(v[j]))\n"
      ],
      "metadata": {
        "id": "vqGXmx8rhrlr"
      },
      "execution_count": null,
      "outputs": []
    },
    {
      "cell_type": "code",
      "source": [
        "len(obs[0])"
      ],
      "metadata": {
        "colab": {
          "base_uri": "https://localhost:8080/"
        },
        "id": "WZ-rs3O0hexc",
        "outputId": "10212527-9b2c-49d4-a6ed-4d2ae512ddb0"
      },
      "execution_count": 23,
      "outputs": [
        {
          "output_type": "execute_result",
          "data": {
            "text/plain": [
              "158.66666666666666"
            ]
          },
          "metadata": {},
          "execution_count": 23
        }
      ]
    },
    {
      "cell_type": "code",
      "source": [
        "for i in env.observation_spec():\n",
        "  print(i)"
      ],
      "metadata": {
        "id": "zfAf21Youts6",
        "colab": {
          "base_uri": "https://localhost:8080/"
        },
        "outputId": "2f016f7d-2337-40d1-e297-ef05495c7bc7"
      },
      "execution_count": 9,
      "outputs": [
        {
          "output_type": "stream",
          "name": "stdout",
          "text": [
            "OrderedDict([('body_height', Array(shape=(1,), dtype=dtype('float64'), name='body_height')), ('end_effectors_pos', Array(shape=(1, 3), dtype=dtype('float64'), name='end_effectors_pos')), ('joints_pos', Array(shape=(1, 1), dtype=dtype('float64'), name='joints_pos')), ('joints_vel', Array(shape=(1, 1), dtype=dtype('float64'), name='joints_vel')), ('prev_action', Array(shape=(1, 3), dtype=dtype('float64'), name='prev_action')), ('sensors_accelerometer', Array(shape=(1, 3), dtype=dtype('float64'), name='sensors_accelerometer')), ('sensors_gyro', Array(shape=(1, 3), dtype=dtype('float64'), name='sensors_gyro')), ('sensors_velocimeter', Array(shape=(1, 3), dtype=dtype('float64'), name='sensors_velocimeter')), ('world_zaxis', Array(shape=(1, 3), dtype=dtype('float64'), name='world_zaxis')), ('ball_ego_angular_velocity', Array(shape=(1, 3), dtype=dtype('float64'), name='ball_ego_angular_velocity')), ('ball_ego_position', Array(shape=(1, 3), dtype=dtype('float64'), name='ball_ego_position')), ('ball_ego_linear_velocity', Array(shape=(1, 3), dtype=dtype('float64'), name='ball_ego_linear_velocity')), ('teammate_0_ego_linear_velocity', Array(shape=(1, 3), dtype=dtype('float64'), name='teammate_0_ego_linear_velocity')), ('teammate_0_ego_position', Array(shape=(1, 3), dtype=dtype('float64'), name='teammate_0_ego_position')), ('teammate_0_ego_orientation', Array(shape=(1, 9), dtype=dtype('float64'), name='teammate_0_ego_orientation')), ('teammate_0_ego_end_effectors_pos', Array(shape=(1, 3), dtype=dtype('float64'), name='teammate_0_ego_end_effectors_pos')), ('teammate_0_end_effectors_pos', Array(shape=(1, 3), dtype=dtype('float64'), name='teammate_0_end_effectors_pos')), ('opponent_0_ego_linear_velocity', Array(shape=(1, 3), dtype=dtype('float64'), name='opponent_0_ego_linear_velocity')), ('opponent_0_ego_position', Array(shape=(1, 3), dtype=dtype('float64'), name='opponent_0_ego_position')), ('opponent_0_ego_orientation', Array(shape=(1, 9), dtype=dtype('float64'), name='opponent_0_ego_orientation')), ('opponent_0_ego_end_effectors_pos', Array(shape=(1, 3), dtype=dtype('float64'), name='opponent_0_ego_end_effectors_pos')), ('opponent_0_end_effectors_pos', Array(shape=(1, 3), dtype=dtype('float64'), name='opponent_0_end_effectors_pos')), ('opponent_1_ego_linear_velocity', Array(shape=(1, 3), dtype=dtype('float64'), name='opponent_1_ego_linear_velocity')), ('opponent_1_ego_position', Array(shape=(1, 3), dtype=dtype('float64'), name='opponent_1_ego_position')), ('opponent_1_ego_orientation', Array(shape=(1, 9), dtype=dtype('float64'), name='opponent_1_ego_orientation')), ('opponent_1_ego_end_effectors_pos', Array(shape=(1, 3), dtype=dtype('float64'), name='opponent_1_ego_end_effectors_pos')), ('opponent_1_end_effectors_pos', Array(shape=(1, 3), dtype=dtype('float64'), name='opponent_1_end_effectors_pos')), ('team_goal_back_right', Array(shape=(1, 2), dtype=dtype('float64'), name='team_goal_back_right')), ('team_goal_mid', Array(shape=(1, 3), dtype=dtype('float64'), name='team_goal_mid')), ('team_goal_front_left', Array(shape=(1, 2), dtype=dtype('float64'), name='team_goal_front_left')), ('field_front_left', Array(shape=(1, 2), dtype=dtype('float64'), name='field_front_left')), ('opponent_goal_back_left', Array(shape=(1, 2), dtype=dtype('float64'), name='opponent_goal_back_left')), ('opponent_goal_mid', Array(shape=(1, 3), dtype=dtype('float64'), name='opponent_goal_mid')), ('opponent_goal_front_right', Array(shape=(1, 2), dtype=dtype('float64'), name='opponent_goal_front_right')), ('field_back_right', Array(shape=(1, 2), dtype=dtype('float64'), name='field_back_right')), ('stats_vel_to_ball', Array(shape=(1,), dtype=dtype('float64'), name='stats_vel_to_ball')), ('stats_closest_vel_to_ball', Array(shape=(1,), dtype=dtype('float64'), name='stats_closest_vel_to_ball')), ('stats_veloc_forward', Array(shape=(1,), dtype=dtype('float64'), name='stats_veloc_forward')), ('stats_vel_ball_to_goal', Array(shape=(1,), dtype=dtype('float64'), name='stats_vel_ball_to_goal')), ('stats_home_avg_teammate_dist', Array(shape=(1,), dtype=dtype('float64'), name='stats_home_avg_teammate_dist')), ('stats_teammate_spread_out', Array(shape=(1,), dtype=dtype('bool'), name='stats_teammate_spread_out')), ('stats_home_score', Array(shape=(1,), dtype=dtype('float64'), name='stats_home_score')), ('stats_away_score', Array(shape=(1,), dtype=dtype('float64'), name='stats_away_score'))])\n",
            "OrderedDict([('body_height', Array(shape=(1,), dtype=dtype('float64'), name='body_height')), ('end_effectors_pos', Array(shape=(1, 3), dtype=dtype('float64'), name='end_effectors_pos')), ('joints_pos', Array(shape=(1, 1), dtype=dtype('float64'), name='joints_pos')), ('joints_vel', Array(shape=(1, 1), dtype=dtype('float64'), name='joints_vel')), ('prev_action', Array(shape=(1, 3), dtype=dtype('float64'), name='prev_action')), ('sensors_accelerometer', Array(shape=(1, 3), dtype=dtype('float64'), name='sensors_accelerometer')), ('sensors_gyro', Array(shape=(1, 3), dtype=dtype('float64'), name='sensors_gyro')), ('sensors_velocimeter', Array(shape=(1, 3), dtype=dtype('float64'), name='sensors_velocimeter')), ('world_zaxis', Array(shape=(1, 3), dtype=dtype('float64'), name='world_zaxis')), ('ball_ego_angular_velocity', Array(shape=(1, 3), dtype=dtype('float64'), name='ball_ego_angular_velocity')), ('ball_ego_position', Array(shape=(1, 3), dtype=dtype('float64'), name='ball_ego_position')), ('ball_ego_linear_velocity', Array(shape=(1, 3), dtype=dtype('float64'), name='ball_ego_linear_velocity')), ('teammate_0_ego_linear_velocity', Array(shape=(1, 3), dtype=dtype('float64'), name='teammate_0_ego_linear_velocity')), ('teammate_0_ego_position', Array(shape=(1, 3), dtype=dtype('float64'), name='teammate_0_ego_position')), ('teammate_0_ego_orientation', Array(shape=(1, 9), dtype=dtype('float64'), name='teammate_0_ego_orientation')), ('teammate_0_ego_end_effectors_pos', Array(shape=(1, 3), dtype=dtype('float64'), name='teammate_0_ego_end_effectors_pos')), ('teammate_0_end_effectors_pos', Array(shape=(1, 3), dtype=dtype('float64'), name='teammate_0_end_effectors_pos')), ('opponent_0_ego_linear_velocity', Array(shape=(1, 3), dtype=dtype('float64'), name='opponent_0_ego_linear_velocity')), ('opponent_0_ego_position', Array(shape=(1, 3), dtype=dtype('float64'), name='opponent_0_ego_position')), ('opponent_0_ego_orientation', Array(shape=(1, 9), dtype=dtype('float64'), name='opponent_0_ego_orientation')), ('opponent_0_ego_end_effectors_pos', Array(shape=(1, 3), dtype=dtype('float64'), name='opponent_0_ego_end_effectors_pos')), ('opponent_0_end_effectors_pos', Array(shape=(1, 3), dtype=dtype('float64'), name='opponent_0_end_effectors_pos')), ('opponent_1_ego_linear_velocity', Array(shape=(1, 3), dtype=dtype('float64'), name='opponent_1_ego_linear_velocity')), ('opponent_1_ego_position', Array(shape=(1, 3), dtype=dtype('float64'), name='opponent_1_ego_position')), ('opponent_1_ego_orientation', Array(shape=(1, 9), dtype=dtype('float64'), name='opponent_1_ego_orientation')), ('opponent_1_ego_end_effectors_pos', Array(shape=(1, 3), dtype=dtype('float64'), name='opponent_1_ego_end_effectors_pos')), ('opponent_1_end_effectors_pos', Array(shape=(1, 3), dtype=dtype('float64'), name='opponent_1_end_effectors_pos')), ('team_goal_back_right', Array(shape=(1, 2), dtype=dtype('float64'), name='team_goal_back_right')), ('team_goal_mid', Array(shape=(1, 3), dtype=dtype('float64'), name='team_goal_mid')), ('team_goal_front_left', Array(shape=(1, 2), dtype=dtype('float64'), name='team_goal_front_left')), ('field_front_left', Array(shape=(1, 2), dtype=dtype('float64'), name='field_front_left')), ('opponent_goal_back_left', Array(shape=(1, 2), dtype=dtype('float64'), name='opponent_goal_back_left')), ('opponent_goal_mid', Array(shape=(1, 3), dtype=dtype('float64'), name='opponent_goal_mid')), ('opponent_goal_front_right', Array(shape=(1, 2), dtype=dtype('float64'), name='opponent_goal_front_right')), ('field_back_right', Array(shape=(1, 2), dtype=dtype('float64'), name='field_back_right')), ('stats_vel_to_ball', Array(shape=(1,), dtype=dtype('float64'), name='stats_vel_to_ball')), ('stats_closest_vel_to_ball', Array(shape=(1,), dtype=dtype('float64'), name='stats_closest_vel_to_ball')), ('stats_veloc_forward', Array(shape=(1,), dtype=dtype('float64'), name='stats_veloc_forward')), ('stats_vel_ball_to_goal', Array(shape=(1,), dtype=dtype('float64'), name='stats_vel_ball_to_goal')), ('stats_home_avg_teammate_dist', Array(shape=(1,), dtype=dtype('float64'), name='stats_home_avg_teammate_dist')), ('stats_teammate_spread_out', Array(shape=(1,), dtype=dtype('bool'), name='stats_teammate_spread_out')), ('stats_home_score', Array(shape=(1,), dtype=dtype('float64'), name='stats_home_score')), ('stats_away_score', Array(shape=(1,), dtype=dtype('float64'), name='stats_away_score'))])\n",
            "OrderedDict([('body_height', Array(shape=(1,), dtype=dtype('float64'), name='body_height')), ('end_effectors_pos', Array(shape=(1, 3), dtype=dtype('float64'), name='end_effectors_pos')), ('joints_pos', Array(shape=(1, 1), dtype=dtype('float64'), name='joints_pos')), ('joints_vel', Array(shape=(1, 1), dtype=dtype('float64'), name='joints_vel')), ('prev_action', Array(shape=(1, 3), dtype=dtype('float64'), name='prev_action')), ('sensors_accelerometer', Array(shape=(1, 3), dtype=dtype('float64'), name='sensors_accelerometer')), ('sensors_gyro', Array(shape=(1, 3), dtype=dtype('float64'), name='sensors_gyro')), ('sensors_velocimeter', Array(shape=(1, 3), dtype=dtype('float64'), name='sensors_velocimeter')), ('world_zaxis', Array(shape=(1, 3), dtype=dtype('float64'), name='world_zaxis')), ('ball_ego_angular_velocity', Array(shape=(1, 3), dtype=dtype('float64'), name='ball_ego_angular_velocity')), ('ball_ego_position', Array(shape=(1, 3), dtype=dtype('float64'), name='ball_ego_position')), ('ball_ego_linear_velocity', Array(shape=(1, 3), dtype=dtype('float64'), name='ball_ego_linear_velocity')), ('opponent_0_ego_linear_velocity', Array(shape=(1, 3), dtype=dtype('float64'), name='opponent_0_ego_linear_velocity')), ('opponent_0_ego_position', Array(shape=(1, 3), dtype=dtype('float64'), name='opponent_0_ego_position')), ('opponent_0_ego_orientation', Array(shape=(1, 9), dtype=dtype('float64'), name='opponent_0_ego_orientation')), ('opponent_0_ego_end_effectors_pos', Array(shape=(1, 3), dtype=dtype('float64'), name='opponent_0_ego_end_effectors_pos')), ('opponent_0_end_effectors_pos', Array(shape=(1, 3), dtype=dtype('float64'), name='opponent_0_end_effectors_pos')), ('opponent_1_ego_linear_velocity', Array(shape=(1, 3), dtype=dtype('float64'), name='opponent_1_ego_linear_velocity')), ('opponent_1_ego_position', Array(shape=(1, 3), dtype=dtype('float64'), name='opponent_1_ego_position')), ('opponent_1_ego_orientation', Array(shape=(1, 9), dtype=dtype('float64'), name='opponent_1_ego_orientation')), ('opponent_1_ego_end_effectors_pos', Array(shape=(1, 3), dtype=dtype('float64'), name='opponent_1_ego_end_effectors_pos')), ('opponent_1_end_effectors_pos', Array(shape=(1, 3), dtype=dtype('float64'), name='opponent_1_end_effectors_pos')), ('teammate_0_ego_linear_velocity', Array(shape=(1, 3), dtype=dtype('float64'), name='teammate_0_ego_linear_velocity')), ('teammate_0_ego_position', Array(shape=(1, 3), dtype=dtype('float64'), name='teammate_0_ego_position')), ('teammate_0_ego_orientation', Array(shape=(1, 9), dtype=dtype('float64'), name='teammate_0_ego_orientation')), ('teammate_0_ego_end_effectors_pos', Array(shape=(1, 3), dtype=dtype('float64'), name='teammate_0_ego_end_effectors_pos')), ('teammate_0_end_effectors_pos', Array(shape=(1, 3), dtype=dtype('float64'), name='teammate_0_end_effectors_pos')), ('team_goal_back_right', Array(shape=(1, 2), dtype=dtype('float64'), name='team_goal_back_right')), ('team_goal_mid', Array(shape=(1, 3), dtype=dtype('float64'), name='team_goal_mid')), ('team_goal_front_left', Array(shape=(1, 2), dtype=dtype('float64'), name='team_goal_front_left')), ('field_front_left', Array(shape=(1, 2), dtype=dtype('float64'), name='field_front_left')), ('opponent_goal_back_left', Array(shape=(1, 2), dtype=dtype('float64'), name='opponent_goal_back_left')), ('opponent_goal_mid', Array(shape=(1, 3), dtype=dtype('float64'), name='opponent_goal_mid')), ('opponent_goal_front_right', Array(shape=(1, 2), dtype=dtype('float64'), name='opponent_goal_front_right')), ('field_back_right', Array(shape=(1, 2), dtype=dtype('float64'), name='field_back_right')), ('stats_vel_to_ball', Array(shape=(1,), dtype=dtype('float64'), name='stats_vel_to_ball')), ('stats_closest_vel_to_ball', Array(shape=(1,), dtype=dtype('float64'), name='stats_closest_vel_to_ball')), ('stats_veloc_forward', Array(shape=(1,), dtype=dtype('float64'), name='stats_veloc_forward')), ('stats_vel_ball_to_goal', Array(shape=(1,), dtype=dtype('float64'), name='stats_vel_ball_to_goal')), ('stats_home_avg_teammate_dist', Array(shape=(1,), dtype=dtype('float64'), name='stats_home_avg_teammate_dist')), ('stats_teammate_spread_out', Array(shape=(1,), dtype=dtype('bool'), name='stats_teammate_spread_out')), ('stats_home_score', Array(shape=(1,), dtype=dtype('float64'), name='stats_home_score')), ('stats_away_score', Array(shape=(1,), dtype=dtype('float64'), name='stats_away_score'))])\n",
            "OrderedDict([('body_height', Array(shape=(1,), dtype=dtype('float64'), name='body_height')), ('end_effectors_pos', Array(shape=(1, 3), dtype=dtype('float64'), name='end_effectors_pos')), ('joints_pos', Array(shape=(1, 1), dtype=dtype('float64'), name='joints_pos')), ('joints_vel', Array(shape=(1, 1), dtype=dtype('float64'), name='joints_vel')), ('prev_action', Array(shape=(1, 3), dtype=dtype('float64'), name='prev_action')), ('sensors_accelerometer', Array(shape=(1, 3), dtype=dtype('float64'), name='sensors_accelerometer')), ('sensors_gyro', Array(shape=(1, 3), dtype=dtype('float64'), name='sensors_gyro')), ('sensors_velocimeter', Array(shape=(1, 3), dtype=dtype('float64'), name='sensors_velocimeter')), ('world_zaxis', Array(shape=(1, 3), dtype=dtype('float64'), name='world_zaxis')), ('ball_ego_angular_velocity', Array(shape=(1, 3), dtype=dtype('float64'), name='ball_ego_angular_velocity')), ('ball_ego_position', Array(shape=(1, 3), dtype=dtype('float64'), name='ball_ego_position')), ('ball_ego_linear_velocity', Array(shape=(1, 3), dtype=dtype('float64'), name='ball_ego_linear_velocity')), ('opponent_0_ego_linear_velocity', Array(shape=(1, 3), dtype=dtype('float64'), name='opponent_0_ego_linear_velocity')), ('opponent_0_ego_position', Array(shape=(1, 3), dtype=dtype('float64'), name='opponent_0_ego_position')), ('opponent_0_ego_orientation', Array(shape=(1, 9), dtype=dtype('float64'), name='opponent_0_ego_orientation')), ('opponent_0_ego_end_effectors_pos', Array(shape=(1, 3), dtype=dtype('float64'), name='opponent_0_ego_end_effectors_pos')), ('opponent_0_end_effectors_pos', Array(shape=(1, 3), dtype=dtype('float64'), name='opponent_0_end_effectors_pos')), ('opponent_1_ego_linear_velocity', Array(shape=(1, 3), dtype=dtype('float64'), name='opponent_1_ego_linear_velocity')), ('opponent_1_ego_position', Array(shape=(1, 3), dtype=dtype('float64'), name='opponent_1_ego_position')), ('opponent_1_ego_orientation', Array(shape=(1, 9), dtype=dtype('float64'), name='opponent_1_ego_orientation')), ('opponent_1_ego_end_effectors_pos', Array(shape=(1, 3), dtype=dtype('float64'), name='opponent_1_ego_end_effectors_pos')), ('opponent_1_end_effectors_pos', Array(shape=(1, 3), dtype=dtype('float64'), name='opponent_1_end_effectors_pos')), ('teammate_0_ego_linear_velocity', Array(shape=(1, 3), dtype=dtype('float64'), name='teammate_0_ego_linear_velocity')), ('teammate_0_ego_position', Array(shape=(1, 3), dtype=dtype('float64'), name='teammate_0_ego_position')), ('teammate_0_ego_orientation', Array(shape=(1, 9), dtype=dtype('float64'), name='teammate_0_ego_orientation')), ('teammate_0_ego_end_effectors_pos', Array(shape=(1, 3), dtype=dtype('float64'), name='teammate_0_ego_end_effectors_pos')), ('teammate_0_end_effectors_pos', Array(shape=(1, 3), dtype=dtype('float64'), name='teammate_0_end_effectors_pos')), ('team_goal_back_right', Array(shape=(1, 2), dtype=dtype('float64'), name='team_goal_back_right')), ('team_goal_mid', Array(shape=(1, 3), dtype=dtype('float64'), name='team_goal_mid')), ('team_goal_front_left', Array(shape=(1, 2), dtype=dtype('float64'), name='team_goal_front_left')), ('field_front_left', Array(shape=(1, 2), dtype=dtype('float64'), name='field_front_left')), ('opponent_goal_back_left', Array(shape=(1, 2), dtype=dtype('float64'), name='opponent_goal_back_left')), ('opponent_goal_mid', Array(shape=(1, 3), dtype=dtype('float64'), name='opponent_goal_mid')), ('opponent_goal_front_right', Array(shape=(1, 2), dtype=dtype('float64'), name='opponent_goal_front_right')), ('field_back_right', Array(shape=(1, 2), dtype=dtype('float64'), name='field_back_right')), ('stats_vel_to_ball', Array(shape=(1,), dtype=dtype('float64'), name='stats_vel_to_ball')), ('stats_closest_vel_to_ball', Array(shape=(1,), dtype=dtype('float64'), name='stats_closest_vel_to_ball')), ('stats_veloc_forward', Array(shape=(1,), dtype=dtype('float64'), name='stats_veloc_forward')), ('stats_vel_ball_to_goal', Array(shape=(1,), dtype=dtype('float64'), name='stats_vel_ball_to_goal')), ('stats_home_avg_teammate_dist', Array(shape=(1,), dtype=dtype('float64'), name='stats_home_avg_teammate_dist')), ('stats_teammate_spread_out', Array(shape=(1,), dtype=dtype('bool'), name='stats_teammate_spread_out')), ('stats_home_score', Array(shape=(1,), dtype=dtype('float64'), name='stats_home_score')), ('stats_away_score', Array(shape=(1,), dtype=dtype('float64'), name='stats_away_score'))])\n"
          ]
        }
      ]
    },
    {
      "cell_type": "code",
      "source": [
        "env.action_spec()"
      ],
      "metadata": {
        "id": "lyjgCECetk-k",
        "colab": {
          "base_uri": "https://localhost:8080/"
        },
        "outputId": "98729fc4-3ae8-4382-f117-412657042d6a"
      },
      "execution_count": 40,
      "outputs": [
        {
          "output_type": "execute_result",
          "data": {
            "text/plain": [
              "[BoundedArray(shape=(3,), dtype=dtype('float64'), name='roll\\tsteer\\tkick', minimum=[-1. -1. -1.], maximum=[1. 1. 1.]),\n",
              " BoundedArray(shape=(3,), dtype=dtype('float64'), name='roll\\tsteer\\tkick', minimum=[-1. -1. -1.], maximum=[1. 1. 1.]),\n",
              " BoundedArray(shape=(3,), dtype=dtype('float64'), name='roll\\tsteer\\tkick', minimum=[-1. -1. -1.], maximum=[1. 1. 1.]),\n",
              " BoundedArray(shape=(3,), dtype=dtype('float64'), name='roll\\tsteer\\tkick', minimum=[-1. -1. -1.], maximum=[1. 1. 1.])]"
            ]
          },
          "metadata": {},
          "execution_count": 40
        }
      ]
    },
    {
      "cell_type": "markdown",
      "source": [
        "# Wrap dm_soccer into a gym env"
      ],
      "metadata": {
        "id": "Er9Aj3pZGNt1"
      }
    },
    {
      "cell_type": "markdown",
      "source": [
        "## dm_soccer gym wrapper - status: Active\n",
        "\n",
        "https://github.com/hcch0912/gym_wrapper_dm_soccer\n",
        "\n"
      ],
      "metadata": {
        "id": "UivWmt7zNYwP"
      }
    },
    {
      "cell_type": "code",
      "source": [
        "import numpy as np\n",
        "from dm_control.locomotion import soccer as dm_soccer\n",
        "from gym.spaces import Box\n",
        "import sys\n",
        "\n",
        "class DMSoccer():\n",
        "    def __init__(self, batch_size=None, **kwargs):\n",
        "        # super().__init__(batch_size, **kwargs)\n",
        "        self.base_env = dm_soccer.load(kwargs[\"team_size\"], kwargs[\"time_limit\"])\n",
        "        act_spec = self.base_env.action_spec()\n",
        "        self.n_agents = len(act_spec)\n",
        "        self.observation_space = Box(low=-10000, high=10000, shape=(self.n_agents,476 ))\n",
        "        # self.observation_space = Box(low=-10000, high=10000, shape=(self.n_agents,154 ))\n",
        "        self.action_space = Box(low=-1, high=1, shape=(self.n_agents, 3)) \n",
        "\n",
        "    def parse_obs(self, observation):\n",
        "        obs = [[]] * self.n_agents\n",
        "        for i in range(self.n_agents):\n",
        "            for _, v in observation[i].items():\n",
        "                v = v.flatten()\n",
        "                for j in range(len(v)):\n",
        "                    obs[i].append(float(v[j]))\n",
        "        return np.array(obs)\n",
        "\n",
        "    def get_reward(self, observation, origin_reward):\n",
        "        \"\"\"if goal, return the original reward, else, return the shaped dense reward\n",
        "        \"\"\"\n",
        "        rewards = [0.0] * self.n_agents\n",
        "        for i in range(self.n_agents):\n",
        "            if not origin_reward or origin_reward[i] == 0.0:\n",
        "                home_score = observation[i][\"stats_home_score\"]\n",
        "                away_score = observation[i][\"stats_away_score\"]\n",
        "                velocity_to_ball = observation[i][\"stats_vel_to_ball\"]\n",
        "                velocity_to_goal = observation[i][\"stats_vel_ball_to_goal\"]\n",
        "                rewards[i] = (\n",
        "                    home_score\n",
        "                    - away_score\n",
        "                    + 0.001 * velocity_to_ball\n",
        "                    + 0.002 * velocity_to_goal\n",
        "                )\n",
        "            else:\n",
        "                rewards[i] = origin_reward[i]\n",
        "        return rewards\n",
        "\n",
        "    def step(self, actions):\n",
        "        try:\n",
        "            timestep = self.base_env.step(actions)\n",
        "        except:\n",
        "            obs = self.parse_obs(self.base_env.reset().observation)\n",
        "            return obs, [0] * self.n_agents, True, None\n",
        "        # concatenate all the values in the observation dict as the observation for each agent\n",
        "        obs = self.parse_obs(timestep.observation)\n",
        "        done = timestep.discount == 0\n",
        "\n",
        "        # reward = self.get_reward(timestep.observation, timestep.reward)\n",
        "        reward = timestep.reward\n",
        "        return obs, reward, done, None\n",
        "\n",
        "    def reset(self, **kwargs):\n",
        "        timestep = self.base_env.reset()\n",
        "        obs = self.parse_obs(timestep.observation)\n",
        "        return obs\n",
        "\n",
        "    def render(self, **kwargs):\n",
        "        self.base_env.render()\n"
      ],
      "metadata": {
        "id": "MoODKvW2UpT1"
      },
      "execution_count": 24,
      "outputs": []
    },
    {
      "cell_type": "code",
      "source": [
        "dm_env = DMSoccer(team_size=2, time_limit=45,)\n",
        "obs = dm_env.reset() \n",
        "done = False"
      ],
      "metadata": {
        "id": "6DXP41LVYN3B"
      },
      "execution_count": 25,
      "outputs": []
    },
    {
      "cell_type": "code",
      "source": [
        "dm_env.observation_space"
      ],
      "metadata": {
        "colab": {
          "base_uri": "https://localhost:8080/"
        },
        "id": "K3Zi3k-qYO26",
        "outputId": "42390ba3-98b9-4383-8b6c-b693feb48395"
      },
      "execution_count": 26,
      "outputs": [
        {
          "output_type": "execute_result",
          "data": {
            "text/plain": [
              "Box(-10000.0, 10000.0, (4, 476), float32)"
            ]
          },
          "metadata": {},
          "execution_count": 26
        }
      ]
    },
    {
      "cell_type": "code",
      "source": [
        "# while not done:\n",
        "for i in range(10):\n",
        "  actions = [] \n",
        "  for action_spec in range(len(obs)):\n",
        "    action = np.random.uniform(-1, 1, size=(3,))\n",
        "    actions.append(action)\n",
        "\n",
        "  obs, reward, done, _ = dm_env.step(actions)\n",
        "  print(reward, action, obs)"
      ],
      "metadata": {
        "id": "2CUWazJVYrGm"
      },
      "execution_count": null,
      "outputs": []
    },
    {
      "cell_type": "code",
      "source": [
        "class DMSoccerEnv(gym.Env):\n",
        "    def __init__(self):\n",
        "        self.env = DMSoccer(team_size=2, time_limit=45.,)\n",
        "        self.n_agents = self.env.n_agents\n",
        "        self.observation_space = self.env.observation_space\n",
        "        self.action_space = self.env.action_space\n",
        "\n",
        "    def step(self, action):\n",
        "        next_state, reward, done, info = self.env.step(action)\n",
        "        return next_state, reward, done, info\n",
        "\n",
        "    def reset(self):\n",
        "      return self.env.reset()\n",
        "\n",
        "    def render(self):\n",
        "      self.env.render()\n",
        "\n",
        "    def close(self):\n",
        "      pass"
      ],
      "metadata": {
        "id": "jC4ME9NEAI30"
      },
      "execution_count": 28,
      "outputs": []
    },
    {
      "cell_type": "code",
      "source": [
        "# https://stackoverflow.com/questions/67087799/register-gym-environment-that-is-defined-inside-a-jupyter-notebook-cell\n",
        "\n",
        "# The underlying module name can be retrieved using\n",
        "import sys\n",
        "sys.modules[__name__]\n",
        "\n",
        "# Therefore the module's name for the entrypoint is \"main\"\n",
        "try:\n",
        "  gym.envs.register(\n",
        "      id='DMSoccerEnv-v0',\n",
        "      entry_point='__main__:DMSoccerEnv',\n",
        "  )\n",
        "except:\n",
        "    pass"
      ],
      "metadata": {
        "id": "jEZWyKZvHk1T"
      },
      "execution_count": 29,
      "outputs": []
    },
    {
      "cell_type": "code",
      "source": [
        "dm_env_v2 = gym.make('DMSoccerEnv-v0')\n",
        "obs = dm_env_v2.reset() \n",
        "done = False"
      ],
      "metadata": {
        "id": "IKQdnymVDaHG"
      },
      "execution_count": 30,
      "outputs": []
    },
    {
      "cell_type": "code",
      "source": [
        "# while not done:\n",
        "for i in range(10):\n",
        "  actions = [] \n",
        "  for action_spec in range(len(obs)):\n",
        "    action = np.random.uniform(-1, 1, size=(3,))\n",
        "    actions.append(action)\n",
        "\n",
        "  obs, reward, done, _ = dm_env_v2.step(actions)\n",
        "  print(reward, action, obs)"
      ],
      "metadata": {
        "id": "HzcwxshUB8op"
      },
      "execution_count": null,
      "outputs": []
    },
    {
      "cell_type": "code",
      "source": [
        "obs.shape"
      ],
      "metadata": {
        "colab": {
          "base_uri": "https://localhost:8080/"
        },
        "id": "DkTu3gI-nIwj",
        "outputId": "022ebac1-a781-443f-949e-6d8fba9ca0eb"
      },
      "execution_count": 32,
      "outputs": [
        {
          "output_type": "execute_result",
          "data": {
            "text/plain": [
              "(4, 476)"
            ]
          },
          "metadata": {},
          "execution_count": 32
        }
      ]
    },
    {
      "cell_type": "code",
      "source": [
        "dm_env_v2.observation_space"
      ],
      "metadata": {
        "colab": {
          "base_uri": "https://localhost:8080/"
        },
        "id": "7W9PwFplU4vO",
        "outputId": "6fe91348-11e5-43dc-b711-fe9d1f7325b7"
      },
      "execution_count": 33,
      "outputs": [
        {
          "output_type": "execute_result",
          "data": {
            "text/plain": [
              "Box(-10000.0, 10000.0, (4, 476), float32)"
            ]
          },
          "metadata": {},
          "execution_count": 33
        }
      ]
    },
    {
      "cell_type": "code",
      "source": [
        "def make_env(env_id: str, rank: int, seed: int = 0):\n",
        "  def _init():\n",
        "    env = gym.make(env_id)\n",
        "    env.seed(seed + rank)\n",
        "    return env\n",
        "  torch.manual_seed(seed)\n",
        "  return _init\n",
        "\n",
        "num_cpu = 2\n",
        "env_p = gym.vector.SyncVectorEnv([make_env('DMSoccerEnv-v0', i) for i in range(num_cpu)])"
      ],
      "metadata": {
        "id": "mgfO1OESs3lo"
      },
      "execution_count": 34,
      "outputs": []
    },
    {
      "cell_type": "code",
      "source": [
        "env_p.single_observation_space, env_p.observation_space"
      ],
      "metadata": {
        "colab": {
          "base_uri": "https://localhost:8080/"
        },
        "id": "fvu1H-ywXRDg",
        "outputId": "8abde6f2-8c70-4cb8-d26f-c75da2a9d8ff"
      },
      "execution_count": 35,
      "outputs": [
        {
          "output_type": "execute_result",
          "data": {
            "text/plain": [
              "(Box(-10000.0, 10000.0, (4, 476), float32),\n",
              " Box(-10000.0, 10000.0, (2, 4, 476), float32))"
            ]
          },
          "metadata": {},
          "execution_count": 35
        }
      ]
    },
    {
      "cell_type": "code",
      "source": [
        "env_p.reset().shape"
      ],
      "metadata": {
        "colab": {
          "base_uri": "https://localhost:8080/"
        },
        "id": "Wy1HwJ-8ln8N",
        "outputId": "48390cbf-c1ee-45a6-889e-cc143e90d13c"
      },
      "execution_count": 37,
      "outputs": [
        {
          "output_type": "execute_result",
          "data": {
            "text/plain": [
              "(2, 4, 476)"
            ]
          },
          "metadata": {},
          "execution_count": 37
        }
      ]
    },
    {
      "cell_type": "code",
      "source": [
        "env_p.action_space"
      ],
      "metadata": {
        "colab": {
          "base_uri": "https://localhost:8080/"
        },
        "id": "fChRyu_z9Q-W",
        "outputId": "58e6a042-dcb4-4892-f5e5-7e00057d3cda"
      },
      "execution_count": 38,
      "outputs": [
        {
          "output_type": "execute_result",
          "data": {
            "text/plain": [
              "Tuple(Box(-1.0, 1.0, (4, 3), float32), Box(-1.0, 1.0, (4, 3), float32))"
            ]
          },
          "metadata": {},
          "execution_count": 38
        }
      ]
    },
    {
      "cell_type": "code",
      "source": [
        "for n_envs in range(2):\n",
        "  tuple_actions = []\n",
        "  actions = [] \n",
        "  for players in range(4):\n",
        "    action = np.random.uniform(-1, 1, size=(3,))\n",
        "    actions.append(action)\n",
        "  np_actions = np.array(actions)\n",
        "  tuple_actions.append(np_actions)\n",
        "\n",
        "tuple_actions = tuple(tuple_actions)\n",
        "obs, reward, done, _ = dm_env.step(actions)\n",
        "print(reward)\n",
        "print (tuple_actions)\n",
        "print( obs)"
      ],
      "metadata": {
        "colab": {
          "base_uri": "https://localhost:8080/"
        },
        "id": "G0MWViKR8VWi",
        "outputId": "a24c24e8-100b-47fc-a691-6c53ced63d6a"
      },
      "execution_count": 45,
      "outputs": [
        {
          "output_type": "stream",
          "name": "stdout",
          "text": [
            "[array(0., dtype=float32), array(0., dtype=float32), array(0., dtype=float32), array(0., dtype=float32)]\n",
            "(array([[-0.25077477,  0.25171983,  0.00627252],\n",
            "       [ 0.71297968,  0.31738726, -0.67413115],\n",
            "       [-0.85886251,  0.28483856, -0.94697738],\n",
            "       [ 0.17155116,  0.88046048,  0.15094836]]),)\n",
            "[[1.11176686 0.         0.         ... 1.         0.         0.        ]\n",
            " [1.11176686 0.         0.         ... 1.         0.         0.        ]\n",
            " [1.11176686 0.         0.         ... 1.         0.         0.        ]\n",
            " [1.11176686 0.         0.         ... 1.         0.         0.        ]]\n"
          ]
        }
      ]
    },
    {
      "cell_type": "markdown",
      "source": [
        "#### debug"
      ],
      "metadata": {
        "id": "ILyd8iEB6bYT"
      }
    },
    {
      "cell_type": "code",
      "source": [
        "%debug"
      ],
      "metadata": {
        "colab": {
          "base_uri": "https://localhost:8080/"
        },
        "id": "Ga8MsSNwl-DB",
        "outputId": "2b7f6ee2-e815-44d0-9198-12f76cd174fd"
      },
      "execution_count": 44,
      "outputs": [
        {
          "name": "stdout",
          "output_type": "stream",
          "text": [
            "> \u001b[0;32m<__array_function__ internals>\u001b[0m(6)\u001b[0;36mconcatenate\u001b[0;34m()\u001b[0m\n",
            "\n",
            "ipdb> arrays\n",
            "*** NameError: name 'arrays' is not defined\n",
            "ipdb> up\n",
            "> \u001b[0;32m/usr/local/lib/python3.7/dist-packages/numpy/core/shape_base.py\u001b[0m(434)\u001b[0;36mstack\u001b[0;34m()\u001b[0m\n",
            "\u001b[0;32m    432 \u001b[0;31m    \u001b[0msl\u001b[0m \u001b[0;34m=\u001b[0m \u001b[0;34m(\u001b[0m\u001b[0mslice\u001b[0m\u001b[0;34m(\u001b[0m\u001b[0;32mNone\u001b[0m\u001b[0;34m)\u001b[0m\u001b[0;34m,\u001b[0m\u001b[0;34m)\u001b[0m \u001b[0;34m*\u001b[0m \u001b[0maxis\u001b[0m \u001b[0;34m+\u001b[0m \u001b[0;34m(\u001b[0m\u001b[0m_nx\u001b[0m\u001b[0;34m.\u001b[0m\u001b[0mnewaxis\u001b[0m\u001b[0;34m,\u001b[0m\u001b[0;34m)\u001b[0m\u001b[0;34m\u001b[0m\u001b[0;34m\u001b[0m\u001b[0m\n",
            "\u001b[0m\u001b[0;32m    433 \u001b[0;31m    \u001b[0mexpanded_arrays\u001b[0m \u001b[0;34m=\u001b[0m \u001b[0;34m[\u001b[0m\u001b[0marr\u001b[0m\u001b[0;34m[\u001b[0m\u001b[0msl\u001b[0m\u001b[0;34m]\u001b[0m \u001b[0;32mfor\u001b[0m \u001b[0marr\u001b[0m \u001b[0;32min\u001b[0m \u001b[0marrays\u001b[0m\u001b[0;34m]\u001b[0m\u001b[0;34m\u001b[0m\u001b[0;34m\u001b[0m\u001b[0m\n",
            "\u001b[0m\u001b[0;32m--> 434 \u001b[0;31m    \u001b[0;32mreturn\u001b[0m \u001b[0m_nx\u001b[0m\u001b[0;34m.\u001b[0m\u001b[0mconcatenate\u001b[0m\u001b[0;34m(\u001b[0m\u001b[0mexpanded_arrays\u001b[0m\u001b[0;34m,\u001b[0m \u001b[0maxis\u001b[0m\u001b[0;34m=\u001b[0m\u001b[0maxis\u001b[0m\u001b[0;34m,\u001b[0m \u001b[0mout\u001b[0m\u001b[0;34m=\u001b[0m\u001b[0mout\u001b[0m\u001b[0;34m)\u001b[0m\u001b[0;34m\u001b[0m\u001b[0;34m\u001b[0m\u001b[0m\n",
            "\u001b[0m\u001b[0;32m    435 \u001b[0;31m\u001b[0;34m\u001b[0m\u001b[0m\n",
            "\u001b[0m\u001b[0;32m    436 \u001b[0;31m\u001b[0;34m\u001b[0m\u001b[0m\n",
            "\u001b[0m\n",
            "ipdb> arrays\n",
            "[array([[1., 0., 0., ..., 1., 0., 0.],\n",
            "       [1., 0., 0., ..., 1., 0., 0.],\n",
            "       [1., 0., 0., ..., 1., 0., 0.],\n",
            "       [1., 0., 0., ..., 1., 0., 0.]]), array([[1., 0., 0., ..., 1., 0., 0.],\n",
            "       [1., 0., 0., ..., 1., 0., 0.],\n",
            "       [1., 0., 0., ..., 1., 0., 0.],\n",
            "       [1., 0., 0., ..., 1., 0., 0.]])]\n",
            "ipdb> arrays.shape\n",
            "*** AttributeError: 'list' object has no attribute 'shape'\n",
            "ipdb> len(arrays)\n",
            "2\n",
            "ipdb> _nx\n",
            "<module 'numpy.core.numeric' from '/usr/local/lib/python3.7/dist-packages/numpy/core/numeric.py'>\n",
            "ipdb> arrays[0]\n",
            "array([[1., 0., 0., ..., 1., 0., 0.],\n",
            "       [1., 0., 0., ..., 1., 0., 0.],\n",
            "       [1., 0., 0., ..., 1., 0., 0.],\n",
            "       [1., 0., 0., ..., 1., 0., 0.]])\n",
            "ipdb> arrays[0].shape\n",
            "(4, 476)\n",
            "ipdb> np.concatenate(expanded_arrays, axis=0)\n",
            "*** NameError: name 'np' is not defined\n",
            "ipdb> _nx.concatenate(expanded_arrays,axis=0)\n",
            "array([[[1., 0., 0., ..., 1., 0., 0.],\n",
            "        [1., 0., 0., ..., 1., 0., 0.],\n",
            "        [1., 0., 0., ..., 1., 0., 0.],\n",
            "        [1., 0., 0., ..., 1., 0., 0.]],\n",
            "\n",
            "       [[1., 0., 0., ..., 1., 0., 0.],\n",
            "        [1., 0., 0., ..., 1., 0., 0.],\n",
            "        [1., 0., 0., ..., 1., 0., 0.],\n",
            "        [1., 0., 0., ..., 1., 0., 0.]]])\n",
            "ipdb> out\n",
            "array([[[0., 0., 0., ..., 0., 0., 0.],\n",
            "        [0., 0., 0., ..., 0., 0., 0.],\n",
            "        [0., 0., 0., ..., 0., 0., 0.],\n",
            "        [0., 0., 0., ..., 0., 0., 0.]],\n",
            "\n",
            "       [[0., 0., 0., ..., 0., 0., 0.],\n",
            "        [0., 0., 0., ..., 0., 0., 0.],\n",
            "        [0., 0., 0., ..., 0., 0., 0.],\n",
            "        [0., 0., 0., ..., 0., 0., 0.]]], dtype=float32)\n",
            "ipdb> out.shape\n",
            "(2, 4, 154)\n",
            "ipdb> _nx.concatenate(expanded_arrays,axis=0).shape\n",
            "(2, 4, 476)\n",
            "ipdb> exit\n"
          ]
        },
        {
          "output_type": "stream",
          "name": "stderr",
          "text": [
            "\n",
            "PYDEV DEBUGGER WARNING:\n",
            "sys.settrace() should not be used when the debugger is being used.\n",
            "This may cause the debugger to stop working correctly.\n",
            "If this is needed, please check: \n",
            "http://pydev.blogspot.com/2007/06/why-cant-pydev-debugger-work-with.html\n",
            "to see how to restore the debug tracing back correctly.\n",
            "Call Location:\n",
            "  File \"/usr/lib/python3.7/bdb.py\", line 357, in set_quit\n",
            "    sys.settrace(None)\n",
            "\n"
          ]
        }
      ]
    },
    {
      "cell_type": "markdown",
      "source": [
        "## Other versions: (ignore)\n",
        "\n",
        "### Version 1 from gist\n",
        "\n",
        "https://gist.github.com/danijar/2cd9a7a8f256e93fd18a3ffc510b4a72\n",
        "\n",
        "Verdict - reject: not suitable for multi-agent soccer envs but a useful template if we want to wrap our own perhaps"
      ],
      "metadata": {
        "id": "eAwxzjsPUQNY"
      }
    },
    {
      "cell_type": "code",
      "source": [
        "import argparse\n",
        "import os\n",
        "\n",
        "import gym\n",
        "import gym.spaces\n",
        "\n",
        "\n",
        "class DeepMindWrapper(object):\n",
        "  \"\"\"Wraps a DM Control environment into a Gym interface.\"\"\"\n",
        "\n",
        "  metadata = {'render.modes': ['rgb_array']}\n",
        "  reward_range = (-np.inf, np.inf)\n",
        "\n",
        "  def __init__(self, env, render_size=(64, 64), camera_id=0):\n",
        "    self._env = env\n",
        "    self._render_size = render_size\n",
        "    self._camera_id = camera_id\n",
        "    self.n_agents = len(env.task.players)\n",
        "\n",
        "  def __getattr__(self, name):\n",
        "    return getattr(self._env, name)\n",
        "\n",
        "  @property\n",
        "  def observation_space(self):\n",
        "    components = {}\n",
        "    for key, value in self._env.observation_spec().items():\n",
        "      components[key] = gym.spaces.Box(-np.inf, np.inf, value.shape)\n",
        "    return gym.spaces.Dict(components)\n",
        "\n",
        "  @property\n",
        "  def action_space(self):\n",
        "    action_spec = self._env.action_spec()\n",
        "    return gym.spaces.Box(action_spec.minimum, action_spec.maximum)\n",
        "\n",
        "  def step(self, action):\n",
        "    time_step = self._env.step(action)\n",
        "    obs = dict(time_step.observation)\n",
        "    reward = time_step.reward or 0\n",
        "    done = time_step.last()\n",
        "    info = {'discount': time_step.discount}\n",
        "    return obs, reward, done, info\n",
        "\n",
        "  def reset(self):\n",
        "    time_step = self._env.reset()\n",
        "    return dict(time_step.observation)\n",
        "\n",
        "  def render(self, mode='rgb_array', *args, **kwargs):\n",
        "    if mode != 'rgb_array':\n",
        "      raise ValueError(\"Only render mode 'rgb_array' is supported.\")\n",
        "    del args  # Unused.\n",
        "    del kwargs  # Unused.\n",
        "    return self._env.physics.render(\n",
        "        *self._render_size, camera_id=self._camera_id)\n",
        "\n",
        "\n",
        "class SelectKeysWrapper(object):\n",
        "  \"\"\"Select observations from a dict space and concatenate them.\"\"\"\n",
        "\n",
        "  def __init__(self, env, keys):\n",
        "    self._env = env\n",
        "    self._keys = keys\n",
        "\n",
        "  def __getattr__(self, name):\n",
        "    return getattr(self._env, name)\n",
        "\n",
        "  @property\n",
        "  def observation_space(self):\n",
        "    components = self._env.observation_space.spaces\n",
        "    components = [components[key] for key in self._keys]\n",
        "    low = np.concatenate([component.low for component in components], 0)\n",
        "    high = np.concatenate([component.high for component in components], 0)\n",
        "    return gym.spaces.Box(low, high)\n",
        "\n",
        "  def step(self, action):\n",
        "    obs, reward, done, info = self._env.step(action)\n",
        "    obs = self._select_keys(obs)\n",
        "    return obs, reward, done, info\n",
        "\n",
        "  def reset(self):\n",
        "    obs = self._env.reset()\n",
        "    obs = self._select_keys(obs)\n",
        "    return obs\n",
        "\n",
        "  def _select_keys(self, obs):\n",
        "    return np.concatenate([obs[key] for key in self._keys], 0)\n",
        "\n",
        "\n",
        "def create_env(team_size = 2, time_limit=45.):\n",
        "  env = soccer.load(\n",
        "    team_size=team_size,\n",
        "    time_limit=time_limit,\n",
        "    random_state=random_state,\n",
        "    disable_walker_contacts=False,\n",
        "    walker_type=soccer.WalkerType.BOXHEAD,\n",
        "    terminate_on_goal=True\n",
        ")\n",
        "\n",
        "  env = DeepMindWrapper(env)\n",
        "  # env = SelectKeysWrapper(env, ['position', 'velocity', 'to_target'])\n",
        "  return env\n",
        "\n",
        "\n",
        "def dm_soccer():\n",
        "  env = create_env(2, 45)\n",
        "  return env\n",
        "\n",
        "dm_env = dm_soccer()"
      ],
      "metadata": {
        "id": "D8gZcU9RHylb"
      },
      "execution_count": null,
      "outputs": []
    },
    {
      "cell_type": "markdown",
      "source": [
        "### Recommended by ikostrikov\n",
        "\n",
        "(see readme: \n",
        "https://github.com/ikostrikov/pytorch-a2c-ppo-acktr-gail/blob/master/README.md) \n",
        "\n",
        "\"To use the DeepMind Control Suite environments, set the flag --env-name dm.<domain_name>.<task_name>, where domain_name and task_name are the name of a domain (e.g. hopper) and a task within that domain (e.g. stand) from the DeepMind Control Suite. Refer to their repo and their tech report for a full list of available domains and tasks. Other than setting the task, the API for interacting with the environment is exactly the same as for all the Gym environments thanks to dm_control2gym.\"\n",
        "\n",
        "Verdict - did not try it because it is also not multi-agent. "
      ],
      "metadata": {
        "id": "yuOYc6fNMO-o"
      }
    },
    {
      "cell_type": "markdown",
      "source": [
        "### https://github.com/denisyarats/dmc2gym\n",
        "\n",
        "Verdict - did not try because again, not multi-agent"
      ],
      "metadata": {
        "id": "484J53CkML_k"
      }
    },
    {
      "cell_type": "code",
      "source": [
        "! pip install git+git://github.com/denisyarats/dmc2gym.git"
      ],
      "metadata": {
        "id": "AMHhQ0HkGQEW"
      },
      "execution_count": null,
      "outputs": []
    },
    {
      "cell_type": "markdown",
      "source": [
        "# PPO Implementations: \n",
        "\n",
        "## CleanRL\n",
        "\n",
        "https://github.com/vwxyzjn/cleanrl/blob/master/cleanrl/ppo_continuous_action.py\n",
        "\n",
        "\n",
        "## Another PPO implementation: \n",
        "https://github.com/nikhilbarhate99/PPO-PyTorch/blob/master/PPO_colab.ipynb\n"
      ],
      "metadata": {
        "id": "Y4V11wSYCsIE"
      }
    }
  ]
}